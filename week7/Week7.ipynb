{
 "cells": [
  {
   "cell_type": "markdown",
   "metadata": {},
   "source": [
    "## Week 7: Function practical"
   ]
  },
  {
   "cell_type": "markdown",
   "metadata": {},
   "source": [
    "## Warm up"
   ]
  },
  {
   "cell_type": "markdown",
   "metadata": {},
   "source": [
    "### Test whether two strings are anagrams\n",
    "\n",
    "* Two words are _anagrams_ if they both contain the same letters\n",
    "but in different orders. For example __listen__\n",
    "is an anagram of __silent__.\n",
    "\n",
    "Write a Boolean valued function `anagrams(s1, s2)`, which returns `True` just in case the string `s1` contains the same letters as string `s2` but in a _different order_. The function should be case insensitive --- in other words it should return the same value if any letters in either s1 or s2 are changed from upper to lower case or from lower to upper case. You may assume that the input strings contain only letters.\n",
    "\n",
    "#### Examples\n",
    "\n",
    "| INPUT 1 (string)|\tINPUT 2 (string) |\tOUPUT (boolean) |\n",
    "|--|--|--|\n",
    "|`\"sidebar\"`| `\"seabird\"` |\t`True` |\n",
    "|`\"cheese\"` | `\"frizbee\"` |\t`False`|\n",
    "|`\"listen\"` | `\"silent\"`  |\t`True` |\n",
    "|`\"this\"`   | `\"this\"`    |\t`False`|\n",
    "|`\"Tar\"`    | `\"Rat\"`\t  |`True`  |\n",
    "|`\"Tar\"`    | `\"TAR\"`\t  |`False` |"
   ]
  },
  {
   "cell_type": "code",
   "execution_count": 25,
   "metadata": {},
   "outputs": [
    {
     "name": "stdout",
     "output_type": "stream",
     "text": [
      "same word, so not an anagram\n"
     ]
    },
    {
     "data": {
      "text/plain": [
       "True"
      ]
     },
     "execution_count": 25,
     "metadata": {},
     "output_type": "execute_result"
    }
   ],
   "source": [
    "def anagrams(s1, s2):\n",
    "    if s1.lower() != s2.lower():\n",
    "        return sorted(s1.lower()) == sorted(s2.lower())\n",
    "    else:\n",
    "        print('same word, so not an anagram')\n",
    "        return False\n",
    "\n",
    "    \n",
    "anagrams('Seabird','seabird')\n",
    "anagrams('tar', 'Rat')"
   ]
  },
  {
   "cell_type": "markdown",
   "metadata": {},
   "source": [
    "## Main Task"
   ]
  },
  {
   "cell_type": "markdown",
   "metadata": {},
   "source": [
    "Literate Password Checker\n",
    "\n",
    "The following rules classify the strength of passwords:\n",
    "\n",
    "* A string is an ILLEGAL password if either:\n",
    "  * if it is an english word\n",
    "  * it contains any invisible character (space, tab, newline)\n",
    "\n",
    "\n",
    "* A string is a WEAK password if it is **not** ILLEGAL and, either:\n",
    "  * it is _less than_ 8 characters long.\n",
    "  * english word followed by one or more decimal digit characters\n",
    "\n",
    "\n",
    "* A string is a STRONG password if it is **not** ILLEGAL and, either:\n",
    "  * it contains at least 12 characters\n",
    "  * AND it contains at least 1 lower case letter\n",
    "  * AND it contains at least 1 capital letter\n",
    "  * AND it contains at least 1 numerical digit\n",
    "  * AND it contains at least 1 special character (any visible ASCII\n",
    "    character that is not a letter or a number)\n",
    "\n",
    "\n",
    "* A string is a MEDIUM password if it is **not** an ILLEGAL password and\n",
    "  is **not** a WEAK password and is **not** a STRONG password.\n",
    "\n",
    "You need to code a function ```password_strength``` that will take a string argument and will return the 'strength' of that string as a password, according to the rules given above. So it should return one of the strings  \n",
    "```\"ILLEGAL\"```, \n",
    "```\"STRONG\"```, \n",
    "```\"WEAK\"``` or \n",
    "```\"MEDIUM\"```.\n",
    "\n",
    "You may assume that the input password is consists of only ASCII characters,\n",
    "that is: alphabetic letters, numerical digits, special visible charactes,\n",
    "spaces, tabs and newlines. The special visible characters are:\n",
    "<pre>\n",
    "~`!@#$%^&*(){}[]|\\/:;\";<>.?\n",
    "</pre>\n",
    "\n",
    "\n",
    "Examples:\n",
    "\n",
    "| INPUT             | OUPUT |\n",
    "| -----             | --------|\n",
    "| ```\"secret\"```           |\t```\"ILLEGAL\"``` |\n",
    "| ```\"my secret\"```           |\t```\"ILLEGAL\"``` |\n",
    "| ```\"qwertyu\"```           |\t```\"WEAK\"``` |\n",
    "| ```\"hello123\"```           |\t```\"WEAK\"``` |\n",
    "| ```\"7Kings8all9Pies!\"``` |\t```\"STRONG\"``` |\n",
    "| ```\"brandon123\"```      |\t```\"MEDIUM\"``` |"
   ]
  },
  {
   "cell_type": "code",
   "execution_count": 28,
   "metadata": {},
   "outputs": [],
   "source": [
    "def get_english_words():\n",
    "    with open( \"english_words.txt\" ) as f:\n",
    "         words = f.readlines()\n",
    "    words = { word.strip() for\n",
    "             word in words }\n",
    "    return words\n",
    "\n",
    "ENGLISH_WORDS = get_english_words()"
   ]
  },
  {
   "cell_type": "code",
   "execution_count": 45,
   "metadata": {},
   "outputs": [
    {
     "name": "stdout",
     "output_type": "stream",
     "text": [
      "h\n",
      "e\n",
      "l\n",
      "l\n",
      "o\n",
      " \n",
      "invalid\n"
     ]
    }
   ],
   "source": [
    "password = 'hello '\n",
    "if password.lower() in ENGLISH_WORDS:\n",
    "    print('yes')\n",
    "\n",
    "for character in password:\n",
    "    print(character)\n",
    "    if character in '\\n\\t\\r ':\n",
    "        print('invalid')\n"
   ]
  },
  {
   "cell_type": "code",
   "execution_count": 48,
   "metadata": {},
   "outputs": [
    {
     "data": {
      "text/plain": [
       "False"
      ]
     },
     "execution_count": 48,
     "metadata": {},
     "output_type": "execute_result"
    }
   ],
   "source": [
    "' ' in 'hello'"
   ]
  },
  {
   "cell_type": "code",
   "execution_count": 59,
   "metadata": {},
   "outputs": [
    {
     "name": "stdout",
     "output_type": "stream",
     "text": [
      "hellooooopassword\n"
     ]
    },
    {
     "data": {
      "text/plain": [
       "'MEDIUM'"
      ]
     },
     "execution_count": 59,
     "metadata": {},
     "output_type": "execute_result"
    }
   ],
   "source": [
    "def password_strength( password ):\n",
    "    global ENGLISH_WORDS\n",
    "    # A string is an ILLEGAL password if either:\n",
    "    # if it contains an english word in it\n",
    "    # it contains any invisible character (space, tab, newline)\n",
    "    strength = 'MEDIUM'\n",
    "    if password.lower() in ENGLISH_WORDS:\n",
    "        strength = \"ILLEGAL\"\n",
    "    for character in password.lower():\n",
    "        if character in '\\n\\t\\r ':\n",
    "            strength = \"ILLEGAL\"\n",
    "    if strength == \"ILLEGAL\":\n",
    "        return strength \n",
    "\n",
    "    # A string is a WEAK password if it is not ILLEGAL and, either:\n",
    "    # it is less than 8 characters long.\n",
    "    # it has an English word longer than 3 characters in it\n",
    "    # english word followed by one or more decimal digit characters\n",
    "    if len(password) < 8:\n",
    "        strength = 'WEAK'\n",
    "    for idx, character in enumerate(password.lower()):\n",
    "        if character in '0123456789':\n",
    "            if password[:idx].lower() in ENGLISH_WORDS:\n",
    "                strength = 'WEAK'\n",
    "    if strength == \"WEAK\":\n",
    "        return strength \n",
    "    \n",
    "    # A string is a STRONG password if it is not ILLEGAL and, either:\n",
    "    # it contains at least 12 characters\n",
    "    # AND it contains at least 1 lower case letter\n",
    "    # AND it contains at least 1 capital letter\n",
    "    # AND it contains at least 1 numerical digit\n",
    "    # AND it contains at least 1 special character (any visible ASCII character that is not a letter or a number)\n",
    "    \n",
    "    length, lower, upper, digit, special = False, False, False, False, False\n",
    "    if len(password) >= 12:\n",
    "        length = True\n",
    "    for idx, character in enumerate(password):\n",
    "        if character == character.lower():\n",
    "            lower = True\n",
    "        if character == character.upper():\n",
    "            upper = True\n",
    "        if character in '0123456789':\n",
    "            digit = True\n",
    "        if character in \"~`!@#$%^&*(){}[]|\\/:;\";<>.?\":\n",
    "            special = True\n",
    "        \n",
    "    if length + lower + upper + digit + special == 5:\n",
    "        strength = 'STRONG'\n",
    "        \n",
    "    return strength\n",
    "    # should return the strength (\"ILLEGAL\", WEAK\", \"STRONG\" or \"MEDIUM\")\n",
    "password_strength('password1')"
   ]
  },
  {
   "cell_type": "code",
   "execution_count": 61,
   "metadata": {},
   "outputs": [
    {
     "data": {
      "text/plain": [
       "2"
      ]
     },
     "execution_count": 61,
     "metadata": {},
     "output_type": "execute_result"
    }
   ],
   "source": [
    "True + True"
   ]
  },
  {
   "cell_type": "code",
   "execution_count": null,
   "metadata": {},
   "outputs": [],
   "source": [
    "## Edit this cell to give your answer for Q2(b)\n",
    "\n",
    "def password_strength( password ):\n",
    "    lowercase = False \n",
    "    uppercase = False \n",
    "    digit = False \n",
    "    special = False\n",
    "    strength = None\n",
    "    if is_english_word(password.lower()):\n",
    "        strength = 'ILLEGAL'\n",
    "    for c in password:\n",
    "        if c in ' \\t\\n\\r':\n",
    "            strength = 'ILLEGAL'\n",
    "    if not strength =='ILLEGAL':\n",
    "        if len(password) < 8:\n",
    "            strength = 'WEAK' \n",
    "        for i in range(len(password)):\n",
    "            if password[i].isalpha():  # finds the index of the last alphabetic character\n",
    "                index = i\n",
    "        special_case = False # introducing special case where password is an english word followed by digits and special characters e.g. password123!\n",
    "        password_copy = password\n",
    "        for j in range(index, len(password)): # searching through characters after last alphabetic character \n",
    "            if password[j] in '~`!@#$%^&*(){}[]|\\/:;\";<>.?': \n",
    "                special_case = True\n",
    "        if not special_case: # when the password doesnt have special characters after the word\n",
    "            password_copy = password[:index+1] # strips the password of digits at the end        \n",
    "        if is_english_word(password_copy.lower()):   \n",
    "            strength = 'WEAK'\n",
    "        if len(password) >= 12:\n",
    "            for c in password:\n",
    "                if c.islower():\n",
    "                    lowercase = True     \n",
    "                if c.isupper():\n",
    "                    uppercase = True \n",
    "                if c.isnumeric():\n",
    "                    digit = True \n",
    "                if c in '~`!@#$%^&*(){}[]|\\/:;\";<>.?':\n",
    "                    special = True     \n",
    "            if lowercase and uppercase and digit and special:\n",
    "                strength = 'STRONG'\n",
    "        if strength == None:\n",
    "            strength = 'MEDIUM'\n",
    "    return strength\n",
    "\n",
    "    # should return the strength (\"ILLEGAL\", WEAK\", \"STRONG\" or \"MEDIUM\")\n"
   ]
  }
 ],
 "metadata": {
  "kernelspec": {
   "display_name": "Python 3",
   "language": "python",
   "name": "python3"
  },
  "language_info": {
   "codemirror_mode": {
    "name": "ipython",
    "version": 3
   },
   "file_extension": ".py",
   "mimetype": "text/x-python",
   "name": "python",
   "nbconvert_exporter": "python",
   "pygments_lexer": "ipython3",
   "version": "3.7.6"
  }
 },
 "nbformat": 4,
 "nbformat_minor": 4
}

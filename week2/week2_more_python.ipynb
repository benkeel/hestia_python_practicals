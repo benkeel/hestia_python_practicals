{
 "cells": [
  {
   "cell_type": "markdown",
   "metadata": {},
   "source": [
    "# Lab Notebook 2 – More Python use cases"
   ]
  },
  {
   "cell_type": "markdown",
   "metadata": {},
   "source": [
    "This week's materials are designed to cover some more of the basic of Python not covered in the first practicals.   \n",
    "We will be introducing:  \n",
    "\n",
    "- 1) a new data type: [Dictionaries](https://realpython.com/python-dicts/) or `dict` – which are used to store a collection of key-value pairs (e.g. key is name and value is Bob).\n",
    "- 2) Numpy arrays  – which can store data in order like a Python `list`\n",
    "- 3) Nesting and loops\n",
    "- 4) Functions – which allow us to reuse blocks of code"
   ]
  },
  {
   "cell_type": "markdown",
   "metadata": {},
   "source": [
    "# Dictionaries\n",
    "Python dictionaries (dict) are a data structure that store **key:value** pairs. They are useful as they allow us to 'lookup' data using a 'key'.  In a list we can store lots of values, and access a specific value by its position in the list (its index).\n",
    "In a dictionary we access data by using its key.\n",
    "The syntax to do this is ``dictionaryName[key]``.  \n",
    "The general syntax to define a new dictionary variable is:\n",
    "```python\n",
    "    name_of_dict = {'my_key':'my_var'}\n",
    "```"
   ]
  },
  {
   "cell_type": "code",
   "execution_count": 6,
   "metadata": {},
   "outputs": [],
   "source": [
    "employee = {'name':'Bob', \n",
    "           'age': 25, \n",
    "           'job':'Dev', \n",
    "           'city': 'New York', \n",
    "           'email': ['bob@web.com', 'bob@email.com']}\n"
   ]
  },
  {
   "cell_type": "markdown",
   "metadata": {},
   "source": [
    "#### 🤨 TASK\n",
    "We know that the `employees` variable we defined in the cell below is a dictionary, but how would you check its type in Python?  \n",
    "*Replace the `???` below with your answer*"
   ]
  },
  {
   "cell_type": "code",
   "execution_count": 4,
   "metadata": {},
   "outputs": [
    {
     "name": "stdout",
     "output_type": "stream",
     "text": [
      "<class 'dict'>\n"
     ]
    },
    {
     "data": {
      "text/plain": [
       "dict"
      ]
     },
     "execution_count": 4,
     "metadata": {},
     "output_type": "execute_result"
    }
   ],
   "source": [
    "print(type(employee))\n",
    "type(employee)\n"
   ]
  },
  {
   "cell_type": "markdown",
   "metadata": {},
   "source": [
    "We can 'lookup' dictionaries using their keys "
   ]
  },
  {
   "cell_type": "code",
   "execution_count": 7,
   "metadata": {},
   "outputs": [
    {
     "name": "stdout",
     "output_type": "stream",
     "text": [
      "Dev\n"
     ]
    }
   ],
   "source": [
    "print(employee['job'])\n"
   ]
  },
  {
   "cell_type": "code",
   "execution_count": 8,
   "metadata": {},
   "outputs": [
    {
     "name": "stdout",
     "output_type": "stream",
     "text": [
      "Employee Bob is 25 years old\n"
     ]
    }
   ],
   "source": [
    "# Bit of a waste of memory, but we can store values from a dictionary lookup into variables \n",
    "employee_name = employee['name']\n",
    "employee_age = employee['age']\n",
    "\n",
    "print(f\"Employee {employee_name} is {employee_age} years old\") # this is an f-string, and allows us to put variables within a string \n"
   ]
  },
  {
   "cell_type": "markdown",
   "metadata": {},
   "source": [
    "#### 🤨 optional TASK\n",
    "Remembering that we can loop over iterable variables like lists of dictionaries using `for` loops. Find out the type of each item in the `my_dict` variable\n",
    "*Replace the `???` below with your answer*"
   ]
  },
  {
   "cell_type": "code",
   "execution_count": 16,
   "metadata": {},
   "outputs": [
    {
     "name": "stdout",
     "output_type": "stream",
     "text": [
      "name Bob <class 'str'>\n",
      "age 25 <class 'int'>\n",
      "job Dev <class 'str'>\n",
      "city New York <class 'str'>\n",
      "email ['bob@web.com', 'bob@email.com'] <class 'list'>\n",
      "name Bob <class 'str'>\n",
      "age 25 <class 'int'>\n",
      "job Dev <class 'str'>\n",
      "city New York <class 'str'>\n",
      "email ['bob@web.com', 'bob@email.com'] <class 'list'>\n"
     ]
    }
   ],
   "source": [
    "for key in employee:\n",
    "    value = employee[key]\n",
    "    print(key, value, type(value))\n",
    "\n",
    "for key, value in employee.items():\n",
    "    print(key, value, type(value))\n"
   ]
  },
  {
   "cell_type": "markdown",
   "metadata": {},
   "source": [
    "#### 🤨 TASK\n",
    "What happens if you try to access a value from the dictionary using a key that doesn't exist in it?  \n",
    "*Replace the `???` below with your answer*"
   ]
  },
  {
   "cell_type": "code",
   "execution_count": 17,
   "metadata": {},
   "outputs": [
    {
     "ename": "KeyError",
     "evalue": "'address'",
     "output_type": "error",
     "traceback": [
      "\u001b[0;31m---------------------------------------------------------------------------\u001b[0m",
      "\u001b[0;31mKeyError\u001b[0m                                  Traceback (most recent call last)",
      "\u001b[1;32m/Users/florian/Code/hestia_python_practicals/week2/week2_more_python.ipynb Cell 13\u001b[0m line \u001b[0;36m1\n\u001b[0;32m----> <a href='vscode-notebook-cell:/Users/florian/Code/hestia_python_practicals/week2/week2_more_python.ipynb#X15sZmlsZQ%3D%3D?line=0'>1</a>\u001b[0m employee[\u001b[39m'\u001b[39;49m\u001b[39maddress\u001b[39;49m\u001b[39m'\u001b[39;49m]\n",
      "\u001b[0;31mKeyError\u001b[0m: 'address'"
     ]
    }
   ],
   "source": [
    "employee['address']\n",
    "# It triggers an error message!\n"
   ]
  },
  {
   "cell_type": "markdown",
   "metadata": {},
   "source": [
    "The next cells give an example of a dictionary in which the keys are British cities and the values are the populations, and shows how to access a value from the dictionary."
   ]
  },
  {
   "cell_type": "code",
   "execution_count": 23,
   "metadata": {},
   "outputs": [
    {
     "name": "stdout",
     "output_type": "stream",
     "text": [
      "The population of Wells is 10536\n",
      "The population of Ripon is 16702\n"
     ]
    }
   ],
   "source": [
    "city_populations = {\n",
    "    'St Davids': 1841, \n",
    "    'St Asaph': 3355, \n",
    "    'City of London': 7375, \n",
    "    'Wells': 10536, \n",
    "    'Armagh': 14777, \n",
    "    'Ripon': 16702\n",
    "}\n",
    "\n",
    "# to access a value from a dictionary use dictionaryName[key]\n",
    "populationOfWells = city_populations['Wells']\n",
    "print('The population of Wells is', populationOfWells)\n",
    "\n",
    "# the key could be stored in a variable.\n",
    "# Change the value of this variable and see that the output of the next line changes.\n",
    "cityName = 'Ripon'\n",
    "print(f'The population of {cityName} is {city_populations[cityName]}')\n"
   ]
  },
  {
   "cell_type": "code",
   "execution_count": 25,
   "metadata": {},
   "outputs": [
    {
     "name": "stdout",
     "output_type": "stream",
     "text": [
      "The population of St Davids is 1841.\n",
      "The population of St Asaph is 3355.\n",
      "The population of City of London is 7375.\n",
      "The population of Wells is 10536.\n",
      "The population of Armagh is 14777.\n",
      "The population of Ripon is 16702.\n"
     ]
    }
   ],
   "source": [
    "for city, population in city_populations.items():\n",
    "    print(f'The population of {city} is {population}.')\n"
   ]
  },
  {
   "cell_type": "markdown",
   "metadata": {},
   "source": [
    "An alternative way to access a dictionary item is to use ``get()``.\n",
    "This will not cause an error if the key doesn't exist in the dictionary.\n",
    "If the key doesn't exist then ``get()`` will return None by default."
   ]
  },
  {
   "cell_type": "code",
   "execution_count": 26,
   "metadata": {},
   "outputs": [
    {
     "name": "stdout",
     "output_type": "stream",
     "text": [
      "10536\n",
      "None\n"
     ]
    }
   ],
   "source": [
    "city_populations = {\n",
    "    'St Davids': 1841, \n",
    "    'St Asaph': 3355, \n",
    "    'City of London': 7375, \n",
    "    'Wells': 10536, \n",
    "    'Armagh': 14777, \n",
    "    'Ripon': 16702\n",
    "}\n",
    "\n",
    "print(city_populations.get('Wells'))\n",
    "print(city_populations.get('Not a City'))\n"
   ]
  },
  {
   "cell_type": "markdown",
   "metadata": {},
   "source": [
    "### Adding and Removing Items From a Dictionary\n",
    "To add a key, value pair to a dictionary use ``update()``. \n",
    "We can update with a single item or a list of key: value pairs. "
   ]
  },
  {
   "cell_type": "code",
   "execution_count": 27,
   "metadata": {},
   "outputs": [
    {
     "name": "stdout",
     "output_type": "stream",
     "text": [
      "{'St Davids': 1841, 'St Asaph': 3355, 'Ripon': 16702, 'Truro': 18766}\n",
      "{'St Davids': 1841, 'St Asaph': 3355, 'Ripon': 16702, 'Truro': 18766, 'City of London': 7375, 'Wells': 10536, 'Armagh': 14777}\n"
     ]
    }
   ],
   "source": [
    "city_populations = {\n",
    "    'St Davids': 1841, \n",
    "    'St Asaph': 3355, \n",
    "    'Ripon': 16702\n",
    "}\n",
    "\n",
    "# update with a single item\n",
    "city_populations.update({\"Truro\": 18766})\n",
    "\n",
    "print(city_populations)\n",
    "\n",
    "city_populations.update({\n",
    "    'City of London': 7375, \n",
    "    'Wells': 10536, \n",
    "    'Armagh': 14777\n",
    "})\n",
    "\n",
    "print(city_populations)\n"
   ]
  },
  {
   "cell_type": "markdown",
   "metadata": {},
   "source": [
    "And to remove an item from the dictionary use ``pop()``."
   ]
  },
  {
   "cell_type": "code",
   "execution_count": 28,
   "metadata": {},
   "outputs": [
    {
     "name": "stdout",
     "output_type": "stream",
     "text": [
      "10536\n",
      "{'St Davids': 1841, 'St Asaph': 3355, 'City of London': 7375, 'Armagh': 14777, 'Ripon': 16702}\n"
     ]
    }
   ],
   "source": [
    "city_populations = {\n",
    "    'St Davids': 1841, \n",
    "    'St Asaph': 3355, \n",
    "    'City of London': 7375, \n",
    "    'Wells': 10536, \n",
    "    'Armagh': 14777, \n",
    "    'Ripon': 16702\n",
    "}\n",
    "\n",
    "# the pop() function returns the value of the item being removed\n",
    "print(city_populations.pop('Wells'))\n",
    "\n",
    "# now the item with key 'Wells' no longer appears in the dictionary\n",
    "print(city_populations)\n"
   ]
  },
  {
   "cell_type": "markdown",
   "metadata": {},
   "source": [
    "Remove all items of a dictionary with ``clear()``."
   ]
  },
  {
   "cell_type": "code",
   "execution_count": 29,
   "metadata": {},
   "outputs": [
    {
     "name": "stdout",
     "output_type": "stream",
     "text": [
      "{}\n"
     ]
    }
   ],
   "source": [
    "city_populations = {\n",
    "    'St Davids': 1841, \n",
    "    'St Asaph': 3355, \n",
    "    'City of London': 7375, \n",
    "    'Wells': 10536, \n",
    "    'Armagh': 14777, \n",
    "    'Ripon': 16702\n",
    "}\n",
    "\n",
    "city_populations.clear()\n",
    "\n",
    "# now an empty dictionary\n",
    "print(city_populations)\n"
   ]
  },
  {
   "cell_type": "markdown",
   "metadata": {},
   "source": [
    "# Numpy arrays\n",
    "Next, we will look at numpy arrays, which are a data structure similar, but more powerful, than Python's lists. Numpy is a popular 3rd party library that introduces a range of numerical methods and tools, which does not come default with Python, but it is easy to install. \n",
    "\n",
    "Numpy arrays, as opposed to lists, allow us to perform multi-dimensional operations such as matrix multiplication/division/etc and mutli-dimensional indexing (which is why lots of other third party packages use numpy arrays or matrices as their building blocks)."
   ]
  },
  {
   "cell_type": "markdown",
   "metadata": {},
   "source": [
    "In the cell below we import numpy with an alias: `np`. While we could import numpy without an alias (made by using the `as` statement), it is common to use the shorthand for popular packages such numpy (another example is for pandas e.g. `import pandas as pd`). This is another example of Pythonic syntax that you just remember with time."
   ]
  },
  {
   "cell_type": "code",
   "execution_count": 30,
   "metadata": {},
   "outputs": [],
   "source": [
    "import numpy as np\n"
   ]
  },
  {
   "cell_type": "markdown",
   "metadata": {},
   "source": [
    "Let's look at lists and numpy arrays side by side. \n"
   ]
  },
  {
   "cell_type": "code",
   "execution_count": 32,
   "metadata": {},
   "outputs": [
    {
     "name": "stdout",
     "output_type": "stream",
     "text": [
      "[1 2 3 4] [1, 2, 3, 4]\n"
     ]
    }
   ],
   "source": [
    "my_array = np.array([1, 2, 3, 4])\n",
    "my_list = [1, 2, 3, 4]\n",
    "print(my_array, my_list)\n"
   ]
  },
  {
   "cell_type": "markdown",
   "metadata": {},
   "source": [
    "We will perform an arithmetic operation on each."
   ]
  },
  {
   "cell_type": "code",
   "execution_count": 33,
   "metadata": {},
   "outputs": [
    {
     "data": {
      "text/plain": [
       "array([11, 12, 13, 14])"
      ]
     },
     "execution_count": 33,
     "metadata": {},
     "output_type": "execute_result"
    }
   ],
   "source": [
    "my_array + 10\n"
   ]
  },
  {
   "cell_type": "code",
   "execution_count": 43,
   "metadata": {},
   "outputs": [
    {
     "data": {
      "text/plain": [
       "[1, 2, 3, 4, 4]"
      ]
     },
     "execution_count": 43,
     "metadata": {},
     "output_type": "execute_result"
    }
   ],
   "source": [
    "my_list + 4\n"
   ]
  },
  {
   "cell_type": "markdown",
   "metadata": {},
   "source": [
    "You should find that the operation above returns a TypeError, that is because it is of type `list`, which does not open up mathematical operations like numpy arrays do. This is super useful for scientific computing"
   ]
  },
  {
   "cell_type": "markdown",
   "metadata": {},
   "source": [
    "#### 🤨 TASK\n",
    "Try getting the value at the second index of `my_array`, does it perform in the way you would expect?  \n",
    "*Replace the `???` below with your answer*"
   ]
  },
  {
   "cell_type": "code",
   "execution_count": 44,
   "metadata": {},
   "outputs": [
    {
     "data": {
      "text/plain": [
       "2"
      ]
     },
     "execution_count": 44,
     "metadata": {},
     "output_type": "execute_result"
    }
   ],
   "source": [
    "my_array[1]\n",
    "\n",
    "# Yes, it does! (Indexing works the same as for lists!)\n"
   ]
  },
  {
   "cell_type": "markdown",
   "metadata": {},
   "source": [
    "Sometimes this functionality can create confusion. See the example below where we try to add a list with a single numerical value `[1]` to a list and numpy array."
   ]
  },
  {
   "cell_type": "code",
   "execution_count": 42,
   "metadata": {},
   "outputs": [
    {
     "name": "stdout",
     "output_type": "stream",
     "text": [
      "[2 3 4 5]\n",
      "[1, 2, 3, 4, 1]\n"
     ]
    }
   ],
   "source": [
    "# Perform an arithmetic operation on the NumPy array\n",
    "print(my_array + [1])\n",
    "\n",
    "# Perform an arithmetic operation on the Python list\n",
    "print(my_list + [1])\n"
   ]
  },
  {
   "cell_type": "markdown",
   "metadata": {},
   "source": [
    "*NOTE:* A good working knowlegde of data-types and their operability in Python will help you become more comfortable with this sort of edge case in the future. As you can imagine, this sort of thing is hard to teach, but familiarity and experience will get you there. And a key tip is to just experiment in an empty cell to aid your understanding whenever you can."
   ]
  },
  {
   "cell_type": "code",
   "execution_count": 52,
   "metadata": {},
   "outputs": [
    {
     "name": "stdout",
     "output_type": "stream",
     "text": [
      "[ 1  2  3  4  5  6  7  8  9 10]\n"
     ]
    }
   ],
   "source": [
    "# Create a NumPy array from a Python list\n",
    "my_list = [1,2,3,4,5,6,7,8,9,10]\n",
    "my_array = np.array(my_list)\n",
    "print(my_array)\n"
   ]
  },
  {
   "cell_type": "markdown",
   "metadata": {},
   "source": [
    "Next, we look at other numpy functions that produce numpy arrays"
   ]
  },
  {
   "cell_type": "code",
   "execution_count": 53,
   "metadata": {},
   "outputs": [],
   "source": [
    "# Create a NumPy array of zeros\n",
    "zeros_array = np.zeros(10)\n"
   ]
  },
  {
   "cell_type": "code",
   "execution_count": 54,
   "metadata": {},
   "outputs": [
    {
     "name": "stdout",
     "output_type": "stream",
     "text": [
      "[0. 0. 0. 0. 0. 0. 0. 0. 0. 0.]\n"
     ]
    }
   ],
   "source": [
    "print(zeros_array)\n"
   ]
  },
  {
   "cell_type": "code",
   "execution_count": 55,
   "metadata": {},
   "outputs": [],
   "source": [
    "# Create a NumPy array of ones\n",
    "ones_array = np.ones(10)\n"
   ]
  },
  {
   "cell_type": "code",
   "execution_count": 56,
   "metadata": {},
   "outputs": [
    {
     "name": "stdout",
     "output_type": "stream",
     "text": [
      "[1. 1. 1. 1. 1. 1. 1. 1. 1. 1.]\n"
     ]
    }
   ],
   "source": [
    "print(ones_array)\n"
   ]
  },
  {
   "cell_type": "markdown",
   "metadata": {},
   "source": [
    "More operations for numpy arrays "
   ]
  },
  {
   "cell_type": "code",
   "execution_count": 59,
   "metadata": {
    "collapsed": false
   },
   "outputs": [
    {
     "name": "stdout",
     "output_type": "stream",
     "text": [
      "[ 2.  3.  4.  5.  6.  7.  8.  9. 10. 11.]\n"
     ]
    }
   ],
   "source": [
    "# Add two NumPy arrays\n",
    "sum_array = my_array + ones_array\n",
    "print(sum_array)\n"
   ]
  },
  {
   "cell_type": "code",
   "execution_count": 60,
   "metadata": {},
   "outputs": [
    {
     "name": "stdout",
     "output_type": "stream",
     "text": [
      "[0. 1. 2. 3. 4. 5. 6. 7. 8. 9.]\n"
     ]
    }
   ],
   "source": [
    "# Subtract two NumPy arrays\n",
    "difference_array = my_array - ones_array\n",
    "print(difference_array)\n"
   ]
  },
  {
   "cell_type": "code",
   "execution_count": 61,
   "metadata": {},
   "outputs": [
    {
     "name": "stdout",
     "output_type": "stream",
     "text": [
      "[ 2.  4.  6.  8. 10. 12. 14. 16. 18. 20.]\n"
     ]
    }
   ],
   "source": [
    "# Multiply two NumPy arrays\n",
    "twos_array = ones_array * 2\n",
    "product_array = my_array * twos_array\n",
    "print(product_array)\n"
   ]
  },
  {
   "cell_type": "markdown",
   "metadata": {},
   "source": [
    "#### 🤨 TASK\n",
    "Try dividing one array by another  \n",
    "*Replace the `???` below with your answer*"
   ]
  },
  {
   "cell_type": "code",
   "execution_count": 63,
   "metadata": {},
   "outputs": [
    {
     "name": "stdout",
     "output_type": "stream",
     "text": [
      "[1. 1. 1. 1. 1. 1. 1. 1. 1. 1.]\n"
     ]
    }
   ],
   "source": [
    "division_array = my_array / my_array\n",
    "print(division_array)\n"
   ]
  },
  {
   "cell_type": "markdown",
   "metadata": {},
   "source": [
    "In the cell below, we can look at some of the many mathematical operations offered by numpy"
   ]
  },
  {
   "cell_type": "code",
   "execution_count": 64,
   "metadata": {
    "collapsed": false
   },
   "outputs": [
    {
     "name": "stdout",
     "output_type": "stream",
     "text": [
      "5.5\n",
      "5.5\n",
      "2.8722813232690143\n"
     ]
    }
   ],
   "source": [
    "# Calculate the mean of a NumPy array\n",
    "mean = np.mean(my_array)\n",
    "print(mean)\n",
    "\n",
    "# Calculate the median of a NumPy array\n",
    "median = np.median(my_array)\n",
    "print(median)\n",
    "\n",
    "# Calculate the standard deviation of a NumPy array\n",
    "standard_deviation = np.std(my_array)\n",
    "print(standard_deviation)\n"
   ]
  },
  {
   "cell_type": "code",
   "execution_count": 65,
   "metadata": {
    "collapsed": false
   },
   "outputs": [
    {
     "name": "stdout",
     "output_type": "stream",
     "text": [
      "[ 1  2  3  4  5  6  7  8  9 10]\n",
      "[10  9  8  7  6  5  4  3  2  1]\n"
     ]
    }
   ],
   "source": [
    "# Sort a NumPy array in ascending order\n",
    "sorted_array = np.sort(my_array)\n",
    "print(sorted_array)\n",
    "# Sort a NumPy array in descending order\n",
    "sorted_array = np.sort(my_array)[::-1]\n",
    "print(sorted_array)\n"
   ]
  },
  {
   "cell_type": "code",
   "execution_count": 70,
   "metadata": {},
   "outputs": [
    {
     "data": {
      "text/plain": [
       "array([10,  8,  6,  4,  2])"
      ]
     },
     "execution_count": 70,
     "metadata": {},
     "output_type": "execute_result"
    }
   ],
   "source": [
    "my_array[::-2]\n"
   ]
  },
  {
   "cell_type": "code",
   "execution_count": 71,
   "metadata": {
    "collapsed": false
   },
   "outputs": [
    {
     "name": "stdout",
     "output_type": "stream",
     "text": [
      "[ 3  4  5  6  7  8  9 10]\n",
      "[ 2  4  6  8 10]\n"
     ]
    }
   ],
   "source": [
    "# Filter a NumPy array to only include elements that are greater than 2\n",
    "filtered_array = my_array[my_array > 2]\n",
    "print(filtered_array)\n",
    "\n",
    "# Filter a NumPy array to only include elements that are even\n",
    "filtered_array = my_array[my_array % 2 == 0]\n",
    "print(filtered_array)\n"
   ]
  },
  {
   "cell_type": "code",
   "execution_count": 79,
   "metadata": {
    "collapsed": false
   },
   "outputs": [
    {
     "name": "stdout",
     "output_type": "stream",
     "text": [
      "[2 0 3 8 1 3 8 6 0 6]\n"
     ]
    }
   ],
   "source": [
    "# Create a NumPy array of random integers between 0 and 10\n",
    "random_integers = np.random.randint(0, 10, 10)\n",
    "print(random_integers)\n"
   ]
  },
  {
   "cell_type": "markdown",
   "metadata": {},
   "source": [
    "# Loops and nesting\n",
    "Next, we briefly introduce a concept known as nesting. This is where a loop is included within a loop. While the Python Syntax of nested loops may look a little complex at first, it follows a very simple rule of 4 spaces (one tab). See an example below..."
   ]
  },
  {
   "cell_type": "code",
   "execution_count": 80,
   "metadata": {},
   "outputs": [
    {
     "name": "stdout",
     "output_type": "stream",
     "text": [
      "1\n",
      "10\n",
      "11\n",
      "12\n",
      "2\n",
      "10\n",
      "11\n",
      "12\n",
      "3\n",
      "10\n",
      "11\n",
      "12\n"
     ]
    }
   ],
   "source": [
    "for i in range(1, 4):\n",
    "    # outer\n",
    "    print(i) # 4 spaces away from the edge\n",
    "    for j in range(10, 13):\n",
    "        # inner\n",
    "        print(j) # 8 spaces away from the edge\n"
   ]
  },
  {
   "cell_type": "markdown",
   "metadata": {},
   "source": [
    "We can also include conditions (introduced in last weeks practical) to control the flow of nested loops. In the cell below we search for even and odd numbers and only pass through even numbers to the inner loop.  \n",
    "\n",
    "We also introduce a new operator: the modulo `%` operator here. This operator returns the remainder after division between two numbers. While, it is not vital that you understand modolo and its uses at this point, if you would like to understand the operator a little more, I recommend experimenting with it in a new cell."
   ]
  },
  {
   "cell_type": "code",
   "execution_count": 83,
   "metadata": {},
   "outputs": [
    {
     "name": "stdout",
     "output_type": "stream",
     "text": [
      "even 0\n",
      "inner loop 1\n",
      "inner loop 2\n",
      "inner loop 3\n",
      "odd 1\n",
      "even 2\n",
      "inner loop 1\n",
      "inner loop 2\n",
      "inner loop 3\n",
      "odd 3\n",
      "even 4\n",
      "inner loop 1\n",
      "inner loop 2\n",
      "inner loop 3\n",
      "odd 5\n"
     ]
    }
   ],
   "source": [
    "for i in range(6):\n",
    "    # outer loop\n",
    "    if i % 2 == 0: # only even numbers will pass this condition\n",
    "        print(\"even\", i)\n",
    "        for j in range(1, 4):\n",
    "            # inner loop\n",
    "            print(\"inner loop\", j)\n",
    "    else:\n",
    "        print(\"odd\", i)\n"
   ]
  },
  {
   "cell_type": "markdown",
   "metadata": {},
   "source": [
    "As you may imagine, you can nest further i.e. to three, four or five levels. And while this is useful in some circumstances, it is usually consider non-Pythonic. See an example of three nests below"
   ]
  },
  {
   "cell_type": "code",
   "execution_count": 84,
   "metadata": {},
   "outputs": [
    {
     "name": "stdout",
     "output_type": "stream",
     "text": [
      "1 10 20\n",
      "1 10 21\n",
      "1 10 22\n",
      "1 11 20\n",
      "1 11 21\n",
      "1 11 22\n",
      "1 12 20\n",
      "1 12 21\n",
      "1 12 22\n"
     ]
    }
   ],
   "source": [
    "for i in range(1, 2):\n",
    "    # outer\n",
    "    for j in range(10, 13):\n",
    "        # inner\n",
    "        for k in range(20, 23):\n",
    "            # more inner\n",
    "            print(i, j, k)\n"
   ]
  },
  {
   "cell_type": "markdown",
   "metadata": {},
   "source": [
    "While three is still just about comprehensible, with further nesting can (and will) create confusion for others trying to follow your code _(more nesting == less readibility)_, and you can create computational problems (as exponentially more operations need to be done with more nesting). Instead of relying only on loops to repeat over code, we can can lean on functional programming. This is one of Python's key strengths as it allows us to reduce the amount of repeated code. We introduce user defined functions in Python next..."
   ]
  },
  {
   "cell_type": "markdown",
   "metadata": {},
   "source": [
    "# Functions"
   ]
  },
  {
   "cell_type": "markdown",
   "metadata": {
    "collapsed": false
   },
   "source": [
    "Functions are very useful for breaking our code down into components. This makes the code easier to understand and allows us to reuse blocks of code easily (without copying and pasting!)."
   ]
  },
  {
   "cell_type": "markdown",
   "metadata": {
    "collapsed": false
   },
   "source": [
    "The first line tells Python that we're going to define a new function with the ``def`` keyword, and it gives the name of the function and any parameters it will take.\n",
    "\n",
    "Every line of the body of the function must be indented, this is how Python knows that the line belongs to the function and not to the main code."
   ]
  },
  {
   "cell_type": "code",
   "execution_count": 98,
   "metadata": {},
   "outputs": [
    {
     "name": "stdout",
     "output_type": "stream",
     "text": [
      "Hello Ben\n",
      "Marie-Antoinette is not as great as THE Marie-Antoinette\n",
      "Macron is not as great as Marie-Antoinette\n"
     ]
    }
   ],
   "source": [
    "def sayHello(name):\n",
    "    print('Hello', name)\n",
    "\n",
    "sayHello('Ben')\n",
    "\n",
    "def marie_antoinette(name):\n",
    "    if name == 'Marie-Antoinette':\n",
    "        print(name, 'is not as great as THE Marie-Antoinette')\n",
    "    else: \n",
    "        print(name, 'is not as great as Marie-Antoinette')\n",
    "\n",
    "marie_antoinette('Marie-Antoinette')\n",
    "marie_antoinette('Macron')\n"
   ]
  },
  {
   "cell_type": "markdown",
   "metadata": {
    "collapsed": false
   },
   "source": [
    "### The Return Statement\n",
    "As well as doing things within a function we often want to return a value to the calling code. This is done with the return keyword."
   ]
  },
  {
   "cell_type": "code",
   "execution_count": 100,
   "metadata": {},
   "outputs": [
    {
     "name": "stdout",
     "output_type": "stream",
     "text": [
      "Volume is 125\n"
     ]
    }
   ],
   "source": [
    "def volumeOfCube(lengthOfEdge):\n",
    "    # the length of the edge cubed\n",
    "    vol = pow(lengthOfEdge,3)\n",
    "    return vol\n",
    "\n",
    "volume = volumeOfCube(5)\n",
    "print(f\"Volume is {volume}\")\n"
   ]
  },
  {
   "cell_type": "markdown",
   "metadata": {
    "collapsed": false
   },
   "source": [
    "Functions give us a way to abstract what we're doing.\n",
    "For example, calculating the volume of a cube is a special case of calculating the volume of a cuboid, which is a special case of calculating the volume of a prism"
   ]
  },
  {
   "cell_type": "code",
   "execution_count": 101,
   "metadata": {},
   "outputs": [
    {
     "data": {
      "text/plain": [
       "125"
      ]
     },
     "execution_count": 101,
     "metadata": {},
     "output_type": "execute_result"
    }
   ],
   "source": [
    "def volumeOfPrism(baseArea, height):\n",
    "    return baseArea * height\n",
    "\n",
    "def areaOfRectangle(l1, l2):\n",
    "    return l1 * l2\n",
    "\n",
    "def volumeOfCuboid(l1, l2, l3):\n",
    "    baseArea = areaOfRectangle(l1, l2)\n",
    "    vol = volumeOfPrism(baseArea, l3)\n",
    "    return vol\n",
    "\n",
    "def volumeOfCube(lengthOfEdge):\n",
    "    return volumeOfCuboid(lengthOfEdge, lengthOfEdge, lengthOfEdge)\n",
    "\n",
    "volumeOfCube(5)\n"
   ]
  },
  {
   "cell_type": "markdown",
   "metadata": {
    "collapsed": false
   },
   "source": [
    "Returning multiple values is easy, Python packs the values into a tuple and will also unpack the tuple to assign the return values to multiple variables."
   ]
  },
  {
   "cell_type": "code",
   "execution_count": 103,
   "metadata": {
    "collapsed": false
   },
   "outputs": [
    {
     "name": "stdout",
     "output_type": "stream",
     "text": [
      "sum of numbers = 6\n",
      "length of list = 6\n"
     ]
    }
   ],
   "source": [
    "def getSumAndLength(listOfInts):\n",
    "    return sum(listOfInts), len(listOfInts)\n",
    "\n",
    "# function returns two values which are assigned to two variables\n",
    "s, l = getSumAndLength([1, 2, 3])\n",
    "\n",
    "print(f'sum of numbers = {s}')\n",
    "print(f'length of list = {s}')\n"
   ]
  },
  {
   "cell_type": "markdown",
   "metadata": {
    "collapsed": false
   },
   "source": [
    "#### 🤨 TASK\n",
    "A pizza restaurant wants to make their kitchen more efficient.\n",
    "They intend to have one chef responsible for making all the bases, another chopping items for the toppings, another preparing the cheese.\n",
    "Then the head chef can easily assemble all the parts and put the pizza in the oven.\n",
    "\n",
    "To make this happen the restaurant requires a system that processes each order and updates a job list for each worker.\n",
    "When a pizza is ordered the required base, cheese and toppings are added to dictionaries which tell the different chefs what they need to prepare.\n",
    "For example, if a pizza is ordered with mushrooms for the topping then the value of 'mushrooms' in the toppings dictionary should be increased by one.\n",
    "\n",
    "A base type must always be specified, the cheese type should default to Mozarella but there is a gluten free option.\n",
    "Any number of additional toppings can then be requested, including zero.\n",
    "Create a function which fulfils these requirements and updates the dictionaries shown below when a pizza is ordered.\n",
    "\n",
    "You can assume that the inputs are always valid, but if you want an extra challenge then think about how you could check for errors (e.g. trying to order a topping which is not available).\n",
    "\n",
    "Check that your function works by calling it with a couple of different pizza orders and printing out the dictionaries."
   ]
  },
  {
   "cell_type": "code",
   "execution_count": null,
   "metadata": {
    "collapsed": false
   },
   "outputs": [],
   "source": [
    "toppings = {\n",
    "    'pepperoni': 0,\n",
    "    'olives': 0,\n",
    "    'red_peppers': 0,\n",
    "    'green_peppers': 0,\n",
    "    'mushrooms': 0,\n",
    "    'chicken': 0,\n",
    "    'stilton': 0,\n",
    "    'ricotta': 0,\n",
    "}\n",
    "\n",
    "base = {\n",
    "    'thin': 0,\n",
    "    'deep_pan': 0,\n",
    "    'gluten_free': 0\n",
    "}\n",
    "\n",
    "cheese = {\n",
    "    'mozzarella': 0,\n",
    "    'dairy_free': 0\n",
    "}\n",
    "\n",
    "def orderPizza(baseType, *toppingTypes, cheeseType = 'mozzarella'):\n",
    "    global toppings, base, cheese\n",
    "    # this line is not necessary but it makes it clear that we are updating the global variables\n",
    "\n",
    "    # *toppingTypes is a tuple of all the toppings for the pizza\n",
    "    # default cheese type is mozzarella\n",
    "\n",
    "    # Now update the dictionaries toppings, base and cheese using arguments to orderPizza\n",
    "    return\n"
   ]
  },
  {
   "cell_type": "markdown",
   "metadata": {
    "collapsed": false
   },
   "source": [
    "#### 🤨 TASK\n",
    "Suppose you've been given name and address information from a database.\n",
    "Create functions to format this information so that it can be printed onto address labels.\n",
    "For example, the entry\n",
    "\n",
    "```['Mrs', 'Joan', 'Smith', '3 Huntsmans Avenue', 'Batley', 'WF17 3RW']```\n",
    "\n",
    "should print as\n",
    "\n",
    "Mrs J. Smith\n",
    "3 Huntsmans Avenue\n",
    "Batley\n",
    "WF17 3RW\n"
   ]
  },
  {
   "cell_type": "code",
   "execution_count": null,
   "metadata": {
    "collapsed": false
   },
   "outputs": [],
   "source": [
    "mailingList = [\n",
    "    ['title', 'fname', 'sname', 'addr1', 'addr2', 'postcode'],\n",
    "    ['Mrs', 'Joan', 'Smith', '3 Huntsmans Avenue', 'Batley', 'WF17 3RW'],\n",
    "    ['Mr', 'Fred', 'Jones', '15a Brighton Road', 'Wyke', 'BD6 4NN'],\n",
    "    ['Dr', 'Maria', 'Tan', '122 High Street', 'Ilkley', 'LS29 2AD']\n",
    "]\n",
    "\n",
    "def prettyPrintAddressLabels(recipients):\n",
    "    for i, record in enumerate(recipients):\n",
    "    # format the entry\n",
    "\n",
    "    # return a list of formatted entries\n",
    "    return\n",
    "\n",
    "prettyPrintAddressLabels(mailingList)\n"
   ]
  },
  {
   "cell_type": "markdown",
   "metadata": {},
   "source": [
    "# Extra\n",
    "### Getting ahead of the curve...\n",
    "In the weeks that follow, we will be introducing some of Python's main data manipulation and visualisation libraries. \n",
    "These are Pandas (https://pandas.pydata.org/), Numpy (https://numpy.org/), and Matplotlib (https://matplotlib.org/) .\n",
    "These libraries are absolutely vital for data science in Python (and probably the most popular third-party libraries in the entire language), and you will find that these packages will help you solve a majority of problems in Python. They are also extremely versatile and there are a lot more Python packages that build on top of these three.  \n"
   ]
  },
  {
   "cell_type": "code",
   "execution_count": null,
   "metadata": {},
   "outputs": [],
   "source": []
  },
  {
   "cell_type": "markdown",
   "metadata": {},
   "source": []
  }
 ],
 "metadata": {
  "kernelspec": {
   "display_name": "hestia",
   "language": "python",
   "name": "python3"
  },
  "language_info": {
   "codemirror_mode": {
    "name": "ipython",
    "version": 3
   },
   "file_extension": ".py",
   "mimetype": "text/x-python",
   "name": "python",
   "nbconvert_exporter": "python",
   "pygments_lexer": "ipython3",
   "version": "3.12.0"
  }
 },
 "nbformat": 4,
 "nbformat_minor": 2
}

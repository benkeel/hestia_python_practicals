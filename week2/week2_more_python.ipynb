{
 "cells": [
  {
   "cell_type": "markdown",
   "metadata": {},
   "source": [
    "# Lab Notebook 2 – More Python use cases"
   ]
  },
  {
   "cell_type": "markdown",
   "metadata": {},
   "source": [
    "This week's materials are designed to cover some more of the basic of Python not covered in the first practicals.   \n",
    "We will be introducing:  \n",
    "\n",
    "- 1) a new data type: [Dictionaries](https://realpython.com/python-dicts/) or `dict` – which are used to store a collection of key-value pairs (e.g. key is name and value is Bob).\n",
    "- 2) Numpy arrays  – which can store data in order like a Python `list`\n",
    "- 3) Nesting and loops\n",
    "- 4) Functions – which allow us to reuse blocks of code"
   ]
  },
  {
   "cell_type": "markdown",
   "metadata": {},
   "source": [
    "# Dictionaries\n",
    "Python dictionaries (dict) are a data structure that store **key:value** pairs. They are useful as they allow us to 'lookup' data using a 'key'.  In a list we can store lots of values, and access a specific value by its position in the list (its index).\n",
    "In a dictionary we access data by using its key.\n",
    "The syntax to do this is ``dictionaryName[key]``.  \n",
    "The general syntax to define a new dictionary variable is:\n",
    "```python\n",
    "    name_of_dict = {'my_key':'my_var'}\n",
    "```"
   ]
  },
  {
   "cell_type": "code",
   "execution_count": null,
   "metadata": {},
   "outputs": [],
   "source": [
    "employees = {'name':'Bob', \n",
    "           'age': 25, \n",
    "           'job':'Dev', \n",
    "           'city': 'New York', \n",
    "           'email': ['bob@web.com', 'bob@email.com']}"
   ]
  },
  {
   "cell_type": "markdown",
   "metadata": {},
   "source": [
    "#### 🤨 TASK\n",
    "We know that the `employees` variable we defined in the cell below is a dictionary, but how would you check its type in Python?  \n",
    "*Replace the `???` below with your answer*"
   ]
  },
  {
   "cell_type": "code",
   "execution_count": null,
   "metadata": {},
   "outputs": [],
   "source": [
    "???"
   ]
  },
  {
   "cell_type": "markdown",
   "metadata": {},
   "source": [
    "We can 'lookup' dictionaries using their keys "
   ]
  },
  {
   "cell_type": "code",
   "execution_count": null,
   "metadata": {},
   "outputs": [],
   "source": [
    "print(employees['name'])"
   ]
  },
  {
   "cell_type": "code",
   "execution_count": null,
   "metadata": {},
   "outputs": [],
   "source": [
    "# Bit of a waste of memory, but we can store values from a dictionary lookup into variables \n",
    "employee_name = employees['name']\n",
    "employee_age = employees['age']\n",
    "\n",
    "print(f\"Employee {employee_name} is {employee_age} years old\") # this is an f-string, and allows us to put variables within a string "
   ]
  },
  {
   "cell_type": "markdown",
   "metadata": {},
   "source": [
    "#### 🤨 optional TASK\n",
    "Remembering that we can loop over iterable variables like lists of dictionaries using `for` loops. Find out the type of each item in the `my_dict` variable\n",
    "*Replace the `???` below with your answer*"
   ]
  },
  {
   "cell_type": "code",
   "execution_count": null,
   "metadata": {},
   "outputs": [],
   "source": [
    "???"
   ]
  },
  {
   "cell_type": "markdown",
   "metadata": {},
   "source": [
    "#### 🤨 TASK\n",
    "What happens if you try to access a value from the dictionary using a key that doesn't exist in it?  \n",
    "*Replace the `???` below with your answer*"
   ]
  },
  {
   "cell_type": "code",
   "execution_count": null,
   "metadata": {},
   "outputs": [],
   "source": [
    "???"
   ]
  },
  {
   "cell_type": "markdown",
   "metadata": {},
   "source": [
    "The next cells give an example of a dictionary in which the keys are British cities and the values are the populations, and shows how to access a value from the dictionary."
   ]
  },
  {
   "cell_type": "code",
   "execution_count": null,
   "metadata": {},
   "outputs": [],
   "source": [
    "cityPopulations = {\n",
    "    'St Davids': 1841, \n",
    "    'St Asaph': 3355, \n",
    "    'City of London': 7375, \n",
    "    'Wells': 10536, \n",
    "    'Armagh': 14777, \n",
    "    'Ripon': 16702\n",
    "}\n",
    "\n",
    "# to access a value from a dictionary use dictionaryName[key]\n",
    "populationOfWells = cityPopulations['Wells']\n",
    "print('The population of Wells is', populationOfWells)\n",
    "\n",
    "# the key could be stored in a variable.\n",
    "# Change the value of this variable and see that the output of the next line changes.\n",
    "cityName = 'City of London'\n",
    "print('The population of {} is {}'.format(cityName, cityPopulations[cityName]))"
   ]
  },
  {
   "cell_type": "markdown",
   "metadata": {},
   "source": [
    "An alternative way to access a dictionary item is to use ``get()``.\n",
    "This will not cause an error if the key doesn't exist in the dictionary.\n",
    "If the key doesn't exist then ``get()`` will return None by default."
   ]
  },
  {
   "cell_type": "code",
   "execution_count": null,
   "metadata": {},
   "outputs": [],
   "source": [
    "cityPopulations = {\n",
    "    'St Davids': 1841, \n",
    "    'St Asaph': 3355, \n",
    "    'City of London': 7375, \n",
    "    'Wells': 10536, \n",
    "    'Armagh': 14777, \n",
    "    'Ripon': 16702\n",
    "}\n",
    "\n",
    "print(cityPopulations.get('Wells'))\n",
    "print(cityPopulations.get('Not a City'))"
   ]
  },
  {
   "cell_type": "markdown",
   "metadata": {},
   "source": [
    "### Adding and Removing Items From a Dictionary\n",
    "To add a key, value pair to a dictionary use ``update()``. \n",
    "We can update with a single item or a list of key: value pairs. "
   ]
  },
  {
   "cell_type": "code",
   "execution_count": null,
   "metadata": {},
   "outputs": [],
   "source": [
    "cityPopulations = {\n",
    "    'St Davids': 1841, \n",
    "    'St Asaph': 3355, \n",
    "    'Ripon': 16702\n",
    "}\n",
    "\n",
    "# update with a single item\n",
    "cityPopulations.update({\"Truro\": 18766})\n",
    "\n",
    "print(cityPopulations)\n",
    "\n",
    "cityPopulations.update({\n",
    "    'City of London': 7375, \n",
    "    'Wells': 10536, \n",
    "    'Armagh': 14777\n",
    "})\n",
    "\n",
    "print(cityPopulations)"
   ]
  },
  {
   "cell_type": "markdown",
   "metadata": {},
   "source": [
    "And to remove an item from the dictionary use ``pop()``."
   ]
  },
  {
   "cell_type": "code",
   "execution_count": null,
   "metadata": {},
   "outputs": [],
   "source": [
    "cityPopulations = {\n",
    "    'St Davids': 1841, \n",
    "    'St Asaph': 3355, \n",
    "    'City of London': 7375, \n",
    "    'Wells': 10536, \n",
    "    'Armagh': 14777, \n",
    "    'Ripon': 16702\n",
    "}\n",
    "\n",
    "# the pop() function returns the value of the item being removed\n",
    "print(cityPopulations.pop('Wells'))\n",
    "\n",
    "# now the item with key 'Wells' no longer appears in the dictionary\n",
    "print(cityPopulations)"
   ]
  },
  {
   "cell_type": "markdown",
   "metadata": {},
   "source": [
    "Remove all items of a dictionary with ``clear()``."
   ]
  },
  {
   "cell_type": "code",
   "execution_count": null,
   "metadata": {},
   "outputs": [],
   "source": [
    "cityPopulations = {\n",
    "    'St Davids': 1841, \n",
    "    'St Asaph': 3355, \n",
    "    'City of London': 7375, \n",
    "    'Wells': 10536, \n",
    "    'Armagh': 14777, \n",
    "    'Ripon': 16702\n",
    "}\n",
    "\n",
    "cityPopulations.clear()\n",
    "\n",
    "# now an empty dictionary\n",
    "print(cityPopulations)"
   ]
  },
  {
   "cell_type": "markdown",
   "metadata": {},
   "source": [
    "# Numpy arrays\n",
    "Next, we will look at numpy arrays, which are a data structure similar, but more powerful, than Python's lists. Numpy is a popular 3rd party library that introduces a range of numerical methods and tools, which does not come default with Python, but it is easy to install. \n",
    "\n",
    "Numpy arrays, as opposed to lists, allow us to perform multi-dimensional operations such as matrix multiplication/division/etc and mutli-dimensional indexing (which is why lots of other third party packages use numpy arrays or matrices as their building blocks)."
   ]
  },
  {
   "cell_type": "markdown",
   "metadata": {},
   "source": [
    "In the cell below we import numpy with an alias: `np`. While we could import numpy without an alias (made by using the `as` statement), it is common to use the shorthand for popular packages such numpy (another example is for pandas e.g. `import pandas as pd`). This is another example of Pythonic syntax that you just remember with time."
   ]
  },
  {
   "cell_type": "code",
   "execution_count": null,
   "metadata": {},
   "outputs": [],
   "source": [
    "import numpy as np"
   ]
  },
  {
   "cell_type": "markdown",
   "metadata": {},
   "source": [
    "Let's look at lists and numpy arrays side by side. \n"
   ]
  },
  {
   "cell_type": "code",
   "execution_count": null,
   "metadata": {},
   "outputs": [],
   "source": [
    "my_array = np.array([1, 2, 3, 4])\n",
    "my_list = [1, 2, 3, 4]"
   ]
  },
  {
   "cell_type": "markdown",
   "metadata": {},
   "source": [
    "We will perform an arithmetic operation on each."
   ]
  },
  {
   "cell_type": "code",
   "execution_count": null,
   "metadata": {},
   "outputs": [],
   "source": [
    "my_array + 10"
   ]
  },
  {
   "cell_type": "code",
   "execution_count": null,
   "metadata": {},
   "outputs": [],
   "source": [
    "my_list + 4"
   ]
  },
  {
   "cell_type": "markdown",
   "metadata": {},
   "source": [
    "You should find that the operation above returns a TypeError, that is because it is of type `list`, which does not open up mathematical operations like numpy arrays do. This is super useful for scientific computing"
   ]
  },
  {
   "cell_type": "markdown",
   "metadata": {},
   "source": [
    "#### 🤨 TASK\n",
    "Try getting the value at the second index of `my_array`, does it perform in the way you would expect?  \n",
    "*Replace the `???` below with your answer*"
   ]
  },
  {
   "cell_type": "code",
   "execution_count": null,
   "metadata": {},
   "outputs": [],
   "source": [
    "???"
   ]
  },
  {
   "cell_type": "markdown",
   "metadata": {},
   "source": [
    "Sometimes this functionality can create confusion. See the example below where we try to add a list with a single numerical value `[1]` to a list and numpy array."
   ]
  },
  {
   "cell_type": "code",
   "execution_count": null,
   "metadata": {},
   "outputs": [],
   "source": [
    "# Perform an arithmetic operation on the NumPy array\n",
    "print(my_array + [1])\n",
    "\n",
    "# Perform an arithmetic operation on the Python list\n",
    "print(my_list + [1])\n"
   ]
  },
  {
   "cell_type": "markdown",
   "metadata": {},
   "source": [
    "*NOTE:* A good working knowlegde of data-types and their operability in Python will help you become more comfortable with this sort of edge case in the future. As you can imagine, this sort of thing is hard to teach, but familiarity and experience will get you there. And a key tip is to just experiment in an empty cell to aid your understanding whenever you can."
   ]
  },
  {
   "cell_type": "code",
   "execution_count": null,
   "metadata": {},
   "outputs": [],
   "source": [
    "# Create a NumPy array from a Python list\n",
    "my_list = [1,2,3,4,5,6,7,8,9,10]\n",
    "my_array = np.array(my_list)"
   ]
  },
  {
   "cell_type": "markdown",
   "metadata": {},
   "source": [
    "Next, we look at other numpy functions that produce numpy arrays"
   ]
  },
  {
   "cell_type": "code",
   "execution_count": null,
   "metadata": {},
   "outputs": [],
   "source": [
    "# Create a NumPy array of zeros\n",
    "zeros_array = np.zeros(10)"
   ]
  },
  {
   "cell_type": "code",
   "execution_count": null,
   "metadata": {},
   "outputs": [],
   "source": [
    "print(zeros_array)"
   ]
  },
  {
   "cell_type": "code",
   "execution_count": null,
   "metadata": {},
   "outputs": [],
   "source": [
    "# Create a NumPy array of ones\n",
    "ones_array = np.ones(10)"
   ]
  },
  {
   "cell_type": "code",
   "execution_count": null,
   "metadata": {},
   "outputs": [],
   "source": [
    "print(ones_array)"
   ]
  },
  {
   "cell_type": "markdown",
   "metadata": {},
   "source": [
    "More operations for numpy arrays "
   ]
  },
  {
   "cell_type": "code",
   "execution_count": null,
   "metadata": {
    "collapsed": false
   },
   "outputs": [],
   "source": [
    "# Add two NumPy arrays\n",
    "sum_array = my_array + ones_array\n",
    "print(sum_array)"
   ]
  },
  {
   "cell_type": "code",
   "execution_count": null,
   "metadata": {},
   "outputs": [],
   "source": [
    "# Subtract two NumPy arrays\n",
    "difference_array = my_array - ones_array\n",
    "print(difference_array)"
   ]
  },
  {
   "cell_type": "code",
   "execution_count": null,
   "metadata": {},
   "outputs": [],
   "source": [
    "# Multiply two NumPy arrays\n",
    "twos_array = ones_array * 2\n",
    "product_array = my_array * twos_array\n",
    "print(product_array)"
   ]
  },
  {
   "cell_type": "markdown",
   "metadata": {},
   "source": [
    "#### 🤨 TASK\n",
    "Try dividing one array by another  \n",
    "*Replace the `???` below with your answer*"
   ]
  },
  {
   "cell_type": "code",
   "execution_count": null,
   "metadata": {},
   "outputs": [],
   "source": [
    "???"
   ]
  },
  {
   "cell_type": "markdown",
   "metadata": {},
   "source": [
    "In the cell below, we can look at some of the many mathematical operations offered by numpy"
   ]
  },
  {
   "cell_type": "code",
   "execution_count": null,
   "metadata": {
    "collapsed": false
   },
   "outputs": [],
   "source": [
    "# Calculate the mean of a NumPy array\n",
    "mean = np.mean(my_array)\n",
    "print(mean)\n",
    "\n",
    "# Calculate the median of a NumPy array\n",
    "median = np.median(my_array)\n",
    "print(median)\n",
    "\n",
    "# Calculate the standard deviation of a NumPy array\n",
    "standard_deviation = np.std(my_array)\n",
    "print(standard_deviation)"
   ]
  },
  {
   "cell_type": "code",
   "execution_count": null,
   "metadata": {
    "collapsed": false
   },
   "outputs": [],
   "source": [
    "# Sort a NumPy array in ascending order\n",
    "sorted_array = np.sort(my_array)\n",
    "print(sorted_array)\n",
    "# Sort a NumPy array in descending order\n",
    "sorted_array = np.sort(my_array)[::-1]\n",
    "print(sorted_array)"
   ]
  },
  {
   "cell_type": "code",
   "execution_count": null,
   "metadata": {
    "collapsed": false
   },
   "outputs": [],
   "source": [
    "# Filter a NumPy array to only include elements that are greater than 2\n",
    "filtered_array = my_array[my_array > 2]\n",
    "print(filtered_array)\n",
    "\n",
    "# Filter a NumPy array to only include elements that are even\n",
    "filtered_array = my_array[my_array % 2 == 0]\n",
    "print(filtered_array)"
   ]
  },
  {
   "cell_type": "code",
   "execution_count": null,
   "metadata": {
    "collapsed": false
   },
   "outputs": [],
   "source": [
    "# Create a NumPy array of random integers between 0 and 10\n",
    "random_integers = np.random.randint(0, 10, 10)\n",
    "print(random_integers)"
   ]
  },
  {
   "cell_type": "markdown",
   "metadata": {},
   "source": [
    "# Loops and nesting\n",
    "Next, we briefly introduce a concept known as nesting. This is where a loop is included within a loop. While the Python Syntax of nested loops may look a little complex at first, it follows a very simple rule of 4 spaces (one tab). See an example below..."
   ]
  },
  {
   "cell_type": "code",
   "execution_count": null,
   "metadata": {},
   "outputs": [],
   "source": [
    "for i in range(1, 4):\n",
    "    # outer\n",
    "    print(i) # 4 spaces away from the edge\n",
    "    for j in range(10, 13):\n",
    "        # inner\n",
    "        print(j) # 8 spaces away from the edge"
   ]
  },
  {
   "cell_type": "markdown",
   "metadata": {},
   "source": [
    "We can also include conditions (introduced in last weeks practical) to control the flow of nested loops. In the cell below we search for even and odd numbers and only pass through even numbers to the inner loop.  \n",
    "\n",
    "We also introduce a new operator: the modulo `%` operator here. This operator returns the remainder after division between two numbers. While, it is not vital that you understand modolo and its uses at this point, if you would like to understand the operator a little more, I recommend experimenting with it in a new cell."
   ]
  },
  {
   "cell_type": "code",
   "execution_count": null,
   "metadata": {},
   "outputs": [],
   "source": [
    "for i in range(6):\n",
    "    # outer loop\n",
    "    if i % 2 == 0: # only even numbers will pass this condition\n",
    "        print(\"even\", i)\n",
    "        for j in range(1, 4):\n",
    "            # inner loop\n",
    "            print(\"inner loop\", j)\n",
    "    else:\n",
    "        print(\"odd\", i)"
   ]
  },
  {
   "cell_type": "markdown",
   "metadata": {},
   "source": [
    "As you may imagine, you can nest further i.e. to three, four or five levels. And while this is useful in some circumstances, it is usually consider non-Pythonic. See an example of three nests below"
   ]
  },
  {
   "cell_type": "code",
   "execution_count": null,
   "metadata": {},
   "outputs": [],
   "source": [
    "for i in range(1, 2):\n",
    "    # outer\n",
    "    for j in range(10, 13):\n",
    "        # inner\n",
    "        for k in range(20, 23):\n",
    "            # more inner\n",
    "            print(i, j, k)"
   ]
  },
  {
   "cell_type": "markdown",
   "metadata": {},
   "source": [
    "While three is still just about comprehensible, with further nesting can (and will) create confusion for others trying to follow your code _(more nesting == less readibility)_, and you can create computational problems (as exponentially more operations need to be done with more nesting). Instead of relying only on loops to repeat over code, we can can lean on functional programming. This is one of Python's key strengths as it allows us to reduce the amount of repeated code. We introduce user defined functions in Python next..."
   ]
  },
  {
   "cell_type": "markdown",
   "metadata": {},
   "source": [
    "# Functions"
   ]
  },
  {
   "cell_type": "markdown",
   "metadata": {
    "collapsed": false
   },
   "source": [
    "Functions are very useful for breaking our code down into components. This makes the code easier to understand and allows us to reuse blocks of code easily (without copying and pasting!)."
   ]
  },
  {
   "cell_type": "markdown",
   "metadata": {
    "collapsed": false
   },
   "source": [
    "The first line tells Python that we're going to define a new function with the ``def`` keyword, and it gives the name of the function and any parameters it will take.\n",
    "\n",
    "Every line of the body of the function must be indented, this is how Python knows that the line belongs to the function and not to the main code."
   ]
  },
  {
   "cell_type": "code",
   "execution_count": null,
   "metadata": {},
   "outputs": [],
   "source": [
    "def sayHello(name):\n",
    "    print('Hello ', name)\n",
    "\n",
    "sayHello('Ben')"
   ]
  },
  {
   "cell_type": "markdown",
   "metadata": {
    "collapsed": false
   },
   "source": [
    "### The Return Statement\n",
    "As well as doing things within a function we often want to return a value to the calling code. This is done with the return keyword."
   ]
  },
  {
   "cell_type": "code",
   "execution_count": null,
   "metadata": {},
   "outputs": [],
   "source": [
    "def volumeOfCube(lengthOfEdge):\n",
    "    # the length of the edge cubed\n",
    "    vol = pow(lengthOfEdge,3)\n",
    "    return vol\n",
    "\n",
    "volume = volumeOfCube(5)\n",
    "print(\"Volume is {}\".format(volume))"
   ]
  },
  {
   "cell_type": "markdown",
   "metadata": {
    "collapsed": false
   },
   "source": [
    "Functions give us a way to abstract what we're doing.\n",
    "For example, calculating the volume of a cube is a special case of calculating the volume of a cuboid, which is a special case of calculating the volume of a prism"
   ]
  },
  {
   "cell_type": "code",
   "execution_count": null,
   "metadata": {},
   "outputs": [],
   "source": [
    "def volumeOfPrism(baseArea, height):\n",
    "    return baseArea * height\n",
    "\n",
    "def areaOfRectangle(l1, l2):\n",
    "    return l1 * l2\n",
    "\n",
    "def volumeOfCuboid(l1, l2, l3):\n",
    "    baseArea = areaOfRectangle(l1, l2)\n",
    "    vol = volumeOfPrism(baseArea, l3)\n",
    "    return vol\n",
    "\n",
    "def volumeOfCube(lengthOfEdge):\n",
    "    return volumeOfCuboid(lengthOfEdge, lengthOfEdge, lengthOfEdge)\n",
    "\n",
    "volumeOfCube(5)"
   ]
  },
  {
   "cell_type": "markdown",
   "metadata": {
    "collapsed": false
   },
   "source": [
    "Returning multiple values is easy, Python packs the values into a tuple and will also unpack the tuple to assign the return values to multiple variables."
   ]
  },
  {
   "cell_type": "code",
   "execution_count": null,
   "metadata": {
    "collapsed": false
   },
   "outputs": [],
   "source": [
    "def getSumAndLength(listOfInts):\n",
    "    return sum(listOfInts), len(listOfInts)\n",
    "\n",
    "# function returns two values which are assigned to two variables\n",
    "s, l = getSumAndLength([1, 2, 3])\n",
    "\n",
    "print('sum of numbers = {}'.format(s))\n",
    "print('length of list = {}'.format(l))"
   ]
  },
  {
   "cell_type": "markdown",
   "metadata": {
    "collapsed": false
   },
   "source": [
    "#### 🤨 TASK\n",
    "A pizza restaurant wants to make their kitchen more efficient.\n",
    "They intend to have one chef responsible for making all the bases, another chopping items for the toppings, another preparing the cheese.\n",
    "Then the head chef can easily assemble all the parts and put the pizza in the oven.\n",
    "\n",
    "To make this happen the restaurant requires a system that processes each order and updates a job list for each worker.\n",
    "When a pizza is ordered the required base, cheese and toppings are added to dictionaries which tell the different chefs what they need to prepare.\n",
    "For example, if a pizza is ordered with mushrooms for the topping then the value of 'mushrooms' in the toppings dictionary should be increased by one.\n",
    "\n",
    "A base type must always be specified, the cheese type should default to Mozarella but there is a gluten free option.\n",
    "Any number of additional toppings can then be requested, including zero.\n",
    "Create a function which fulfils these requirements and updates the dictionaries shown below when a pizza is ordered.\n",
    "\n",
    "You can assume that the inputs are always valid, but if you want an extra challenge then think about how you could check for errors (e.g. trying to order a topping which is not available).\n",
    "\n",
    "Check that your function works by calling it with a couple of different pizza orders and printing out the dictionaries."
   ]
  },
  {
   "cell_type": "code",
   "execution_count": null,
   "metadata": {
    "collapsed": false
   },
   "outputs": [],
   "source": [
    "toppings = {\n",
    "    'pepperoni': 0,\n",
    "    'olives': 0,\n",
    "    'red_peppers': 0,\n",
    "    'green_peppers': 0,\n",
    "    'mushrooms': 0,\n",
    "    'chicken': 0,\n",
    "    'stilton': 0,\n",
    "    'ricotta': 0,\n",
    "}\n",
    "\n",
    "base = {\n",
    "    'thin': 0,\n",
    "    'deep_pan': 0,\n",
    "    'gluten_free': 0\n",
    "}\n",
    "\n",
    "cheese = {\n",
    "    'mozzarella': 0,\n",
    "    'dairy_free': 0\n",
    "}\n",
    "\n",
    "def orderPizza(baseType, *toppingTypes, cheeseType = 'mozzarella'):\n",
    "    global toppings, base, cheese\n",
    "    # this line is not necessary but it makes it clear that we are updating the global variables\n",
    "\n",
    "    # *toppingTypes is a tuple of all the toppings for the pizza\n",
    "    # default cheese type is mozzarella\n",
    "\n",
    "    # Now update the dictionaries toppings, base and cheese using arguments to orderPizza\n",
    "    return"
   ]
  },
  {
   "cell_type": "markdown",
   "metadata": {
    "collapsed": false
   },
   "source": [
    "#### 🤨 TASK\n",
    "Suppose you've been given name and address information from a database.\n",
    "Create functions to format this information so that it can be printed onto address labels.\n",
    "For example, the entry\n",
    "\n",
    "```['Mrs', 'Joan', 'Smith', '3 Huntsmans Avenue', 'Batley', 'WF17 3RW']```\n",
    "\n",
    "should print as\n",
    "\n",
    "Mrs J. Smith\n",
    "3 Huntsmans Avenue\n",
    "Batley\n",
    "WF17 3RW\n"
   ]
  },
  {
   "cell_type": "code",
   "execution_count": null,
   "metadata": {
    "collapsed": false
   },
   "outputs": [],
   "source": [
    "mailingList = [\n",
    "    ['title', 'fname', 'sname', 'addr1', 'addr2', 'postcode'],\n",
    "    ['Mrs', 'Joan', 'Smith', '3 Huntsmans Avenue', 'Batley', 'WF17 3RW'],\n",
    "    ['Mr', 'Fred', 'Jones', '15a Brighton Road', 'Wyke', 'BD6 4NN'],\n",
    "    ['Dr', 'Maria', 'Tan', '122 High Street', 'Ilkley', 'LS29 2AD']\n",
    "]\n",
    "\n",
    "def prettyPrintAddressLabels(recipients):\n",
    "    for i, record in enumerate(recipients):\n",
    "    # format the entry\n",
    "\n",
    "    # return a list of formatted entries\n",
    "    return\n",
    "\n",
    "prettyPrintAddressLabels(mailingList)"
   ]
  },
  {
   "cell_type": "markdown",
   "metadata": {},
   "source": [
    "# Extra\n",
    "### Getting ahead of the curve...\n",
    "In the weeks that follow, we will be introducing some of Python's main data manipulation and visualisation libraries. \n",
    "These are Pandas (https://pandas.pydata.org/), Numpy (https://numpy.org/), and Matplotlib (https://matplotlib.org/) .\n",
    "These libraries are absolutely vital for data science in Python (and probably the most popular third-party libraries in the entire language), and you will find that these packages will help you solve a majority of problems in Python. They are also extremely versatile and there are a lot more Python packages that build on top of these three.  \n"
   ]
  },
  {
   "cell_type": "code",
   "execution_count": null,
   "metadata": {},
   "outputs": [],
   "source": []
  },
  {
   "cell_type": "markdown",
   "metadata": {},
   "source": []
  }
 ],
 "metadata": {
  "kernelspec": {
   "display_name": "hestia",
   "language": "python",
   "name": "python3"
  },
  "language_info": {
   "codemirror_mode": {
    "name": "ipython",
    "version": 3
   },
   "file_extension": ".py",
   "mimetype": "text/x-python",
   "name": "python",
   "nbconvert_exporter": "python",
   "pygments_lexer": "ipython3",
   "version": "3.12.0"
  }
 },
 "nbformat": 4,
 "nbformat_minor": 2
}

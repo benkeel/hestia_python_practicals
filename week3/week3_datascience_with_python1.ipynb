{
 "cells": [
  {
   "cell_type": "markdown",
   "metadata": {},
   "source": [
    "# Lab Notebook 3 – Data Science with Python "
   ]
  },
  {
   "cell_type": "markdown",
   "metadata": {},
   "source": [
    "The next two week's materials are designed to cover some of the 3rd party data science and visualisation libraries that are commonly used in Python -> Pandas (Python Data Analysis Library) and Matplotlib (Visualisation with Python)\n",
    "In this lab notebook, we will cover:\n",
    "- 1) A new data type introduced by Pandas: DataFrames\n",
    "- 2) Basics of data cleaning with Pandas\n",
    "- 3) Loading in and saving data to and from csv"
   ]
  },
  {
   "cell_type": "markdown",
   "metadata": {},
   "source": [
    "# Pandas\n",
    "Pandas is a third party Python library for Data analysis. It introduces useful data types that contain lots of new inbuilt methods for data handling. These new data types are a DataSeries and Dataframe. While it is not important to understand the specifics yet, it may be important to note that both of these are built on top of numpy arrays, so they are well optimised and pandas and numpy share lots of similarities (of naming conventions and function etc.). \n",
    "\n",
    "Let's start by looking at these new data types, firstly the Data Series (which operate like arrays/lists)"
   ]
  },
  {
   "cell_type": "code",
   "execution_count": null,
   "metadata": {},
   "outputs": [],
   "source": [
    "import pandas as pd"
   ]
  },
  {
   "cell_type": "code",
   "execution_count": null,
   "metadata": {},
   "outputs": [],
   "source": [
    "country_name_list = [\"United Kingdom\", \"Burundi\", \"Moldova\", \"Singapore\", \"Canada\", \"Taiwan\", \"Uruguay\"]"
   ]
  },
  {
   "cell_type": "code",
   "execution_count": null,
   "metadata": {},
   "outputs": [],
   "source": [
    "country_name_series = pd.Series(country_name_list, name=\"Country Name\")"
   ]
  },
  {
   "cell_type": "code",
   "execution_count": null,
   "metadata": {},
   "outputs": [],
   "source": [
    "country_name_series.sort_values()"
   ]
  },
  {
   "cell_type": "code",
   "execution_count": null,
   "metadata": {},
   "outputs": [],
   "source": [
    "# Look at the variable below, why do you think the order is not changed? \n",
    "country_name_series"
   ]
  },
  {
   "cell_type": "code",
   "execution_count": null,
   "metadata": {},
   "outputs": [],
   "source": [
    "type(country_name_series)"
   ]
  },
  {
   "cell_type": "code",
   "execution_count": null,
   "metadata": {},
   "outputs": [],
   "source": [
    "# dtype is the data type, which is important for pandas to know which operations can be computed on that column i.e. mathematical operations\n",
    "country_name_series.dtype # 'O' means object which is a generic type "
   ]
  },
  {
   "cell_type": "markdown",
   "metadata": {},
   "source": [
    "## Dataframes\n",
    "Let's now look at DataFrames (which store collections of series into a table or data frame)"
   ]
  },
  {
   "cell_type": "code",
   "execution_count": null,
   "metadata": {},
   "outputs": [],
   "source": [
    "country_name_list = [\"United Kingdom\", \"Burundi\", \"Moldova\", \"Singapore\", \"Cuba\", \"Taiwan\", \"Uruguay\"]\n",
    "continent = [\"Europe\", \"Africa\", \"Europe\", \"Asia\", \"Central America\", None, \"South America\"]\n",
    "population_greater_than_10million = [True, True, False, False, True, True, False] # Boolean for population more than 10 million or not\n",
    "hdi_list = [0.929, 0.426, 0.767, 0.939, 0.764, 0.926, 0.809] # Human Development Index\n",
    "area_km2_list = [242495, 27834, 30334 , 734.3, 109884 , 36197, 176215] # Area in km^2"
   ]
  },
  {
   "cell_type": "markdown",
   "metadata": {},
   "source": [
    "We can hard code our column names using a dictionary"
   ]
  },
  {
   "cell_type": "code",
   "execution_count": null,
   "metadata": {},
   "outputs": [],
   "source": [
    "country_info_df = pd.DataFrame({\"Country Name\":country_name_list, \"Continennt\" : continent,\\\n",
    "     \"Population greater than 10 million\" : population_greater_than_10million,\n",
    "     \"HDI\" : hdi_list, \"Area (km squared)\" : area_km2_list})"
   ]
  },
  {
   "cell_type": "code",
   "execution_count": null,
   "metadata": {},
   "outputs": [],
   "source": [
    "# Look at our dataframe\n",
    "country_info_df"
   ]
  },
  {
   "cell_type": "code",
   "execution_count": null,
   "metadata": {},
   "outputs": [],
   "source": [
    "# Sometime we only want a sneak preview of our data (especially if there are 100s+ of rows), for this we can use the .head() or .foot() method\n",
    "country_info_df.head()"
   ]
  },
  {
   "cell_type": "markdown",
   "metadata": {},
   "source": [
    "#### 🤨 TASK\n",
    "We've looked at the header, in the cell below look at the footer of the data  \n",
    "*Replace the `???` below with your answer*"
   ]
  },
  {
   "cell_type": "code",
   "execution_count": null,
   "metadata": {},
   "outputs": [],
   "source": [
    "???"
   ]
  },
  {
   "cell_type": "code",
   "execution_count": null,
   "metadata": {},
   "outputs": [],
   "source": [
    "type(country_info_df)"
   ]
  },
  {
   "cell_type": "markdown",
   "metadata": {},
   "source": [
    "We can still extract the data series from the dataframe using square brackets with a string identifier: following the syntax `dataframe['column_name']`. See below:"
   ]
  },
  {
   "cell_type": "code",
   "execution_count": null,
   "metadata": {},
   "outputs": [],
   "source": [
    "country_info_df['Country Name']"
   ]
  },
  {
   "cell_type": "markdown",
   "metadata": {},
   "source": [
    "We can look at all columns..."
   ]
  },
  {
   "cell_type": "code",
   "execution_count": null,
   "metadata": {},
   "outputs": [],
   "source": [
    "country_info_df.columns"
   ]
  },
  {
   "cell_type": "markdown",
   "metadata": {},
   "source": [
    "We can look at the information of the dataframe including the data types (dtype), index, non-null count (non missing values) and memory usage."
   ]
  },
  {
   "cell_type": "code",
   "execution_count": null,
   "metadata": {},
   "outputs": [],
   "source": [
    "# float64 is a 64-bit float, i.e. it has precision up to 64 decimals.\n",
    "country_info_df.info()"
   ]
  },
  {
   "cell_type": "markdown",
   "metadata": {},
   "source": [
    "Hmm, you may have noticed that there are a few minor mistakes with our data, let's clean it up a little (next week we will go further). Obviously, we can also go back and change the original cells, but let's assume we loaded in some data from another source.\n",
    "\n",
    "Firstly, there is mistake with the column name: \"Continennt\"..."
   ]
  },
  {
   "cell_type": "code",
   "execution_count": null,
   "metadata": {},
   "outputs": [],
   "source": [
    "country_info_df.rename(columns={\"Continennt\": \"Continent\"})"
   ]
  },
  {
   "cell_type": "markdown",
   "metadata": {},
   "source": [
    "#### 🤨 Tough TASK\n",
    "Open two new cells below and in the first look at the `country_info_df` dataframe again, and see if anything changed. In the second, try to fix the `country_info_df` so the changes are saved.   \n",
    "*Hint: either use a keyboard shortcut ('b' for below) or the buttons at the top of the notebook to open new cells*"
   ]
  },
  {
   "cell_type": "markdown",
   "metadata": {},
   "source": [
    "### Changing data types\n",
    "We may also want the `Area km` to be of type integer (as this helps readability and we may not care about 300 meters in Singapore)."
   ]
  },
  {
   "cell_type": "code",
   "execution_count": null,
   "metadata": {},
   "outputs": [],
   "source": [
    "country_info_df['Area (km squared)'] = country_info_df['Area (km squared)'].astype(int)"
   ]
  },
  {
   "cell_type": "markdown",
   "metadata": {},
   "source": [
    "#### 🤨 TASK\n",
    "Have a look at the new dtype of the area column  \n",
    "*Replace the `???` below with your answer*"
   ]
  },
  {
   "cell_type": "code",
   "execution_count": null,
   "metadata": {},
   "outputs": [],
   "source": [
    "???"
   ]
  },
  {
   "cell_type": "markdown",
   "metadata": {},
   "source": [
    "Pandas comes in built with a quick data summary method: `.describe()`. This will only work for int or float columns"
   ]
  },
  {
   "cell_type": "code",
   "execution_count": null,
   "metadata": {},
   "outputs": [],
   "source": [
    "country_info_df.describe()"
   ]
  },
  {
   "cell_type": "markdown",
   "metadata": {},
   "source": [
    "## Adding new columns\n",
    "This is easy enough, and roughly looks like a variable assignment..."
   ]
  },
  {
   "cell_type": "code",
   "execution_count": null,
   "metadata": {},
   "outputs": [],
   "source": [
    "country_info_df['Currency'] = [\"pound\", \"france\", \"leu\", \"dollar\", \"peso\", \"dollar\", \"dollar\"] # This has to be the same length of the data or it fails.\n",
    "country_info_df['Has a Govt'] = True # We can also set single values to a column"
   ]
  },
  {
   "cell_type": "code",
   "execution_count": null,
   "metadata": {},
   "outputs": [],
   "source": [
    "country_info_df.head()"
   ]
  },
  {
   "cell_type": "markdown",
   "metadata": {},
   "source": [
    "## Dropping columns\n",
    "Actually, let's drop that last column, it is redundant here..."
   ]
  },
  {
   "cell_type": "code",
   "execution_count": null,
   "metadata": {},
   "outputs": [],
   "source": [
    "country_info_df = country_info_df.drop(\"Has a Govt\", axis=1) # axis=1 means columns, axis=0 means index. This is a numpy convention\n",
    "country_info_df.head()"
   ]
  },
  {
   "cell_type": "markdown",
   "metadata": {},
   "source": [
    "#### 🤨 TASK\n",
    "Try running the cell above again, can you interpret the Error that is produced now?  \n",
    "*To get things back to normal, you can re load the data or just restart the entire notebook*"
   ]
  },
  {
   "cell_type": "markdown",
   "metadata": {},
   "source": [
    "## Subsetting data with locate (.loc & .iloc)\n",
    "`.loc` and `.iloc` are extremely important methods for subsetting data. They allow us to use conditions to search for things in our dataframes (`.loc`). Or search for indexes (with `.iloc`)."
   ]
  },
  {
   "cell_type": "code",
   "execution_count": null,
   "metadata": {},
   "outputs": [],
   "source": [
    "# Let's get all the European countries\n",
    "country_info_df.loc[country_info_df[\"Continent\"] == \"Europe\"]"
   ]
  },
  {
   "cell_type": "code",
   "execution_count": null,
   "metadata": {},
   "outputs": [],
   "source": [
    "# Let's get all the high HDI countries\n",
    "country_info_df.loc[country_info_df[\"HDI\"] > 0.8]"
   ]
  },
  {
   "cell_type": "code",
   "execution_count": null,
   "metadata": {},
   "outputs": [],
   "source": [
    "# Let's get all the high HDI countries in Europe in our dataframe.\n",
    "# We use the syntax (condition) & (condition) within the loc\n",
    "country_info_df.loc[(country_info_df[\"Continent\"] == \"Europe\") & (country_info_df[\"HDI\"] > 0.8)]"
   ]
  },
  {
   "cell_type": "code",
   "execution_count": null,
   "metadata": {},
   "outputs": [],
   "source": [
    "# Index loc works like this...\n",
    "country_info_df.iloc[5]"
   ]
  },
  {
   "cell_type": "markdown",
   "metadata": {},
   "source": [
    "#### 🤨 TASK\n",
    "Subset all the countries that use a currency called \"dollar\"  \n",
    "*Replace the `???` below with your answer*"
   ]
  },
  {
   "cell_type": "code",
   "execution_count": null,
   "metadata": {},
   "outputs": [],
   "source": [
    "???"
   ]
  },
  {
   "cell_type": "markdown",
   "metadata": {},
   "source": [
    "## More advanced loc to replace missing value\n",
    "This may be a bit more advanced, but I will introduce to you how to replace missing data on a given row here.\n",
    "You may have noticed one final mistake with the dataframe. Taiwan does not have a value for continent. Please see below:\n"
   ]
  },
  {
   "cell_type": "code",
   "execution_count": null,
   "metadata": {},
   "outputs": [],
   "source": [
    "country_info_df.loc[country_info_df[\"Country Name\"] == \"Taiwan\"]"
   ]
  },
  {
   "cell_type": "code",
   "execution_count": null,
   "metadata": {},
   "outputs": [],
   "source": [
    "country_info_df.loc[country_info_df[\"Country Name\"] == \"Taiwan\"]['Continent']"
   ]
  },
  {
   "cell_type": "markdown",
   "metadata": {},
   "source": [
    "We can fill in this value using loc (or iloc if we use `5`)..."
   ]
  },
  {
   "cell_type": "code",
   "execution_count": null,
   "metadata": {},
   "outputs": [],
   "source": [
    "country_info_df.loc[country_info_df[\"Country Name\"] == \"Taiwan\", \"Continent\"] = \"Asia\""
   ]
  },
  {
   "cell_type": "code",
   "execution_count": null,
   "metadata": {},
   "outputs": [],
   "source": [
    "country_info_df.loc[country_info_df[\"Country Name\"] == \"Taiwan\"]"
   ]
  },
  {
   "cell_type": "code",
   "execution_count": null,
   "metadata": {},
   "outputs": [],
   "source": [
    "country_info_df"
   ]
  },
  {
   "cell_type": "markdown",
   "metadata": {},
   "source": [
    "## Reading in csv files to pandas dataframe\n",
    "For this purpose, I have found a small, but unformatted csv file from the Hestia API docs [crop.csv](https://www.hestia.earth/docs/#hestia-calculation-models-ipcc-2013-including-feedbacks)"
   ]
  },
  {
   "cell_type": "code",
   "execution_count": null,
   "metadata": {},
   "outputs": [],
   "source": [
    "crop = pd.read_csv(\"data/crop.csv\")"
   ]
  },
  {
   "cell_type": "markdown",
   "metadata": {},
   "source": [
    "#### 🤨 TASK\n",
    "Let's have a quick look at the head (and foot) of this data, and some basic stats...\n",
    "*Replace the `???` below with your answer*"
   ]
  },
  {
   "cell_type": "code",
   "execution_count": null,
   "metadata": {},
   "outputs": [],
   "source": [
    "???"
   ]
  },
  {
   "cell_type": "markdown",
   "metadata": {},
   "source": [
    "Let's look at the columns in the data"
   ]
  },
  {
   "cell_type": "code",
   "execution_count": null,
   "metadata": {},
   "outputs": [],
   "source": [
    "crop.columns"
   ]
  },
  {
   "cell_type": "code",
   "execution_count": null,
   "metadata": {},
   "outputs": [],
   "source": [
    "## Look at unique land use categories in this data\n",
    "crop[\"IPCC_LAND_USE_CATEGORY\"].unique()"
   ]
  },
  {
   "cell_type": "markdown",
   "metadata": {},
   "source": [
    "For now let's just subset at a few columns (feel free to change if you want)"
   ]
  },
  {
   "cell_type": "code",
   "execution_count": null,
   "metadata": {},
   "outputs": [],
   "source": [
    "columns_to_examine = [\"term.id\", \"IPCC_LAND_USE_CATEGORY\", \"Nursery_duration\"]"
   ]
  },
  {
   "cell_type": "code",
   "execution_count": null,
   "metadata": {},
   "outputs": [],
   "source": [
    "crop_sub = crop[columns_to_examine]"
   ]
  },
  {
   "cell_type": "code",
   "execution_count": null,
   "metadata": {},
   "outputs": [],
   "source": [
    "crop_sub.head()"
   ]
  },
  {
   "cell_type": "markdown",
   "metadata": {},
   "source": [
    "Next, let's rename these columns to something simpler. Remember to be careful, as we can look information from our data if we lose verbosity."
   ]
  },
  {
   "cell_type": "code",
   "execution_count": null,
   "metadata": {},
   "outputs": [],
   "source": [
    "crop_sub = crop_sub.rename(columns={\"term.id\": \"Name\", \"IPCC_LAND_USE_CATEGORY\": \"Land Use Category\", \"Nursery_duration\": \"Nursery Duration\"})"
   ]
  },
  {
   "cell_type": "code",
   "execution_count": null,
   "metadata": {},
   "outputs": [],
   "source": [
    "crop_sub.head()"
   ]
  },
  {
   "cell_type": "code",
   "execution_count": null,
   "metadata": {},
   "outputs": [],
   "source": [
    "len(crop_sub)"
   ]
  },
  {
   "cell_type": "markdown",
   "metadata": {},
   "source": [
    "We have 1424 rows of data, but not all data is present. We can drop missing values."
   ]
  },
  {
   "cell_type": "markdown",
   "metadata": {},
   "source": [
    "## Dropping NaN Values\n",
    "NaN means not a number"
   ]
  },
  {
   "cell_type": "code",
   "execution_count": null,
   "metadata": {},
   "outputs": [],
   "source": [
    "crop_sub = crop_sub.dropna(subset=[\"Nursery Duration\"])"
   ]
  },
  {
   "cell_type": "code",
   "execution_count": null,
   "metadata": {},
   "outputs": [],
   "source": [
    "len(crop_sub)"
   ]
  },
  {
   "cell_type": "markdown",
   "metadata": {},
   "source": [
    "## Save new data\n",
    "Saving to a file is very easy. We can use the `.to_csv` method. "
   ]
  },
  {
   "cell_type": "code",
   "execution_count": null,
   "metadata": {},
   "outputs": [],
   "source": [
    "crop_sub.to_csv(\"data/formatted_crop_subset.csv\")"
   ]
  },
  {
   "cell_type": "markdown",
   "metadata": {},
   "source": [
    "# Extra"
   ]
  },
  {
   "cell_type": "markdown",
   "metadata": {},
   "source": [
    "## Note on 'Methods'\n",
    "If you take nothing else away from the explanation that follows, *Methods are functions* (introduced last week). They are slightly different in that they are functions specific to a class of object. Below we look at some of the in-built 'methods' that come with strings:"
   ]
  },
  {
   "cell_type": "code",
   "execution_count": null,
   "metadata": {},
   "outputs": [],
   "source": [
    "my_string = \"hello\" # tip: why not change the string here to experiment"
   ]
  },
  {
   "cell_type": "code",
   "execution_count": null,
   "metadata": {},
   "outputs": [],
   "source": [
    "my_string.upper() # the syntax for methods is '.<method_name>()'"
   ]
  },
  {
   "cell_type": "code",
   "execution_count": null,
   "metadata": {},
   "outputs": [],
   "source": [
    "my_string.capitalize()"
   ]
  },
  {
   "cell_type": "markdown",
   "metadata": {},
   "source": [
    "As we see above, the syntax is `.<method_name>()`. The `()` is function call. Most object have methods and a pro-tip, if I have not already taught this, is to press tab after you type the `.` of your variable to see a list of potential methods (ignore anything with an underscore `_` for now...).    \n",
    "\n",
    "See more String method here: https://www.w3schools.com/python/python_ref_string.asp"
   ]
  },
  {
   "cell_type": "markdown",
   "metadata": {},
   "source": [
    "# (More) Dataframe Methods\n",
    "We have already seen lots of methods i.e. `.head()` `.describe()`, `.rename(<args go here>)`."
   ]
  },
  {
   "cell_type": "markdown",
   "metadata": {},
   "source": [
    "*Note on cell below:* It is good pratice to minimise, what in software development we call, 'scope'. This means that define/declare variables near to where they are used. This prevents problems where a variable is modified that then means that later code does not work as intended. Especially in jupyter notebooks (where you can run cells in any ordered) this is important. Let's redeclare the `crop` dataframe below.\n"
   ]
  },
  {
   "cell_type": "code",
   "execution_count": null,
   "metadata": {},
   "outputs": [],
   "source": [
    "# redeclare the dataframe\n",
    "crop = pd.read_csv(\"data/crop.csv\")"
   ]
  },
  {
   "cell_type": "code",
   "execution_count": null,
   "metadata": {},
   "outputs": [],
   "source": [
    "crop.info()"
   ]
  },
  {
   "cell_type": "code",
   "execution_count": null,
   "metadata": {},
   "outputs": [],
   "source": [
    "crop['Nursery_duration'].count()"
   ]
  },
  {
   "cell_type": "code",
   "execution_count": null,
   "metadata": {},
   "outputs": [],
   "source": [
    "crop['Nursery_duration'].sum()"
   ]
  },
  {
   "cell_type": "markdown",
   "metadata": {},
   "source": [
    "#### 🤨 TASK\n",
    "Before continuing, try pressing 'tab' after the `.` below to see what we can see. Remember we need to include a `()` at the end if we want to call methods. Confusingly, we do not use `()` if what follows `.` is a property (introduced after this cell).  \n",
    "*Delete the `???` and press the tab key*"
   ]
  },
  {
   "cell_type": "code",
   "execution_count": null,
   "metadata": {},
   "outputs": [],
   "source": [
    "crop.???"
   ]
  },
  {
   "cell_type": "markdown",
   "metadata": {},
   "source": [
    "### Quick note on properties\n",
    "These are, like their namesake, properties. They store variable i.e. the index is stored as a property. They will often be named like `is_...` or named like an object's property: `size` or `index`. \n",
    "\n",
    "**Remember:** you can use the in-built `help` function if you want to read more about a method (but do not use `()` inside the `help(<method>)`)"
   ]
  },
  {
   "cell_type": "code",
   "execution_count": null,
   "metadata": {},
   "outputs": [],
   "source": [
    "crop.index"
   ]
  },
  {
   "cell_type": "code",
   "execution_count": null,
   "metadata": {},
   "outputs": [],
   "source": [
    "crop.size"
   ]
  },
  {
   "cell_type": "code",
   "execution_count": null,
   "metadata": {},
   "outputs": [],
   "source": []
  }
 ],
 "metadata": {
  "kernelspec": {
   "display_name": "hestia",
   "language": "python",
   "name": "python3"
  },
  "language_info": {
   "codemirror_mode": {
    "name": "ipython",
    "version": 3
   },
   "file_extension": ".py",
   "mimetype": "text/x-python",
   "name": "python",
   "nbconvert_exporter": "python",
   "pygments_lexer": "ipython3",
   "version": "3.12.0"
  }
 },
 "nbformat": 4,
 "nbformat_minor": 2
}

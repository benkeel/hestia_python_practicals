{
 "cells": [
  {
   "cell_type": "markdown",
   "metadata": {},
   "source": [
    "# Lab Notebook 3 – Data Science with Python "
   ]
  },
  {
   "cell_type": "markdown",
   "metadata": {},
   "source": [
    "The next two week's materials are designed to cover some of the 3rd party data science and visualisation libraries that are commonly used in Python -> Pandas (Python Data Analysis Library) and Matplotlib (Visualisation with Python)\n",
    "In this lab notebook, we will cover:\n",
    "- 1) A new data type introduced by Pandas: DataFrames\n",
    "- 2) Basics of data cleaning with Pandas\n",
    "- 3) Loading in and saving data to and from csv"
   ]
  },
  {
   "cell_type": "markdown",
   "metadata": {},
   "source": [
    "# Pandas\n",
    "Pandas is a third party Python library for Data analysis. It introduces useful data types that contain lots of new inbuilt methods for data handling. These new data types are a DataSeries and Dataframe. While it is not important to understand the specifics yet, it may be important to note that both of these are built on top of numpy arrays, so they are well optimised and pandas and numpy share lots of similarities (of naming conventions and function etc.). \n",
    "\n",
    "Let's start by looking at these new data types, firstly the Data Series (which operate like arrays/lists)"
   ]
  },
  {
   "cell_type": "code",
   "execution_count": 1,
   "metadata": {},
   "outputs": [],
   "source": [
    "import pandas as pd\n"
   ]
  },
  {
   "cell_type": "code",
   "execution_count": 2,
   "metadata": {},
   "outputs": [],
   "source": [
    "country_name_list = [\"United Kingdom\", \"Burundi\", \"Moldova\", \"Singapore\", \"Canada\", \"Taiwan\", \"Uruguay\"]\n"
   ]
  },
  {
   "cell_type": "code",
   "execution_count": 3,
   "metadata": {},
   "outputs": [],
   "source": [
    "country_name_series = pd.Series(country_name_list, name=\"Country Name\")\n"
   ]
  },
  {
   "cell_type": "code",
   "execution_count": 4,
   "metadata": {},
   "outputs": [
    {
     "data": {
      "text/plain": [
       "1           Burundi\n",
       "4            Canada\n",
       "2           Moldova\n",
       "3         Singapore\n",
       "5            Taiwan\n",
       "0    United Kingdom\n",
       "6           Uruguay\n",
       "Name: Country Name, dtype: object"
      ]
     },
     "execution_count": 4,
     "metadata": {},
     "output_type": "execute_result"
    }
   ],
   "source": [
    "country_name_series.sort_values()\n"
   ]
  },
  {
   "cell_type": "code",
   "execution_count": 5,
   "metadata": {},
   "outputs": [
    {
     "data": {
      "text/plain": [
       "0    United Kingdom\n",
       "1           Burundi\n",
       "2           Moldova\n",
       "3         Singapore\n",
       "4            Canada\n",
       "5            Taiwan\n",
       "6           Uruguay\n",
       "Name: Country Name, dtype: object"
      ]
     },
     "execution_count": 5,
     "metadata": {},
     "output_type": "execute_result"
    }
   ],
   "source": [
    "# Look at the variable below, why do you think the order is not changed? \n",
    "country_name_series\n"
   ]
  },
  {
   "cell_type": "code",
   "execution_count": 8,
   "metadata": {},
   "outputs": [
    {
     "data": {
      "text/plain": [
       "1           Burundi\n",
       "4            Canada\n",
       "2           Moldova\n",
       "3         Singapore\n",
       "5            Taiwan\n",
       "0    United Kingdom\n",
       "6           Uruguay\n",
       "Name: Country Name, dtype: object"
      ]
     },
     "execution_count": 8,
     "metadata": {},
     "output_type": "execute_result"
    }
   ],
   "source": [
    "# To keep the order changed, we would need to create a new variable\n",
    "country_name_series_sorted = country_name_series.sort_values()\n",
    "country_name_series_sorted\n"
   ]
  },
  {
   "cell_type": "code",
   "execution_count": 9,
   "metadata": {},
   "outputs": [
    {
     "data": {
      "text/plain": [
       "pandas.core.series.Series"
      ]
     },
     "execution_count": 9,
     "metadata": {},
     "output_type": "execute_result"
    }
   ],
   "source": [
    "type(country_name_series)\n"
   ]
  },
  {
   "cell_type": "code",
   "execution_count": 10,
   "metadata": {},
   "outputs": [
    {
     "data": {
      "text/plain": [
       "dtype('O')"
      ]
     },
     "execution_count": 10,
     "metadata": {},
     "output_type": "execute_result"
    }
   ],
   "source": [
    "# dtype is the data type, which is important for pandas to know which operations can be computed on that column i.e. mathematical operations\n",
    "country_name_series.dtype # 'O' means object which is a generic type \n"
   ]
  },
  {
   "cell_type": "markdown",
   "metadata": {},
   "source": [
    "## Dataframes\n",
    "Let's now look at DataFrames (which store collections of series into a table or data frame)"
   ]
  },
  {
   "cell_type": "code",
   "execution_count": 11,
   "metadata": {},
   "outputs": [],
   "source": [
    "country_name_list = [\"United Kingdom\", \"Burundi\", \"Moldova\", \"Singapore\", \"Cuba\", \"Taiwan\", \"Uruguay\"]\n",
    "continent = [\"Europe\", \"Africa\", \"Europe\", \"Asia\", \"Central America\", None, \"South America\"]\n",
    "population_greater_than_10million = [True, True, False, False, True, True, False] # Boolean for population more than 10 million or not\n",
    "hdi_list = [0.929, 0.426, 0.767, 0.939, 0.764, 0.926, 0.809] # Human Development Index\n",
    "area_km2_list = [242495, 27834, 30334 , 734.3, 109884 , 36197, 176215] # Area in km^2\n"
   ]
  },
  {
   "cell_type": "markdown",
   "metadata": {},
   "source": [
    "We can hard code our column names using a dictionary"
   ]
  },
  {
   "cell_type": "code",
   "execution_count": 12,
   "metadata": {},
   "outputs": [],
   "source": [
    "country_info_df = pd.DataFrame({\"Country Name\":country_name_list, \"Continennt\" : continent,\n",
    "     \"Population greater than 10 million\" : population_greater_than_10million,\n",
    "     \"HDI\" : hdi_list, \"Area (km squared)\" : area_km2_list})\n"
   ]
  },
  {
   "cell_type": "code",
   "execution_count": 13,
   "metadata": {},
   "outputs": [
    {
     "data": {
      "text/html": [
       "<div>\n",
       "<style scoped>\n",
       "    .dataframe tbody tr th:only-of-type {\n",
       "        vertical-align: middle;\n",
       "    }\n",
       "\n",
       "    .dataframe tbody tr th {\n",
       "        vertical-align: top;\n",
       "    }\n",
       "\n",
       "    .dataframe thead th {\n",
       "        text-align: right;\n",
       "    }\n",
       "</style>\n",
       "<table border=\"1\" class=\"dataframe\">\n",
       "  <thead>\n",
       "    <tr style=\"text-align: right;\">\n",
       "      <th></th>\n",
       "      <th>Country Name</th>\n",
       "      <th>Continennt</th>\n",
       "      <th>Population greater than 10 million</th>\n",
       "      <th>HDI</th>\n",
       "      <th>Area (km squared)</th>\n",
       "    </tr>\n",
       "  </thead>\n",
       "  <tbody>\n",
       "    <tr>\n",
       "      <th>0</th>\n",
       "      <td>United Kingdom</td>\n",
       "      <td>Europe</td>\n",
       "      <td>True</td>\n",
       "      <td>0.929</td>\n",
       "      <td>242495.0</td>\n",
       "    </tr>\n",
       "    <tr>\n",
       "      <th>1</th>\n",
       "      <td>Burundi</td>\n",
       "      <td>Africa</td>\n",
       "      <td>True</td>\n",
       "      <td>0.426</td>\n",
       "      <td>27834.0</td>\n",
       "    </tr>\n",
       "    <tr>\n",
       "      <th>2</th>\n",
       "      <td>Moldova</td>\n",
       "      <td>Europe</td>\n",
       "      <td>False</td>\n",
       "      <td>0.767</td>\n",
       "      <td>30334.0</td>\n",
       "    </tr>\n",
       "    <tr>\n",
       "      <th>3</th>\n",
       "      <td>Singapore</td>\n",
       "      <td>Asia</td>\n",
       "      <td>False</td>\n",
       "      <td>0.939</td>\n",
       "      <td>734.3</td>\n",
       "    </tr>\n",
       "    <tr>\n",
       "      <th>4</th>\n",
       "      <td>Cuba</td>\n",
       "      <td>Central America</td>\n",
       "      <td>True</td>\n",
       "      <td>0.764</td>\n",
       "      <td>109884.0</td>\n",
       "    </tr>\n",
       "    <tr>\n",
       "      <th>5</th>\n",
       "      <td>Taiwan</td>\n",
       "      <td>None</td>\n",
       "      <td>True</td>\n",
       "      <td>0.926</td>\n",
       "      <td>36197.0</td>\n",
       "    </tr>\n",
       "    <tr>\n",
       "      <th>6</th>\n",
       "      <td>Uruguay</td>\n",
       "      <td>South America</td>\n",
       "      <td>False</td>\n",
       "      <td>0.809</td>\n",
       "      <td>176215.0</td>\n",
       "    </tr>\n",
       "  </tbody>\n",
       "</table>\n",
       "</div>"
      ],
      "text/plain": [
       "     Country Name       Continennt  Population greater than 10 million    HDI  \\\n",
       "0  United Kingdom           Europe                                True  0.929   \n",
       "1         Burundi           Africa                                True  0.426   \n",
       "2         Moldova           Europe                               False  0.767   \n",
       "3       Singapore             Asia                               False  0.939   \n",
       "4            Cuba  Central America                                True  0.764   \n",
       "5          Taiwan             None                                True  0.926   \n",
       "6         Uruguay    South America                               False  0.809   \n",
       "\n",
       "   Area (km squared)  \n",
       "0           242495.0  \n",
       "1            27834.0  \n",
       "2            30334.0  \n",
       "3              734.3  \n",
       "4           109884.0  \n",
       "5            36197.0  \n",
       "6           176215.0  "
      ]
     },
     "execution_count": 13,
     "metadata": {},
     "output_type": "execute_result"
    }
   ],
   "source": [
    "# Look at our dataframe\n",
    "country_info_df\n"
   ]
  },
  {
   "cell_type": "code",
   "execution_count": 53,
   "metadata": {},
   "outputs": [
    {
     "data": {
      "text/html": [
       "<div>\n",
       "<style scoped>\n",
       "    .dataframe tbody tr th:only-of-type {\n",
       "        vertical-align: middle;\n",
       "    }\n",
       "\n",
       "    .dataframe tbody tr th {\n",
       "        vertical-align: top;\n",
       "    }\n",
       "\n",
       "    .dataframe thead th {\n",
       "        text-align: right;\n",
       "    }\n",
       "</style>\n",
       "<table border=\"1\" class=\"dataframe\">\n",
       "  <thead>\n",
       "    <tr style=\"text-align: right;\">\n",
       "      <th></th>\n",
       "      <th>Country Name</th>\n",
       "      <th>Continent</th>\n",
       "      <th>Population greater than 10 million</th>\n",
       "      <th>HDI</th>\n",
       "      <th>Area (km squared)</th>\n",
       "      <th>Currency</th>\n",
       "    </tr>\n",
       "  </thead>\n",
       "  <tbody>\n",
       "    <tr>\n",
       "      <th>0</th>\n",
       "      <td>United Kingdom</td>\n",
       "      <td>Europe</td>\n",
       "      <td>True</td>\n",
       "      <td>0.929</td>\n",
       "      <td>242495</td>\n",
       "      <td>pound</td>\n",
       "    </tr>\n",
       "    <tr>\n",
       "      <th>1</th>\n",
       "      <td>Burundi</td>\n",
       "      <td>Africa</td>\n",
       "      <td>True</td>\n",
       "      <td>0.426</td>\n",
       "      <td>27834</td>\n",
       "      <td>france</td>\n",
       "    </tr>\n",
       "    <tr>\n",
       "      <th>2</th>\n",
       "      <td>Moldova</td>\n",
       "      <td>Europe</td>\n",
       "      <td>False</td>\n",
       "      <td>0.767</td>\n",
       "      <td>30334</td>\n",
       "      <td>leu</td>\n",
       "    </tr>\n",
       "    <tr>\n",
       "      <th>3</th>\n",
       "      <td>Singapore</td>\n",
       "      <td>Asia</td>\n",
       "      <td>False</td>\n",
       "      <td>0.939</td>\n",
       "      <td>734</td>\n",
       "      <td>dollar</td>\n",
       "    </tr>\n",
       "    <tr>\n",
       "      <th>4</th>\n",
       "      <td>Cuba</td>\n",
       "      <td>Central America</td>\n",
       "      <td>True</td>\n",
       "      <td>0.764</td>\n",
       "      <td>109884</td>\n",
       "      <td>peso</td>\n",
       "    </tr>\n",
       "  </tbody>\n",
       "</table>\n",
       "</div>"
      ],
      "text/plain": [
       "     Country Name        Continent  Population greater than 10 million    HDI  \\\n",
       "0  United Kingdom           Europe                                True  0.929   \n",
       "1         Burundi           Africa                                True  0.426   \n",
       "2         Moldova           Europe                               False  0.767   \n",
       "3       Singapore             Asia                               False  0.939   \n",
       "4            Cuba  Central America                                True  0.764   \n",
       "\n",
       "   Area (km squared) Currency  \n",
       "0             242495    pound  \n",
       "1              27834   france  \n",
       "2              30334      leu  \n",
       "3                734   dollar  \n",
       "4             109884     peso  "
      ]
     },
     "execution_count": 53,
     "metadata": {},
     "output_type": "execute_result"
    }
   ],
   "source": [
    "# Sometime we only want a sneak preview of our data (especially if there are 100s+ of rows), for this we can use the .head() or .tail() method\n",
    "country_info_df.head()\n"
   ]
  },
  {
   "cell_type": "markdown",
   "metadata": {},
   "source": [
    "#### 🤨 TASK\n",
    "We've looked at the header, in the cell below look at the footer of the data  \n",
    "*Replace the `???` below with your answer*"
   ]
  },
  {
   "cell_type": "code",
   "execution_count": 15,
   "metadata": {},
   "outputs": [
    {
     "data": {
      "text/html": [
       "<div>\n",
       "<style scoped>\n",
       "    .dataframe tbody tr th:only-of-type {\n",
       "        vertical-align: middle;\n",
       "    }\n",
       "\n",
       "    .dataframe tbody tr th {\n",
       "        vertical-align: top;\n",
       "    }\n",
       "\n",
       "    .dataframe thead th {\n",
       "        text-align: right;\n",
       "    }\n",
       "</style>\n",
       "<table border=\"1\" class=\"dataframe\">\n",
       "  <thead>\n",
       "    <tr style=\"text-align: right;\">\n",
       "      <th></th>\n",
       "      <th>Country Name</th>\n",
       "      <th>Continennt</th>\n",
       "      <th>Population greater than 10 million</th>\n",
       "      <th>HDI</th>\n",
       "      <th>Area (km squared)</th>\n",
       "    </tr>\n",
       "  </thead>\n",
       "  <tbody>\n",
       "    <tr>\n",
       "      <th>2</th>\n",
       "      <td>Moldova</td>\n",
       "      <td>Europe</td>\n",
       "      <td>False</td>\n",
       "      <td>0.767</td>\n",
       "      <td>30334.0</td>\n",
       "    </tr>\n",
       "    <tr>\n",
       "      <th>3</th>\n",
       "      <td>Singapore</td>\n",
       "      <td>Asia</td>\n",
       "      <td>False</td>\n",
       "      <td>0.939</td>\n",
       "      <td>734.3</td>\n",
       "    </tr>\n",
       "    <tr>\n",
       "      <th>4</th>\n",
       "      <td>Cuba</td>\n",
       "      <td>Central America</td>\n",
       "      <td>True</td>\n",
       "      <td>0.764</td>\n",
       "      <td>109884.0</td>\n",
       "    </tr>\n",
       "    <tr>\n",
       "      <th>5</th>\n",
       "      <td>Taiwan</td>\n",
       "      <td>None</td>\n",
       "      <td>True</td>\n",
       "      <td>0.926</td>\n",
       "      <td>36197.0</td>\n",
       "    </tr>\n",
       "    <tr>\n",
       "      <th>6</th>\n",
       "      <td>Uruguay</td>\n",
       "      <td>South America</td>\n",
       "      <td>False</td>\n",
       "      <td>0.809</td>\n",
       "      <td>176215.0</td>\n",
       "    </tr>\n",
       "  </tbody>\n",
       "</table>\n",
       "</div>"
      ],
      "text/plain": [
       "  Country Name       Continennt  Population greater than 10 million    HDI  \\\n",
       "2      Moldova           Europe                               False  0.767   \n",
       "3    Singapore             Asia                               False  0.939   \n",
       "4         Cuba  Central America                                True  0.764   \n",
       "5       Taiwan             None                                True  0.926   \n",
       "6      Uruguay    South America                               False  0.809   \n",
       "\n",
       "   Area (km squared)  \n",
       "2            30334.0  \n",
       "3              734.3  \n",
       "4           109884.0  \n",
       "5            36197.0  \n",
       "6           176215.0  "
      ]
     },
     "execution_count": 15,
     "metadata": {},
     "output_type": "execute_result"
    }
   ],
   "source": [
    "country_info_df.tail()\n"
   ]
  },
  {
   "cell_type": "code",
   "execution_count": 16,
   "metadata": {},
   "outputs": [
    {
     "data": {
      "text/plain": [
       "pandas.core.frame.DataFrame"
      ]
     },
     "execution_count": 16,
     "metadata": {},
     "output_type": "execute_result"
    }
   ],
   "source": [
    "type(country_info_df)\n"
   ]
  },
  {
   "cell_type": "markdown",
   "metadata": {},
   "source": [
    "We can still extract the data series from the dataframe using square brackets with a string identifier: following the syntax `dataframe['column_name']`. See below:"
   ]
  },
  {
   "cell_type": "code",
   "execution_count": 17,
   "metadata": {},
   "outputs": [
    {
     "data": {
      "text/plain": [
       "0    United Kingdom\n",
       "1           Burundi\n",
       "2           Moldova\n",
       "3         Singapore\n",
       "4              Cuba\n",
       "5            Taiwan\n",
       "6           Uruguay\n",
       "Name: Country Name, dtype: object"
      ]
     },
     "execution_count": 17,
     "metadata": {},
     "output_type": "execute_result"
    }
   ],
   "source": [
    "country_info_df['Country Name']\n"
   ]
  },
  {
   "cell_type": "markdown",
   "metadata": {},
   "source": [
    "We can look at all columns..."
   ]
  },
  {
   "cell_type": "code",
   "execution_count": 18,
   "metadata": {},
   "outputs": [
    {
     "data": {
      "text/plain": [
       "Index(['Country Name', 'Continennt', 'Population greater than 10 million',\n",
       "       'HDI', 'Area (km squared)'],\n",
       "      dtype='object')"
      ]
     },
     "execution_count": 18,
     "metadata": {},
     "output_type": "execute_result"
    }
   ],
   "source": [
    "country_info_df.columns\n"
   ]
  },
  {
   "cell_type": "markdown",
   "metadata": {},
   "source": [
    "We can look at the information of the dataframe including the data types (dtype), index, non-null count (non missing values) and memory usage."
   ]
  },
  {
   "cell_type": "code",
   "execution_count": 19,
   "metadata": {},
   "outputs": [
    {
     "name": "stdout",
     "output_type": "stream",
     "text": [
      "<class 'pandas.core.frame.DataFrame'>\n",
      "RangeIndex: 7 entries, 0 to 6\n",
      "Data columns (total 5 columns):\n",
      " #   Column                              Non-Null Count  Dtype  \n",
      "---  ------                              --------------  -----  \n",
      " 0   Country Name                        7 non-null      object \n",
      " 1   Continennt                          6 non-null      object \n",
      " 2   Population greater than 10 million  7 non-null      bool   \n",
      " 3   HDI                                 7 non-null      float64\n",
      " 4   Area (km squared)                   7 non-null      float64\n",
      "dtypes: bool(1), float64(2), object(2)\n",
      "memory usage: 363.0+ bytes\n"
     ]
    }
   ],
   "source": [
    "# float64 is a 64-bit float, i.e. it has precision up to 64 decimals.\n",
    "# Use the non-null count to spot the null values easily.\n",
    "country_info_df.info()\n"
   ]
  },
  {
   "cell_type": "markdown",
   "metadata": {},
   "source": [
    "Hmm, you may have noticed that there are a few minor mistakes with our data, let's clean it up a little (next week we will go further). Obviously, we can also go back and change the original cells, but let's assume we loaded in some data from another source.\n",
    "\n",
    "Firstly, there is mistake with the column name: \"Continennt\"..."
   ]
  },
  {
   "cell_type": "code",
   "execution_count": 22,
   "metadata": {},
   "outputs": [
    {
     "data": {
      "text/html": [
       "<div>\n",
       "<style scoped>\n",
       "    .dataframe tbody tr th:only-of-type {\n",
       "        vertical-align: middle;\n",
       "    }\n",
       "\n",
       "    .dataframe tbody tr th {\n",
       "        vertical-align: top;\n",
       "    }\n",
       "\n",
       "    .dataframe thead th {\n",
       "        text-align: right;\n",
       "    }\n",
       "</style>\n",
       "<table border=\"1\" class=\"dataframe\">\n",
       "  <thead>\n",
       "    <tr style=\"text-align: right;\">\n",
       "      <th></th>\n",
       "      <th>Country Name</th>\n",
       "      <th>Continent</th>\n",
       "      <th>Population greater than 10 million</th>\n",
       "      <th>HDI</th>\n",
       "      <th>Area (km squared)</th>\n",
       "    </tr>\n",
       "  </thead>\n",
       "  <tbody>\n",
       "    <tr>\n",
       "      <th>0</th>\n",
       "      <td>United Kingdom</td>\n",
       "      <td>Europe</td>\n",
       "      <td>True</td>\n",
       "      <td>0.929</td>\n",
       "      <td>242495.0</td>\n",
       "    </tr>\n",
       "    <tr>\n",
       "      <th>1</th>\n",
       "      <td>Burundi</td>\n",
       "      <td>Africa</td>\n",
       "      <td>True</td>\n",
       "      <td>0.426</td>\n",
       "      <td>27834.0</td>\n",
       "    </tr>\n",
       "    <tr>\n",
       "      <th>2</th>\n",
       "      <td>Moldova</td>\n",
       "      <td>Europe</td>\n",
       "      <td>False</td>\n",
       "      <td>0.767</td>\n",
       "      <td>30334.0</td>\n",
       "    </tr>\n",
       "    <tr>\n",
       "      <th>3</th>\n",
       "      <td>Singapore</td>\n",
       "      <td>Asia</td>\n",
       "      <td>False</td>\n",
       "      <td>0.939</td>\n",
       "      <td>734.3</td>\n",
       "    </tr>\n",
       "    <tr>\n",
       "      <th>4</th>\n",
       "      <td>Cuba</td>\n",
       "      <td>Central America</td>\n",
       "      <td>True</td>\n",
       "      <td>0.764</td>\n",
       "      <td>109884.0</td>\n",
       "    </tr>\n",
       "    <tr>\n",
       "      <th>5</th>\n",
       "      <td>Taiwan</td>\n",
       "      <td>None</td>\n",
       "      <td>True</td>\n",
       "      <td>0.926</td>\n",
       "      <td>36197.0</td>\n",
       "    </tr>\n",
       "    <tr>\n",
       "      <th>6</th>\n",
       "      <td>Uruguay</td>\n",
       "      <td>South America</td>\n",
       "      <td>False</td>\n",
       "      <td>0.809</td>\n",
       "      <td>176215.0</td>\n",
       "    </tr>\n",
       "  </tbody>\n",
       "</table>\n",
       "</div>"
      ],
      "text/plain": [
       "     Country Name        Continent  Population greater than 10 million    HDI  \\\n",
       "0  United Kingdom           Europe                                True  0.929   \n",
       "1         Burundi           Africa                                True  0.426   \n",
       "2         Moldova           Europe                               False  0.767   \n",
       "3       Singapore             Asia                               False  0.939   \n",
       "4            Cuba  Central America                                True  0.764   \n",
       "5          Taiwan             None                                True  0.926   \n",
       "6         Uruguay    South America                               False  0.809   \n",
       "\n",
       "   Area (km squared)  \n",
       "0           242495.0  \n",
       "1            27834.0  \n",
       "2            30334.0  \n",
       "3              734.3  \n",
       "4           109884.0  \n",
       "5            36197.0  \n",
       "6           176215.0  "
      ]
     },
     "execution_count": 22,
     "metadata": {},
     "output_type": "execute_result"
    }
   ],
   "source": [
    "country_info_df.rename(columns={\"Continennt\": \"Continent\"})\n"
   ]
  },
  {
   "cell_type": "markdown",
   "metadata": {},
   "source": [
    "#### 🤨 Tough TASK\n",
    "Open two new cells below and in the first look at the `country_info_df` dataframe again, and see if anything changed. In the second, try to fix the `country_info_df` so the changes are saved.   \n",
    "*Hint: either use a keyboard shortcut ('b' for below) or the buttons at the top of the notebook to open new cells*"
   ]
  },
  {
   "cell_type": "code",
   "execution_count": 21,
   "metadata": {},
   "outputs": [
    {
     "name": "stdout",
     "output_type": "stream",
     "text": [
      "<class 'pandas.core.frame.DataFrame'>\n",
      "RangeIndex: 7 entries, 0 to 6\n",
      "Data columns (total 5 columns):\n",
      " #   Column                              Non-Null Count  Dtype  \n",
      "---  ------                              --------------  -----  \n",
      " 0   Country Name                        7 non-null      object \n",
      " 1   Continennt                          6 non-null      object \n",
      " 2   Population greater than 10 million  7 non-null      bool   \n",
      " 3   HDI                                 7 non-null      float64\n",
      " 4   Area (km squared)                   7 non-null      float64\n",
      "dtypes: bool(1), float64(2), object(2)\n",
      "memory usage: 363.0+ bytes\n"
     ]
    }
   ],
   "source": [
    "country_info_df.info()\n"
   ]
  },
  {
   "cell_type": "code",
   "execution_count": 24,
   "metadata": {},
   "outputs": [
    {
     "name": "stdout",
     "output_type": "stream",
     "text": [
      "<class 'pandas.core.frame.DataFrame'>\n",
      "RangeIndex: 7 entries, 0 to 6\n",
      "Data columns (total 5 columns):\n",
      " #   Column                              Non-Null Count  Dtype  \n",
      "---  ------                              --------------  -----  \n",
      " 0   Country Name                        7 non-null      object \n",
      " 1   Continent                           6 non-null      object \n",
      " 2   Population greater than 10 million  7 non-null      bool   \n",
      " 3   HDI                                 7 non-null      float64\n",
      " 4   Area (km squared)                   7 non-null      float64\n",
      "dtypes: bool(1), float64(2), object(2)\n",
      "memory usage: 363.0+ bytes\n"
     ]
    }
   ],
   "source": [
    "country_info_df = country_info_df.rename(columns={\"Continennt\": \"Continent\"})\n",
    "country_info_df.info()\n"
   ]
  },
  {
   "cell_type": "markdown",
   "metadata": {},
   "source": [
    "### Changing data types\n",
    "We may also want the `Area km` to be of type integer (as this helps readability and we may not care about 300 meters in Singapore)."
   ]
  },
  {
   "cell_type": "code",
   "execution_count": 25,
   "metadata": {},
   "outputs": [],
   "source": [
    "country_info_df['Area (km squared)'] = country_info_df['Area (km squared)'].astype(int)\n"
   ]
  },
  {
   "cell_type": "markdown",
   "metadata": {},
   "source": [
    "#### 🤨 TASK\n",
    "Have a look at the new dtype of the area column  \n",
    "*Replace the `???` below with your answer*"
   ]
  },
  {
   "cell_type": "code",
   "execution_count": 27,
   "metadata": {},
   "outputs": [
    {
     "name": "stdout",
     "output_type": "stream",
     "text": [
      "<class 'pandas.core.series.Series'>\n",
      "RangeIndex: 7 entries, 0 to 6\n",
      "Series name: Area (km squared)\n",
      "Non-Null Count  Dtype\n",
      "--------------  -----\n",
      "7 non-null      int64\n",
      "dtypes: int64(1)\n",
      "memory usage: 188.0 bytes\n"
     ]
    }
   ],
   "source": [
    "country_info_df[\"Area (km squared)\"].info()\n"
   ]
  },
  {
   "cell_type": "markdown",
   "metadata": {},
   "source": [
    "Pandas comes in built with a quick data summary method: `.describe()`. This will only work for int or float columns"
   ]
  },
  {
   "cell_type": "code",
   "execution_count": 28,
   "metadata": {},
   "outputs": [
    {
     "data": {
      "text/html": [
       "<div>\n",
       "<style scoped>\n",
       "    .dataframe tbody tr th:only-of-type {\n",
       "        vertical-align: middle;\n",
       "    }\n",
       "\n",
       "    .dataframe tbody tr th {\n",
       "        vertical-align: top;\n",
       "    }\n",
       "\n",
       "    .dataframe thead th {\n",
       "        text-align: right;\n",
       "    }\n",
       "</style>\n",
       "<table border=\"1\" class=\"dataframe\">\n",
       "  <thead>\n",
       "    <tr style=\"text-align: right;\">\n",
       "      <th></th>\n",
       "      <th>HDI</th>\n",
       "      <th>Area (km squared)</th>\n",
       "    </tr>\n",
       "  </thead>\n",
       "  <tbody>\n",
       "    <tr>\n",
       "      <th>count</th>\n",
       "      <td>7.000000</td>\n",
       "      <td>7.000000</td>\n",
       "    </tr>\n",
       "    <tr>\n",
       "      <th>mean</th>\n",
       "      <td>0.794286</td>\n",
       "      <td>89099.000000</td>\n",
       "    </tr>\n",
       "    <tr>\n",
       "      <th>std</th>\n",
       "      <td>0.179792</td>\n",
       "      <td>90705.812728</td>\n",
       "    </tr>\n",
       "    <tr>\n",
       "      <th>min</th>\n",
       "      <td>0.426000</td>\n",
       "      <td>734.000000</td>\n",
       "    </tr>\n",
       "    <tr>\n",
       "      <th>25%</th>\n",
       "      <td>0.765500</td>\n",
       "      <td>29084.000000</td>\n",
       "    </tr>\n",
       "    <tr>\n",
       "      <th>50%</th>\n",
       "      <td>0.809000</td>\n",
       "      <td>36197.000000</td>\n",
       "    </tr>\n",
       "    <tr>\n",
       "      <th>75%</th>\n",
       "      <td>0.927500</td>\n",
       "      <td>143049.500000</td>\n",
       "    </tr>\n",
       "    <tr>\n",
       "      <th>max</th>\n",
       "      <td>0.939000</td>\n",
       "      <td>242495.000000</td>\n",
       "    </tr>\n",
       "  </tbody>\n",
       "</table>\n",
       "</div>"
      ],
      "text/plain": [
       "            HDI  Area (km squared)\n",
       "count  7.000000           7.000000\n",
       "mean   0.794286       89099.000000\n",
       "std    0.179792       90705.812728\n",
       "min    0.426000         734.000000\n",
       "25%    0.765500       29084.000000\n",
       "50%    0.809000       36197.000000\n",
       "75%    0.927500      143049.500000\n",
       "max    0.939000      242495.000000"
      ]
     },
     "execution_count": 28,
     "metadata": {},
     "output_type": "execute_result"
    }
   ],
   "source": [
    "country_info_df.describe()\n"
   ]
  },
  {
   "cell_type": "markdown",
   "metadata": {},
   "source": [
    "## Adding new columns\n",
    "This is easy enough, and roughly looks like a variable assignment..."
   ]
  },
  {
   "cell_type": "code",
   "execution_count": 29,
   "metadata": {},
   "outputs": [],
   "source": [
    "country_info_df['Currency'] = [\"pound\", \"france\", \"leu\", \"dollar\", \"peso\", \"dollar\", \"dollar\"] # This has to be the same length of the data or it fails.\n",
    "country_info_df['Has a Govt'] = True # We can also set single values to a column\n"
   ]
  },
  {
   "cell_type": "code",
   "execution_count": 30,
   "metadata": {},
   "outputs": [
    {
     "data": {
      "text/html": [
       "<div>\n",
       "<style scoped>\n",
       "    .dataframe tbody tr th:only-of-type {\n",
       "        vertical-align: middle;\n",
       "    }\n",
       "\n",
       "    .dataframe tbody tr th {\n",
       "        vertical-align: top;\n",
       "    }\n",
       "\n",
       "    .dataframe thead th {\n",
       "        text-align: right;\n",
       "    }\n",
       "</style>\n",
       "<table border=\"1\" class=\"dataframe\">\n",
       "  <thead>\n",
       "    <tr style=\"text-align: right;\">\n",
       "      <th></th>\n",
       "      <th>Country Name</th>\n",
       "      <th>Continent</th>\n",
       "      <th>Population greater than 10 million</th>\n",
       "      <th>HDI</th>\n",
       "      <th>Area (km squared)</th>\n",
       "      <th>Currency</th>\n",
       "      <th>Has a Govt</th>\n",
       "    </tr>\n",
       "  </thead>\n",
       "  <tbody>\n",
       "    <tr>\n",
       "      <th>0</th>\n",
       "      <td>United Kingdom</td>\n",
       "      <td>Europe</td>\n",
       "      <td>True</td>\n",
       "      <td>0.929</td>\n",
       "      <td>242495</td>\n",
       "      <td>pound</td>\n",
       "      <td>True</td>\n",
       "    </tr>\n",
       "    <tr>\n",
       "      <th>1</th>\n",
       "      <td>Burundi</td>\n",
       "      <td>Africa</td>\n",
       "      <td>True</td>\n",
       "      <td>0.426</td>\n",
       "      <td>27834</td>\n",
       "      <td>france</td>\n",
       "      <td>True</td>\n",
       "    </tr>\n",
       "    <tr>\n",
       "      <th>2</th>\n",
       "      <td>Moldova</td>\n",
       "      <td>Europe</td>\n",
       "      <td>False</td>\n",
       "      <td>0.767</td>\n",
       "      <td>30334</td>\n",
       "      <td>leu</td>\n",
       "      <td>True</td>\n",
       "    </tr>\n",
       "    <tr>\n",
       "      <th>3</th>\n",
       "      <td>Singapore</td>\n",
       "      <td>Asia</td>\n",
       "      <td>False</td>\n",
       "      <td>0.939</td>\n",
       "      <td>734</td>\n",
       "      <td>dollar</td>\n",
       "      <td>True</td>\n",
       "    </tr>\n",
       "    <tr>\n",
       "      <th>4</th>\n",
       "      <td>Cuba</td>\n",
       "      <td>Central America</td>\n",
       "      <td>True</td>\n",
       "      <td>0.764</td>\n",
       "      <td>109884</td>\n",
       "      <td>peso</td>\n",
       "      <td>True</td>\n",
       "    </tr>\n",
       "  </tbody>\n",
       "</table>\n",
       "</div>"
      ],
      "text/plain": [
       "     Country Name        Continent  Population greater than 10 million    HDI  \\\n",
       "0  United Kingdom           Europe                                True  0.929   \n",
       "1         Burundi           Africa                                True  0.426   \n",
       "2         Moldova           Europe                               False  0.767   \n",
       "3       Singapore             Asia                               False  0.939   \n",
       "4            Cuba  Central America                                True  0.764   \n",
       "\n",
       "   Area (km squared) Currency  Has a Govt  \n",
       "0             242495    pound        True  \n",
       "1              27834   france        True  \n",
       "2              30334      leu        True  \n",
       "3                734   dollar        True  \n",
       "4             109884     peso        True  "
      ]
     },
     "execution_count": 30,
     "metadata": {},
     "output_type": "execute_result"
    }
   ],
   "source": [
    "country_info_df.head()\n"
   ]
  },
  {
   "cell_type": "markdown",
   "metadata": {},
   "source": [
    "## Dropping columns\n",
    "Actually, let's drop that last column, it is redundant here..."
   ]
  },
  {
   "cell_type": "code",
   "execution_count": 32,
   "metadata": {},
   "outputs": [
    {
     "ename": "KeyError",
     "evalue": "\"['Has a Govt'] not found in axis\"",
     "output_type": "error",
     "traceback": [
      "\u001b[0;31m---------------------------------------------------------------------------\u001b[0m",
      "\u001b[0;31mKeyError\u001b[0m                                  Traceback (most recent call last)",
      "\u001b[1;32m/Users/florian/Code/hestia_python_practicals/week3/week3_datascience_with_python1.ipynb Cell 42\u001b[0m line \u001b[0;36m1\n\u001b[0;32m----> <a href='vscode-notebook-cell:/Users/florian/Code/hestia_python_practicals/week3/week3_datascience_with_python1.ipynb#X53sZmlsZQ%3D%3D?line=0'>1</a>\u001b[0m country_info_df \u001b[39m=\u001b[39m country_info_df\u001b[39m.\u001b[39;49mdrop(\u001b[39m\"\u001b[39;49m\u001b[39mHas a Govt\u001b[39;49m\u001b[39m\"\u001b[39;49m, axis\u001b[39m=\u001b[39;49m\u001b[39m1\u001b[39;49m) \u001b[39m# axis=1 means columns, axis=0 means index. This is a numpy convention\u001b[39;00m\n\u001b[1;32m      <a href='vscode-notebook-cell:/Users/florian/Code/hestia_python_practicals/week3/week3_datascience_with_python1.ipynb#X53sZmlsZQ%3D%3D?line=1'>2</a>\u001b[0m country_info_df\u001b[39m.\u001b[39mhead()\n",
      "File \u001b[0;32m~/miniconda3/envs/hestia/lib/python3.12/site-packages/pandas/core/frame.py:5347\u001b[0m, in \u001b[0;36mDataFrame.drop\u001b[0;34m(self, labels, axis, index, columns, level, inplace, errors)\u001b[0m\n\u001b[1;32m   5199\u001b[0m \u001b[39mdef\u001b[39;00m \u001b[39mdrop\u001b[39m(\n\u001b[1;32m   5200\u001b[0m     \u001b[39mself\u001b[39m,\n\u001b[1;32m   5201\u001b[0m     labels: IndexLabel \u001b[39m|\u001b[39m \u001b[39mNone\u001b[39;00m \u001b[39m=\u001b[39m \u001b[39mNone\u001b[39;00m,\n\u001b[0;32m   (...)\u001b[0m\n\u001b[1;32m   5208\u001b[0m     errors: IgnoreRaise \u001b[39m=\u001b[39m \u001b[39m\"\u001b[39m\u001b[39mraise\u001b[39m\u001b[39m\"\u001b[39m,\n\u001b[1;32m   5209\u001b[0m ) \u001b[39m-\u001b[39m\u001b[39m>\u001b[39m DataFrame \u001b[39m|\u001b[39m \u001b[39mNone\u001b[39;00m:\n\u001b[1;32m   5210\u001b[0m \u001b[39m    \u001b[39m\u001b[39m\"\"\"\u001b[39;00m\n\u001b[1;32m   5211\u001b[0m \u001b[39m    Drop specified labels from rows or columns.\u001b[39;00m\n\u001b[1;32m   5212\u001b[0m \n\u001b[0;32m   (...)\u001b[0m\n\u001b[1;32m   5345\u001b[0m \u001b[39m            weight  1.0     0.8\u001b[39;00m\n\u001b[1;32m   5346\u001b[0m \u001b[39m    \"\"\"\u001b[39;00m\n\u001b[0;32m-> 5347\u001b[0m     \u001b[39mreturn\u001b[39;00m \u001b[39msuper\u001b[39;49m()\u001b[39m.\u001b[39;49mdrop(\n\u001b[1;32m   5348\u001b[0m         labels\u001b[39m=\u001b[39;49mlabels,\n\u001b[1;32m   5349\u001b[0m         axis\u001b[39m=\u001b[39;49maxis,\n\u001b[1;32m   5350\u001b[0m         index\u001b[39m=\u001b[39;49mindex,\n\u001b[1;32m   5351\u001b[0m         columns\u001b[39m=\u001b[39;49mcolumns,\n\u001b[1;32m   5352\u001b[0m         level\u001b[39m=\u001b[39;49mlevel,\n\u001b[1;32m   5353\u001b[0m         inplace\u001b[39m=\u001b[39;49minplace,\n\u001b[1;32m   5354\u001b[0m         errors\u001b[39m=\u001b[39;49merrors,\n\u001b[1;32m   5355\u001b[0m     )\n",
      "File \u001b[0;32m~/miniconda3/envs/hestia/lib/python3.12/site-packages/pandas/core/generic.py:4711\u001b[0m, in \u001b[0;36mNDFrame.drop\u001b[0;34m(self, labels, axis, index, columns, level, inplace, errors)\u001b[0m\n\u001b[1;32m   4709\u001b[0m \u001b[39mfor\u001b[39;00m axis, labels \u001b[39min\u001b[39;00m axes\u001b[39m.\u001b[39mitems():\n\u001b[1;32m   4710\u001b[0m     \u001b[39mif\u001b[39;00m labels \u001b[39mis\u001b[39;00m \u001b[39mnot\u001b[39;00m \u001b[39mNone\u001b[39;00m:\n\u001b[0;32m-> 4711\u001b[0m         obj \u001b[39m=\u001b[39m obj\u001b[39m.\u001b[39;49m_drop_axis(labels, axis, level\u001b[39m=\u001b[39;49mlevel, errors\u001b[39m=\u001b[39;49merrors)\n\u001b[1;32m   4713\u001b[0m \u001b[39mif\u001b[39;00m inplace:\n\u001b[1;32m   4714\u001b[0m     \u001b[39mself\u001b[39m\u001b[39m.\u001b[39m_update_inplace(obj)\n",
      "File \u001b[0;32m~/miniconda3/envs/hestia/lib/python3.12/site-packages/pandas/core/generic.py:4753\u001b[0m, in \u001b[0;36mNDFrame._drop_axis\u001b[0;34m(self, labels, axis, level, errors, only_slice)\u001b[0m\n\u001b[1;32m   4751\u001b[0m         new_axis \u001b[39m=\u001b[39m axis\u001b[39m.\u001b[39mdrop(labels, level\u001b[39m=\u001b[39mlevel, errors\u001b[39m=\u001b[39merrors)\n\u001b[1;32m   4752\u001b[0m     \u001b[39melse\u001b[39;00m:\n\u001b[0;32m-> 4753\u001b[0m         new_axis \u001b[39m=\u001b[39m axis\u001b[39m.\u001b[39;49mdrop(labels, errors\u001b[39m=\u001b[39;49merrors)\n\u001b[1;32m   4754\u001b[0m     indexer \u001b[39m=\u001b[39m axis\u001b[39m.\u001b[39mget_indexer(new_axis)\n\u001b[1;32m   4756\u001b[0m \u001b[39m# Case for non-unique axis\u001b[39;00m\n\u001b[1;32m   4757\u001b[0m \u001b[39melse\u001b[39;00m:\n",
      "File \u001b[0;32m~/miniconda3/envs/hestia/lib/python3.12/site-packages/pandas/core/indexes/base.py:6992\u001b[0m, in \u001b[0;36mIndex.drop\u001b[0;34m(self, labels, errors)\u001b[0m\n\u001b[1;32m   6990\u001b[0m \u001b[39mif\u001b[39;00m mask\u001b[39m.\u001b[39many():\n\u001b[1;32m   6991\u001b[0m     \u001b[39mif\u001b[39;00m errors \u001b[39m!=\u001b[39m \u001b[39m\"\u001b[39m\u001b[39mignore\u001b[39m\u001b[39m\"\u001b[39m:\n\u001b[0;32m-> 6992\u001b[0m         \u001b[39mraise\u001b[39;00m \u001b[39mKeyError\u001b[39;00m(\u001b[39mf\u001b[39m\u001b[39m\"\u001b[39m\u001b[39m{\u001b[39;00mlabels[mask]\u001b[39m.\u001b[39mtolist()\u001b[39m}\u001b[39;00m\u001b[39m not found in axis\u001b[39m\u001b[39m\"\u001b[39m)\n\u001b[1;32m   6993\u001b[0m     indexer \u001b[39m=\u001b[39m indexer[\u001b[39m~\u001b[39mmask]\n\u001b[1;32m   6994\u001b[0m \u001b[39mreturn\u001b[39;00m \u001b[39mself\u001b[39m\u001b[39m.\u001b[39mdelete(indexer)\n",
      "\u001b[0;31mKeyError\u001b[0m: \"['Has a Govt'] not found in axis\""
     ]
    }
   ],
   "source": [
    "country_info_df = country_info_df.drop(\"Has a Govt\", axis=1) # axis=1 means columns, axis=0 means index. This is a numpy convention\n",
    "country_info_df.head()\n"
   ]
  },
  {
   "cell_type": "markdown",
   "metadata": {},
   "source": [
    "#### 🤨 TASK\n",
    "Try running the cell above again, can you interpret the Error that is produced now?  \n",
    "*To get things back to normal, you can re load the data or just restart the entire notebook*"
   ]
  },
  {
   "cell_type": "code",
   "execution_count": null,
   "metadata": {},
   "outputs": [],
   "source": [
    "# The error comes from the fact that we saved our variable with the dropped column, so there is no longer a \"Has a Govt\" column to drop. \n"
   ]
  },
  {
   "cell_type": "markdown",
   "metadata": {},
   "source": [
    "## Subsetting data with locate (.loc & .iloc)\n",
    "`.loc` and `.iloc` are extremely important methods for subsetting data. They allow us to use conditions to search for things in our dataframes (`.loc`). Or search for indexes (with `.iloc`)."
   ]
  },
  {
   "cell_type": "code",
   "execution_count": 33,
   "metadata": {},
   "outputs": [
    {
     "data": {
      "text/html": [
       "<div>\n",
       "<style scoped>\n",
       "    .dataframe tbody tr th:only-of-type {\n",
       "        vertical-align: middle;\n",
       "    }\n",
       "\n",
       "    .dataframe tbody tr th {\n",
       "        vertical-align: top;\n",
       "    }\n",
       "\n",
       "    .dataframe thead th {\n",
       "        text-align: right;\n",
       "    }\n",
       "</style>\n",
       "<table border=\"1\" class=\"dataframe\">\n",
       "  <thead>\n",
       "    <tr style=\"text-align: right;\">\n",
       "      <th></th>\n",
       "      <th>Country Name</th>\n",
       "      <th>Continent</th>\n",
       "      <th>Population greater than 10 million</th>\n",
       "      <th>HDI</th>\n",
       "      <th>Area (km squared)</th>\n",
       "      <th>Currency</th>\n",
       "    </tr>\n",
       "  </thead>\n",
       "  <tbody>\n",
       "    <tr>\n",
       "      <th>0</th>\n",
       "      <td>United Kingdom</td>\n",
       "      <td>Europe</td>\n",
       "      <td>True</td>\n",
       "      <td>0.929</td>\n",
       "      <td>242495</td>\n",
       "      <td>pound</td>\n",
       "    </tr>\n",
       "    <tr>\n",
       "      <th>2</th>\n",
       "      <td>Moldova</td>\n",
       "      <td>Europe</td>\n",
       "      <td>False</td>\n",
       "      <td>0.767</td>\n",
       "      <td>30334</td>\n",
       "      <td>leu</td>\n",
       "    </tr>\n",
       "  </tbody>\n",
       "</table>\n",
       "</div>"
      ],
      "text/plain": [
       "     Country Name Continent  Population greater than 10 million    HDI  \\\n",
       "0  United Kingdom    Europe                                True  0.929   \n",
       "2         Moldova    Europe                               False  0.767   \n",
       "\n",
       "   Area (km squared) Currency  \n",
       "0             242495    pound  \n",
       "2              30334      leu  "
      ]
     },
     "execution_count": 33,
     "metadata": {},
     "output_type": "execute_result"
    }
   ],
   "source": [
    "# Let's get all the European countries\n",
    "country_info_df.loc[country_info_df[\"Continent\"] == \"Europe\"]\n"
   ]
  },
  {
   "cell_type": "code",
   "execution_count": 34,
   "metadata": {},
   "outputs": [
    {
     "data": {
      "text/html": [
       "<div>\n",
       "<style scoped>\n",
       "    .dataframe tbody tr th:only-of-type {\n",
       "        vertical-align: middle;\n",
       "    }\n",
       "\n",
       "    .dataframe tbody tr th {\n",
       "        vertical-align: top;\n",
       "    }\n",
       "\n",
       "    .dataframe thead th {\n",
       "        text-align: right;\n",
       "    }\n",
       "</style>\n",
       "<table border=\"1\" class=\"dataframe\">\n",
       "  <thead>\n",
       "    <tr style=\"text-align: right;\">\n",
       "      <th></th>\n",
       "      <th>Country Name</th>\n",
       "      <th>Continent</th>\n",
       "      <th>Population greater than 10 million</th>\n",
       "      <th>HDI</th>\n",
       "      <th>Area (km squared)</th>\n",
       "      <th>Currency</th>\n",
       "    </tr>\n",
       "  </thead>\n",
       "  <tbody>\n",
       "    <tr>\n",
       "      <th>0</th>\n",
       "      <td>United Kingdom</td>\n",
       "      <td>Europe</td>\n",
       "      <td>True</td>\n",
       "      <td>0.929</td>\n",
       "      <td>242495</td>\n",
       "      <td>pound</td>\n",
       "    </tr>\n",
       "    <tr>\n",
       "      <th>3</th>\n",
       "      <td>Singapore</td>\n",
       "      <td>Asia</td>\n",
       "      <td>False</td>\n",
       "      <td>0.939</td>\n",
       "      <td>734</td>\n",
       "      <td>dollar</td>\n",
       "    </tr>\n",
       "    <tr>\n",
       "      <th>5</th>\n",
       "      <td>Taiwan</td>\n",
       "      <td>None</td>\n",
       "      <td>True</td>\n",
       "      <td>0.926</td>\n",
       "      <td>36197</td>\n",
       "      <td>dollar</td>\n",
       "    </tr>\n",
       "    <tr>\n",
       "      <th>6</th>\n",
       "      <td>Uruguay</td>\n",
       "      <td>South America</td>\n",
       "      <td>False</td>\n",
       "      <td>0.809</td>\n",
       "      <td>176215</td>\n",
       "      <td>dollar</td>\n",
       "    </tr>\n",
       "  </tbody>\n",
       "</table>\n",
       "</div>"
      ],
      "text/plain": [
       "     Country Name      Continent  Population greater than 10 million    HDI  \\\n",
       "0  United Kingdom         Europe                                True  0.929   \n",
       "3       Singapore           Asia                               False  0.939   \n",
       "5          Taiwan           None                                True  0.926   \n",
       "6         Uruguay  South America                               False  0.809   \n",
       "\n",
       "   Area (km squared) Currency  \n",
       "0             242495    pound  \n",
       "3                734   dollar  \n",
       "5              36197   dollar  \n",
       "6             176215   dollar  "
      ]
     },
     "execution_count": 34,
     "metadata": {},
     "output_type": "execute_result"
    }
   ],
   "source": [
    "# Let's get all the high HDI countries\n",
    "country_info_df.loc[country_info_df[\"HDI\"] > 0.8]\n"
   ]
  },
  {
   "cell_type": "code",
   "execution_count": 35,
   "metadata": {},
   "outputs": [
    {
     "data": {
      "text/html": [
       "<div>\n",
       "<style scoped>\n",
       "    .dataframe tbody tr th:only-of-type {\n",
       "        vertical-align: middle;\n",
       "    }\n",
       "\n",
       "    .dataframe tbody tr th {\n",
       "        vertical-align: top;\n",
       "    }\n",
       "\n",
       "    .dataframe thead th {\n",
       "        text-align: right;\n",
       "    }\n",
       "</style>\n",
       "<table border=\"1\" class=\"dataframe\">\n",
       "  <thead>\n",
       "    <tr style=\"text-align: right;\">\n",
       "      <th></th>\n",
       "      <th>Country Name</th>\n",
       "      <th>Continent</th>\n",
       "      <th>Population greater than 10 million</th>\n",
       "      <th>HDI</th>\n",
       "      <th>Area (km squared)</th>\n",
       "      <th>Currency</th>\n",
       "    </tr>\n",
       "  </thead>\n",
       "  <tbody>\n",
       "    <tr>\n",
       "      <th>0</th>\n",
       "      <td>United Kingdom</td>\n",
       "      <td>Europe</td>\n",
       "      <td>True</td>\n",
       "      <td>0.929</td>\n",
       "      <td>242495</td>\n",
       "      <td>pound</td>\n",
       "    </tr>\n",
       "  </tbody>\n",
       "</table>\n",
       "</div>"
      ],
      "text/plain": [
       "     Country Name Continent  Population greater than 10 million    HDI  \\\n",
       "0  United Kingdom    Europe                                True  0.929   \n",
       "\n",
       "   Area (km squared) Currency  \n",
       "0             242495    pound  "
      ]
     },
     "execution_count": 35,
     "metadata": {},
     "output_type": "execute_result"
    }
   ],
   "source": [
    "# Let's get all the high HDI countries in Europe in our dataframe.\n",
    "# We use the syntax (condition) & (condition) within the loc\n",
    "country_info_df.loc[(country_info_df[\"Continent\"] == \"Europe\") & (country_info_df[\"HDI\"] > 0.8)]\n"
   ]
  },
  {
   "cell_type": "code",
   "execution_count": 36,
   "metadata": {},
   "outputs": [
    {
     "data": {
      "text/plain": [
       "Country Name                          Taiwan\n",
       "Continent                               None\n",
       "Population greater than 10 million      True\n",
       "HDI                                    0.926\n",
       "Area (km squared)                      36197\n",
       "Currency                              dollar\n",
       "Name: 5, dtype: object"
      ]
     },
     "execution_count": 36,
     "metadata": {},
     "output_type": "execute_result"
    }
   ],
   "source": [
    "# Index loc works like this...\n",
    "country_info_df.iloc[5]\n"
   ]
  },
  {
   "cell_type": "markdown",
   "metadata": {},
   "source": [
    "#### 🤨 TASK\n",
    "Subset all the countries that use a currency called \"dollar\"  \n",
    "*Replace the `???` below with your answer*"
   ]
  },
  {
   "cell_type": "code",
   "execution_count": 37,
   "metadata": {},
   "outputs": [
    {
     "data": {
      "text/html": [
       "<div>\n",
       "<style scoped>\n",
       "    .dataframe tbody tr th:only-of-type {\n",
       "        vertical-align: middle;\n",
       "    }\n",
       "\n",
       "    .dataframe tbody tr th {\n",
       "        vertical-align: top;\n",
       "    }\n",
       "\n",
       "    .dataframe thead th {\n",
       "        text-align: right;\n",
       "    }\n",
       "</style>\n",
       "<table border=\"1\" class=\"dataframe\">\n",
       "  <thead>\n",
       "    <tr style=\"text-align: right;\">\n",
       "      <th></th>\n",
       "      <th>Country Name</th>\n",
       "      <th>Continent</th>\n",
       "      <th>Population greater than 10 million</th>\n",
       "      <th>HDI</th>\n",
       "      <th>Area (km squared)</th>\n",
       "      <th>Currency</th>\n",
       "    </tr>\n",
       "  </thead>\n",
       "  <tbody>\n",
       "    <tr>\n",
       "      <th>3</th>\n",
       "      <td>Singapore</td>\n",
       "      <td>Asia</td>\n",
       "      <td>False</td>\n",
       "      <td>0.939</td>\n",
       "      <td>734</td>\n",
       "      <td>dollar</td>\n",
       "    </tr>\n",
       "    <tr>\n",
       "      <th>5</th>\n",
       "      <td>Taiwan</td>\n",
       "      <td>None</td>\n",
       "      <td>True</td>\n",
       "      <td>0.926</td>\n",
       "      <td>36197</td>\n",
       "      <td>dollar</td>\n",
       "    </tr>\n",
       "    <tr>\n",
       "      <th>6</th>\n",
       "      <td>Uruguay</td>\n",
       "      <td>South America</td>\n",
       "      <td>False</td>\n",
       "      <td>0.809</td>\n",
       "      <td>176215</td>\n",
       "      <td>dollar</td>\n",
       "    </tr>\n",
       "  </tbody>\n",
       "</table>\n",
       "</div>"
      ],
      "text/plain": [
       "  Country Name      Continent  Population greater than 10 million    HDI  \\\n",
       "3    Singapore           Asia                               False  0.939   \n",
       "5       Taiwan           None                                True  0.926   \n",
       "6      Uruguay  South America                               False  0.809   \n",
       "\n",
       "   Area (km squared) Currency  \n",
       "3                734   dollar  \n",
       "5              36197   dollar  \n",
       "6             176215   dollar  "
      ]
     },
     "execution_count": 37,
     "metadata": {},
     "output_type": "execute_result"
    }
   ],
   "source": [
    "country_info_df.loc[country_info_df[\"Currency\"] == \"dollar\"]\n"
   ]
  },
  {
   "cell_type": "markdown",
   "metadata": {},
   "source": [
    "## More advanced loc to replace missing value\n",
    "This may be a bit more advanced, but I will introduce to you how to replace missing data on a given row here.\n",
    "You may have noticed one final mistake with the dataframe. Taiwan does not have a value for continent. Please see below:\n"
   ]
  },
  {
   "cell_type": "code",
   "execution_count": 38,
   "metadata": {},
   "outputs": [
    {
     "data": {
      "text/html": [
       "<div>\n",
       "<style scoped>\n",
       "    .dataframe tbody tr th:only-of-type {\n",
       "        vertical-align: middle;\n",
       "    }\n",
       "\n",
       "    .dataframe tbody tr th {\n",
       "        vertical-align: top;\n",
       "    }\n",
       "\n",
       "    .dataframe thead th {\n",
       "        text-align: right;\n",
       "    }\n",
       "</style>\n",
       "<table border=\"1\" class=\"dataframe\">\n",
       "  <thead>\n",
       "    <tr style=\"text-align: right;\">\n",
       "      <th></th>\n",
       "      <th>Country Name</th>\n",
       "      <th>Continent</th>\n",
       "      <th>Population greater than 10 million</th>\n",
       "      <th>HDI</th>\n",
       "      <th>Area (km squared)</th>\n",
       "      <th>Currency</th>\n",
       "    </tr>\n",
       "  </thead>\n",
       "  <tbody>\n",
       "    <tr>\n",
       "      <th>5</th>\n",
       "      <td>Taiwan</td>\n",
       "      <td>None</td>\n",
       "      <td>True</td>\n",
       "      <td>0.926</td>\n",
       "      <td>36197</td>\n",
       "      <td>dollar</td>\n",
       "    </tr>\n",
       "  </tbody>\n",
       "</table>\n",
       "</div>"
      ],
      "text/plain": [
       "  Country Name Continent  Population greater than 10 million    HDI  \\\n",
       "5       Taiwan      None                                True  0.926   \n",
       "\n",
       "   Area (km squared) Currency  \n",
       "5              36197   dollar  "
      ]
     },
     "execution_count": 38,
     "metadata": {},
     "output_type": "execute_result"
    }
   ],
   "source": [
    "country_info_df.loc[country_info_df[\"Country Name\"] == \"Taiwan\"]\n"
   ]
  },
  {
   "cell_type": "code",
   "execution_count": 39,
   "metadata": {},
   "outputs": [
    {
     "data": {
      "text/plain": [
       "5    None\n",
       "Name: Continent, dtype: object"
      ]
     },
     "execution_count": 39,
     "metadata": {},
     "output_type": "execute_result"
    }
   ],
   "source": [
    "country_info_df.loc[country_info_df[\"Country Name\"] == \"Taiwan\"]['Continent']\n"
   ]
  },
  {
   "cell_type": "markdown",
   "metadata": {},
   "source": [
    "We can fill in this value using loc (or iloc if we use `5`)..."
   ]
  },
  {
   "cell_type": "code",
   "execution_count": 40,
   "metadata": {},
   "outputs": [],
   "source": [
    "country_info_df.loc[country_info_df[\"Country Name\"] == \"Taiwan\", \"Continent\"] = \"Asia\"\n"
   ]
  },
  {
   "cell_type": "code",
   "execution_count": 41,
   "metadata": {},
   "outputs": [
    {
     "data": {
      "text/html": [
       "<div>\n",
       "<style scoped>\n",
       "    .dataframe tbody tr th:only-of-type {\n",
       "        vertical-align: middle;\n",
       "    }\n",
       "\n",
       "    .dataframe tbody tr th {\n",
       "        vertical-align: top;\n",
       "    }\n",
       "\n",
       "    .dataframe thead th {\n",
       "        text-align: right;\n",
       "    }\n",
       "</style>\n",
       "<table border=\"1\" class=\"dataframe\">\n",
       "  <thead>\n",
       "    <tr style=\"text-align: right;\">\n",
       "      <th></th>\n",
       "      <th>Country Name</th>\n",
       "      <th>Continent</th>\n",
       "      <th>Population greater than 10 million</th>\n",
       "      <th>HDI</th>\n",
       "      <th>Area (km squared)</th>\n",
       "      <th>Currency</th>\n",
       "    </tr>\n",
       "  </thead>\n",
       "  <tbody>\n",
       "    <tr>\n",
       "      <th>5</th>\n",
       "      <td>Taiwan</td>\n",
       "      <td>Asia</td>\n",
       "      <td>True</td>\n",
       "      <td>0.926</td>\n",
       "      <td>36197</td>\n",
       "      <td>dollar</td>\n",
       "    </tr>\n",
       "  </tbody>\n",
       "</table>\n",
       "</div>"
      ],
      "text/plain": [
       "  Country Name Continent  Population greater than 10 million    HDI  \\\n",
       "5       Taiwan      Asia                                True  0.926   \n",
       "\n",
       "   Area (km squared) Currency  \n",
       "5              36197   dollar  "
      ]
     },
     "execution_count": 41,
     "metadata": {},
     "output_type": "execute_result"
    }
   ],
   "source": [
    "country_info_df.loc[country_info_df[\"Country Name\"] == \"Taiwan\"]\n"
   ]
  },
  {
   "cell_type": "code",
   "execution_count": 42,
   "metadata": {},
   "outputs": [
    {
     "data": {
      "text/html": [
       "<div>\n",
       "<style scoped>\n",
       "    .dataframe tbody tr th:only-of-type {\n",
       "        vertical-align: middle;\n",
       "    }\n",
       "\n",
       "    .dataframe tbody tr th {\n",
       "        vertical-align: top;\n",
       "    }\n",
       "\n",
       "    .dataframe thead th {\n",
       "        text-align: right;\n",
       "    }\n",
       "</style>\n",
       "<table border=\"1\" class=\"dataframe\">\n",
       "  <thead>\n",
       "    <tr style=\"text-align: right;\">\n",
       "      <th></th>\n",
       "      <th>Country Name</th>\n",
       "      <th>Continent</th>\n",
       "      <th>Population greater than 10 million</th>\n",
       "      <th>HDI</th>\n",
       "      <th>Area (km squared)</th>\n",
       "      <th>Currency</th>\n",
       "    </tr>\n",
       "  </thead>\n",
       "  <tbody>\n",
       "    <tr>\n",
       "      <th>0</th>\n",
       "      <td>United Kingdom</td>\n",
       "      <td>Europe</td>\n",
       "      <td>True</td>\n",
       "      <td>0.929</td>\n",
       "      <td>242495</td>\n",
       "      <td>pound</td>\n",
       "    </tr>\n",
       "    <tr>\n",
       "      <th>1</th>\n",
       "      <td>Burundi</td>\n",
       "      <td>Africa</td>\n",
       "      <td>True</td>\n",
       "      <td>0.426</td>\n",
       "      <td>27834</td>\n",
       "      <td>france</td>\n",
       "    </tr>\n",
       "    <tr>\n",
       "      <th>2</th>\n",
       "      <td>Moldova</td>\n",
       "      <td>Europe</td>\n",
       "      <td>False</td>\n",
       "      <td>0.767</td>\n",
       "      <td>30334</td>\n",
       "      <td>leu</td>\n",
       "    </tr>\n",
       "    <tr>\n",
       "      <th>3</th>\n",
       "      <td>Singapore</td>\n",
       "      <td>Asia</td>\n",
       "      <td>False</td>\n",
       "      <td>0.939</td>\n",
       "      <td>734</td>\n",
       "      <td>dollar</td>\n",
       "    </tr>\n",
       "    <tr>\n",
       "      <th>4</th>\n",
       "      <td>Cuba</td>\n",
       "      <td>Central America</td>\n",
       "      <td>True</td>\n",
       "      <td>0.764</td>\n",
       "      <td>109884</td>\n",
       "      <td>peso</td>\n",
       "    </tr>\n",
       "    <tr>\n",
       "      <th>5</th>\n",
       "      <td>Taiwan</td>\n",
       "      <td>Asia</td>\n",
       "      <td>True</td>\n",
       "      <td>0.926</td>\n",
       "      <td>36197</td>\n",
       "      <td>dollar</td>\n",
       "    </tr>\n",
       "    <tr>\n",
       "      <th>6</th>\n",
       "      <td>Uruguay</td>\n",
       "      <td>South America</td>\n",
       "      <td>False</td>\n",
       "      <td>0.809</td>\n",
       "      <td>176215</td>\n",
       "      <td>dollar</td>\n",
       "    </tr>\n",
       "  </tbody>\n",
       "</table>\n",
       "</div>"
      ],
      "text/plain": [
       "     Country Name        Continent  Population greater than 10 million    HDI  \\\n",
       "0  United Kingdom           Europe                                True  0.929   \n",
       "1         Burundi           Africa                                True  0.426   \n",
       "2         Moldova           Europe                               False  0.767   \n",
       "3       Singapore             Asia                               False  0.939   \n",
       "4            Cuba  Central America                                True  0.764   \n",
       "5          Taiwan             Asia                                True  0.926   \n",
       "6         Uruguay    South America                               False  0.809   \n",
       "\n",
       "   Area (km squared) Currency  \n",
       "0             242495    pound  \n",
       "1              27834   france  \n",
       "2              30334      leu  \n",
       "3                734   dollar  \n",
       "4             109884     peso  \n",
       "5              36197   dollar  \n",
       "6             176215   dollar  "
      ]
     },
     "execution_count": 42,
     "metadata": {},
     "output_type": "execute_result"
    }
   ],
   "source": [
    "country_info_df\n"
   ]
  },
  {
   "cell_type": "code",
   "execution_count": 54,
   "metadata": {},
   "outputs": [
    {
     "name": "stdout",
     "output_type": "stream",
     "text": [
      "<class 'pandas.core.frame.DataFrame'>\n",
      "RangeIndex: 7 entries, 0 to 6\n",
      "Data columns (total 6 columns):\n",
      " #   Column                              Non-Null Count  Dtype  \n",
      "---  ------                              --------------  -----  \n",
      " 0   Country Name                        7 non-null      object \n",
      " 1   Continent                           7 non-null      object \n",
      " 2   Population greater than 10 million  7 non-null      bool   \n",
      " 3   HDI                                 7 non-null      float64\n",
      " 4   Area (km squared)                   7 non-null      int64  \n",
      " 5   Currency                            7 non-null      object \n",
      "dtypes: bool(1), float64(1), int64(1), object(3)\n",
      "memory usage: 419.0+ bytes\n"
     ]
    }
   ],
   "source": [
    "country_info_df.info()\n"
   ]
  },
  {
   "cell_type": "markdown",
   "metadata": {},
   "source": [
    "## Reading in csv files to pandas dataframe\n",
    "For this purpose, I have found a small, but unformatted csv file from the Hestia API docs [crop.csv](https://www.hestia.earth/docs/#hestia-calculation-models-ipcc-2013-including-feedbacks)"
   ]
  },
  {
   "cell_type": "code",
   "execution_count": 57,
   "metadata": {},
   "outputs": [],
   "source": [
    "crop = pd.read_csv(\"crop.csv\")\n"
   ]
  },
  {
   "cell_type": "markdown",
   "metadata": {},
   "source": [
    "#### 🤨 TASK\n",
    "Let's have a quick look at the head (and foot) of this data, and some basic stats...\n",
    "*Replace the `???` below with your answer*"
   ]
  },
  {
   "cell_type": "code",
   "execution_count": 46,
   "metadata": {},
   "outputs": [
    {
     "data": {
      "text/html": [
       "<div>\n",
       "<style scoped>\n",
       "    .dataframe tbody tr th:only-of-type {\n",
       "        vertical-align: middle;\n",
       "    }\n",
       "\n",
       "    .dataframe tbody tr th {\n",
       "        vertical-align: top;\n",
       "    }\n",
       "\n",
       "    .dataframe thead th {\n",
       "        text-align: right;\n",
       "    }\n",
       "</style>\n",
       "<table border=\"1\" class=\"dataframe\">\n",
       "  <thead>\n",
       "    <tr style=\"text-align: right;\">\n",
       "      <th></th>\n",
       "      <th>id</th>\n",
       "      <th>name</th>\n",
       "      <th>units</th>\n",
       "      <th>synonyms</th>\n",
       "      <th>subClassOf.0.id</th>\n",
       "      <th>subClassOf.1.id</th>\n",
       "      <th>definition</th>\n",
       "      <th>scientificName</th>\n",
       "      <th>hsCode</th>\n",
       "      <th>iccCode</th>\n",
       "      <th>...</th>\n",
       "      <th>lookups.41.source</th>\n",
       "      <th>lookups.41.dataState</th>\n",
       "      <th>lookups.42.name</th>\n",
       "      <th>lookups.42.value</th>\n",
       "      <th>lookups.42.source</th>\n",
       "      <th>lookups.42.dataState</th>\n",
       "      <th>lookups.43.name</th>\n",
       "      <th>lookups.43.value</th>\n",
       "      <th>lookups.43.source</th>\n",
       "      <th>lookups.43.dataState</th>\n",
       "    </tr>\n",
       "  </thead>\n",
       "  <tbody>\n",
       "    <tr>\n",
       "      <th>0</th>\n",
       "      <td>genericCropPlant</td>\n",
       "      <td>Generic crop plant</td>\n",
       "      <td>ha</td>\n",
       "      <td>Unspecified crop plant; unknown crop plant; mu...</td>\n",
       "      <td>-</td>\n",
       "      <td>-</td>\n",
       "      <td>A term describing a generic plant.</td>\n",
       "      <td>-</td>\n",
       "      <td>-</td>\n",
       "      <td>-</td>\n",
       "      <td>...</td>\n",
       "      <td>IPCC (2019) https://www.ipcc-nggip.iges.or.jp/...</td>\n",
       "      <td>not required</td>\n",
       "      <td>C_CONTENT_AG_CROP_RESIDUE</td>\n",
       "      <td>-</td>\n",
       "      <td>IPCC (2019) https://www.ipcc-nggip.iges.or.jp/...</td>\n",
       "      <td>not required</td>\n",
       "      <td>C_CONTENT_BG_CROP_RESIDUE</td>\n",
       "      <td>-</td>\n",
       "      <td>IPCC (2019) https://www.ipcc-nggip.iges.or.jp/...</td>\n",
       "      <td>not required</td>\n",
       "    </tr>\n",
       "    <tr>\n",
       "      <th>1</th>\n",
       "      <td>genericCropProduct</td>\n",
       "      <td>Generic crop product</td>\n",
       "      <td>kg</td>\n",
       "      <td>Unspecified crop product; unknown crop product...</td>\n",
       "      <td>genericCropPlant</td>\n",
       "      <td>-</td>\n",
       "      <td>A term describing a generic crop product.</td>\n",
       "      <td>-</td>\n",
       "      <td>-</td>\n",
       "      <td>-</td>\n",
       "      <td>...</td>\n",
       "      <td>IPCC (2019) https://www.ipcc-nggip.iges.or.jp/...</td>\n",
       "      <td>complete</td>\n",
       "      <td>C_CONTENT_AG_CROP_RESIDUE</td>\n",
       "      <td>42</td>\n",
       "      <td>IPCC (2019) https://www.ipcc-nggip.iges.or.jp/...</td>\n",
       "      <td>complete</td>\n",
       "      <td>C_CONTENT_BG_CROP_RESIDUE</td>\n",
       "      <td>42</td>\n",
       "      <td>IPCC (2019) https://www.ipcc-nggip.iges.or.jp/...</td>\n",
       "      <td>complete</td>\n",
       "    </tr>\n",
       "    <tr>\n",
       "      <th>2</th>\n",
       "      <td>genericCropSeed</td>\n",
       "      <td>Generic crop, seed</td>\n",
       "      <td>kg</td>\n",
       "      <td>Unspecified seed; unknown seed; multiple seed</td>\n",
       "      <td>genericCropPlant</td>\n",
       "      <td>-</td>\n",
       "      <td>A term describing the seed of a group of crops...</td>\n",
       "      <td>-</td>\n",
       "      <td>-</td>\n",
       "      <td>-</td>\n",
       "      <td>...</td>\n",
       "      <td>IPCC (2019) https://www.ipcc-nggip.iges.or.jp/...</td>\n",
       "      <td>complete</td>\n",
       "      <td>C_CONTENT_AG_CROP_RESIDUE</td>\n",
       "      <td>42</td>\n",
       "      <td>IPCC (2019) https://www.ipcc-nggip.iges.or.jp/...</td>\n",
       "      <td>complete</td>\n",
       "      <td>C_CONTENT_BG_CROP_RESIDUE</td>\n",
       "      <td>42</td>\n",
       "      <td>IPCC (2019) https://www.ipcc-nggip.iges.or.jp/...</td>\n",
       "      <td>complete</td>\n",
       "    </tr>\n",
       "    <tr>\n",
       "      <th>3</th>\n",
       "      <td>genericCropStraw</td>\n",
       "      <td>Generic crop, straw</td>\n",
       "      <td>kg</td>\n",
       "      <td>Unspecified straw; unknown straw; multiple str...</td>\n",
       "      <td>genericCropPlant</td>\n",
       "      <td>-</td>\n",
       "      <td>A term describing the straw of a group of crop...</td>\n",
       "      <td>-</td>\n",
       "      <td>-</td>\n",
       "      <td>-</td>\n",
       "      <td>...</td>\n",
       "      <td>IPCC (2019) https://www.ipcc-nggip.iges.or.jp/...</td>\n",
       "      <td>complete</td>\n",
       "      <td>C_CONTENT_AG_CROP_RESIDUE</td>\n",
       "      <td>42</td>\n",
       "      <td>IPCC (2019) https://www.ipcc-nggip.iges.or.jp/...</td>\n",
       "      <td>complete</td>\n",
       "      <td>C_CONTENT_BG_CROP_RESIDUE</td>\n",
       "      <td>42</td>\n",
       "      <td>IPCC (2019) https://www.ipcc-nggip.iges.or.jp/...</td>\n",
       "      <td>complete</td>\n",
       "    </tr>\n",
       "    <tr>\n",
       "      <th>4</th>\n",
       "      <td>genericCropMeal</td>\n",
       "      <td>Generic crop, meal</td>\n",
       "      <td>kg</td>\n",
       "      <td>Meal unspecified; Meal unknown; Meal generic; ...</td>\n",
       "      <td>oilCropSeedFruit</td>\n",
       "      <td>-</td>\n",
       "      <td>The coarse residue obtained after oil is remov...</td>\n",
       "      <td>-</td>\n",
       "      <td>-</td>\n",
       "      <td>-</td>\n",
       "      <td>...</td>\n",
       "      <td>IPCC (2019) https://www.ipcc-nggip.iges.or.jp/...</td>\n",
       "      <td>complete</td>\n",
       "      <td>C_CONTENT_AG_CROP_RESIDUE</td>\n",
       "      <td>42</td>\n",
       "      <td>IPCC (2019) https://www.ipcc-nggip.iges.or.jp/...</td>\n",
       "      <td>complete</td>\n",
       "      <td>C_CONTENT_BG_CROP_RESIDUE</td>\n",
       "      <td>42</td>\n",
       "      <td>IPCC (2019) https://www.ipcc-nggip.iges.or.jp/...</td>\n",
       "      <td>complete</td>\n",
       "    </tr>\n",
       "  </tbody>\n",
       "</table>\n",
       "<p>5 rows × 250 columns</p>\n",
       "</div>"
      ],
      "text/plain": [
       "                   id                  name units  \\\n",
       "0    genericCropPlant    Generic crop plant    ha   \n",
       "1  genericCropProduct  Generic crop product    kg   \n",
       "2     genericCropSeed    Generic crop, seed    kg   \n",
       "3    genericCropStraw   Generic crop, straw    kg   \n",
       "4     genericCropMeal    Generic crop, meal    kg   \n",
       "\n",
       "                                            synonyms   subClassOf.0.id  \\\n",
       "0  Unspecified crop plant; unknown crop plant; mu...                 -   \n",
       "1  Unspecified crop product; unknown crop product...  genericCropPlant   \n",
       "2      Unspecified seed; unknown seed; multiple seed  genericCropPlant   \n",
       "3  Unspecified straw; unknown straw; multiple str...  genericCropPlant   \n",
       "4  Meal unspecified; Meal unknown; Meal generic; ...  oilCropSeedFruit   \n",
       "\n",
       "  subClassOf.1.id                                         definition  \\\n",
       "0               -                 A term describing a generic plant.   \n",
       "1               -          A term describing a generic crop product.   \n",
       "2               -  A term describing the seed of a group of crops...   \n",
       "3               -  A term describing the straw of a group of crop...   \n",
       "4               -  The coarse residue obtained after oil is remov...   \n",
       "\n",
       "  scientificName hsCode iccCode  ...  \\\n",
       "0              -      -       -  ...   \n",
       "1              -      -       -  ...   \n",
       "2              -      -       -  ...   \n",
       "3              -      -       -  ...   \n",
       "4              -      -       -  ...   \n",
       "\n",
       "                                   lookups.41.source lookups.41.dataState  \\\n",
       "0  IPCC (2019) https://www.ipcc-nggip.iges.or.jp/...         not required   \n",
       "1  IPCC (2019) https://www.ipcc-nggip.iges.or.jp/...             complete   \n",
       "2  IPCC (2019) https://www.ipcc-nggip.iges.or.jp/...             complete   \n",
       "3  IPCC (2019) https://www.ipcc-nggip.iges.or.jp/...             complete   \n",
       "4  IPCC (2019) https://www.ipcc-nggip.iges.or.jp/...             complete   \n",
       "\n",
       "             lookups.42.name lookups.42.value  \\\n",
       "0  C_CONTENT_AG_CROP_RESIDUE                -   \n",
       "1  C_CONTENT_AG_CROP_RESIDUE               42   \n",
       "2  C_CONTENT_AG_CROP_RESIDUE               42   \n",
       "3  C_CONTENT_AG_CROP_RESIDUE               42   \n",
       "4  C_CONTENT_AG_CROP_RESIDUE               42   \n",
       "\n",
       "                                   lookups.42.source lookups.42.dataState  \\\n",
       "0  IPCC (2019) https://www.ipcc-nggip.iges.or.jp/...         not required   \n",
       "1  IPCC (2019) https://www.ipcc-nggip.iges.or.jp/...             complete   \n",
       "2  IPCC (2019) https://www.ipcc-nggip.iges.or.jp/...             complete   \n",
       "3  IPCC (2019) https://www.ipcc-nggip.iges.or.jp/...             complete   \n",
       "4  IPCC (2019) https://www.ipcc-nggip.iges.or.jp/...             complete   \n",
       "\n",
       "             lookups.43.name lookups.43.value  \\\n",
       "0  C_CONTENT_BG_CROP_RESIDUE                -   \n",
       "1  C_CONTENT_BG_CROP_RESIDUE               42   \n",
       "2  C_CONTENT_BG_CROP_RESIDUE               42   \n",
       "3  C_CONTENT_BG_CROP_RESIDUE               42   \n",
       "4  C_CONTENT_BG_CROP_RESIDUE               42   \n",
       "\n",
       "                                   lookups.43.source lookups.43.dataState  \n",
       "0  IPCC (2019) https://www.ipcc-nggip.iges.or.jp/...         not required  \n",
       "1  IPCC (2019) https://www.ipcc-nggip.iges.or.jp/...             complete  \n",
       "2  IPCC (2019) https://www.ipcc-nggip.iges.or.jp/...             complete  \n",
       "3  IPCC (2019) https://www.ipcc-nggip.iges.or.jp/...             complete  \n",
       "4  IPCC (2019) https://www.ipcc-nggip.iges.or.jp/...             complete  \n",
       "\n",
       "[5 rows x 250 columns]"
      ]
     },
     "execution_count": 46,
     "metadata": {},
     "output_type": "execute_result"
    }
   ],
   "source": [
    "crop.head()\n"
   ]
  },
  {
   "cell_type": "code",
   "execution_count": 47,
   "metadata": {},
   "outputs": [
    {
     "data": {
      "text/html": [
       "<div>\n",
       "<style scoped>\n",
       "    .dataframe tbody tr th:only-of-type {\n",
       "        vertical-align: middle;\n",
       "    }\n",
       "\n",
       "    .dataframe tbody tr th {\n",
       "        vertical-align: top;\n",
       "    }\n",
       "\n",
       "    .dataframe thead th {\n",
       "        text-align: right;\n",
       "    }\n",
       "</style>\n",
       "<table border=\"1\" class=\"dataframe\">\n",
       "  <thead>\n",
       "    <tr style=\"text-align: right;\">\n",
       "      <th></th>\n",
       "      <th>id</th>\n",
       "      <th>name</th>\n",
       "      <th>units</th>\n",
       "      <th>synonyms</th>\n",
       "      <th>subClassOf.0.id</th>\n",
       "      <th>subClassOf.1.id</th>\n",
       "      <th>definition</th>\n",
       "      <th>scientificName</th>\n",
       "      <th>hsCode</th>\n",
       "      <th>iccCode</th>\n",
       "      <th>...</th>\n",
       "      <th>lookups.41.source</th>\n",
       "      <th>lookups.41.dataState</th>\n",
       "      <th>lookups.42.name</th>\n",
       "      <th>lookups.42.value</th>\n",
       "      <th>lookups.42.source</th>\n",
       "      <th>lookups.42.dataState</th>\n",
       "      <th>lookups.43.name</th>\n",
       "      <th>lookups.43.value</th>\n",
       "      <th>lookups.43.source</th>\n",
       "      <th>lookups.43.dataState</th>\n",
       "    </tr>\n",
       "  </thead>\n",
       "  <tbody>\n",
       "    <tr>\n",
       "      <th>1420</th>\n",
       "      <td>melilotusPlant</td>\n",
       "      <td>Melilotus plant</td>\n",
       "      <td>ha</td>\n",
       "      <td>Sweet yellow clover;  Yellow melilot; Ribbed m...</td>\n",
       "      <td>-</td>\n",
       "      <td>-</td>\n",
       "      <td>A herbaceous annual or biennial plant of the b...</td>\n",
       "      <td>Melilotus officinalis</td>\n",
       "      <td>-</td>\n",
       "      <td>-</td>\n",
       "      <td>...</td>\n",
       "      <td>IPCC (2019) https://www.ipcc-nggip.iges.or.jp/...</td>\n",
       "      <td>requires validation</td>\n",
       "      <td>C_CONTENT_AG_CROP_RESIDUE</td>\n",
       "      <td>-</td>\n",
       "      <td>IPCC (2019) https://www.ipcc-nggip.iges.or.jp/...</td>\n",
       "      <td>requires validation</td>\n",
       "      <td>C_CONTENT_BG_CROP_RESIDUE</td>\n",
       "      <td>-</td>\n",
       "      <td>IPCC (2019) https://www.ipcc-nggip.iges.or.jp/...</td>\n",
       "      <td>requires validation</td>\n",
       "    </tr>\n",
       "    <tr>\n",
       "      <th>1421</th>\n",
       "      <td>melilotusLeaf</td>\n",
       "      <td>Melilotus, leaf</td>\n",
       "      <td>kg</td>\n",
       "      <td>Sweet yellow clover;  Yellow melilot; Ribbed m...</td>\n",
       "      <td>melilotusPlant</td>\n",
       "      <td>-</td>\n",
       "      <td>The edible leaf of the melilotus plant.</td>\n",
       "      <td>Melilotus officinalis</td>\n",
       "      <td>-</td>\n",
       "      <td>-</td>\n",
       "      <td>...</td>\n",
       "      <td>IPCC (2019) https://www.ipcc-nggip.iges.or.jp/...</td>\n",
       "      <td>requires validation</td>\n",
       "      <td>C_CONTENT_AG_CROP_RESIDUE</td>\n",
       "      <td>42</td>\n",
       "      <td>IPCC (2019) https://www.ipcc-nggip.iges.or.jp/...</td>\n",
       "      <td>requires validation</td>\n",
       "      <td>C_CONTENT_BG_CROP_RESIDUE</td>\n",
       "      <td>42</td>\n",
       "      <td>IPCC (2019) https://www.ipcc-nggip.iges.or.jp/...</td>\n",
       "      <td>requires validation</td>\n",
       "    </tr>\n",
       "    <tr>\n",
       "      <th>1422</th>\n",
       "      <td>melilotusFlower</td>\n",
       "      <td>Melilotus, flower</td>\n",
       "      <td>kg</td>\n",
       "      <td>Sweet yellow clover;  Yellow melilot; Ribbed m...</td>\n",
       "      <td>melilotusPlant</td>\n",
       "      <td>-</td>\n",
       "      <td>The edible flower of the melilotus plant.</td>\n",
       "      <td>Melilotus officinalis</td>\n",
       "      <td>-</td>\n",
       "      <td>-</td>\n",
       "      <td>...</td>\n",
       "      <td>IPCC (2019) https://www.ipcc-nggip.iges.or.jp/...</td>\n",
       "      <td>requires validation</td>\n",
       "      <td>C_CONTENT_AG_CROP_RESIDUE</td>\n",
       "      <td>42</td>\n",
       "      <td>IPCC (2019) https://www.ipcc-nggip.iges.or.jp/...</td>\n",
       "      <td>requires validation</td>\n",
       "      <td>C_CONTENT_BG_CROP_RESIDUE</td>\n",
       "      <td>42</td>\n",
       "      <td>IPCC (2019) https://www.ipcc-nggip.iges.or.jp/...</td>\n",
       "      <td>requires validation</td>\n",
       "    </tr>\n",
       "    <tr>\n",
       "      <th>1423</th>\n",
       "      <td>patienceDockPlant</td>\n",
       "      <td>Patience dock plant</td>\n",
       "      <td>ha</td>\n",
       "      <td>Garden patience; Herb patience; Monk's rhubarb</td>\n",
       "      <td>-</td>\n",
       "      <td>-</td>\n",
       "      <td>A herbaceous perennial plant of the buckwheat ...</td>\n",
       "      <td>Rumex patientia</td>\n",
       "      <td>-</td>\n",
       "      <td>-</td>\n",
       "      <td>...</td>\n",
       "      <td>IPCC (2019) https://www.ipcc-nggip.iges.or.jp/...</td>\n",
       "      <td>requires validation</td>\n",
       "      <td>C_CONTENT_AG_CROP_RESIDUE</td>\n",
       "      <td>-</td>\n",
       "      <td>IPCC (2019) https://www.ipcc-nggip.iges.or.jp/...</td>\n",
       "      <td>requires validation</td>\n",
       "      <td>C_CONTENT_BG_CROP_RESIDUE</td>\n",
       "      <td>-</td>\n",
       "      <td>IPCC (2019) https://www.ipcc-nggip.iges.or.jp/...</td>\n",
       "      <td>requires validation</td>\n",
       "    </tr>\n",
       "    <tr>\n",
       "      <th>1424</th>\n",
       "      <td>patienceDockLeaf</td>\n",
       "      <td>Patience dock, leaf</td>\n",
       "      <td>kg</td>\n",
       "      <td>Garden patience; Herb patience; Monk's rhubarb</td>\n",
       "      <td>patienceDockPlant</td>\n",
       "      <td>-</td>\n",
       "      <td>The edible leaf of the patience dock plant, wh...</td>\n",
       "      <td>Rumex patientia</td>\n",
       "      <td>-</td>\n",
       "      <td>-</td>\n",
       "      <td>...</td>\n",
       "      <td>IPCC (2019) https://www.ipcc-nggip.iges.or.jp/...</td>\n",
       "      <td>requires validation</td>\n",
       "      <td>C_CONTENT_AG_CROP_RESIDUE</td>\n",
       "      <td>42</td>\n",
       "      <td>IPCC (2019) https://www.ipcc-nggip.iges.or.jp/...</td>\n",
       "      <td>requires validation</td>\n",
       "      <td>C_CONTENT_BG_CROP_RESIDUE</td>\n",
       "      <td>42</td>\n",
       "      <td>IPCC (2019) https://www.ipcc-nggip.iges.or.jp/...</td>\n",
       "      <td>requires validation</td>\n",
       "    </tr>\n",
       "  </tbody>\n",
       "</table>\n",
       "<p>5 rows × 250 columns</p>\n",
       "</div>"
      ],
      "text/plain": [
       "                     id                 name units  \\\n",
       "1420     melilotusPlant      Melilotus plant    ha   \n",
       "1421      melilotusLeaf      Melilotus, leaf    kg   \n",
       "1422    melilotusFlower    Melilotus, flower    kg   \n",
       "1423  patienceDockPlant  Patience dock plant    ha   \n",
       "1424   patienceDockLeaf  Patience dock, leaf    kg   \n",
       "\n",
       "                                               synonyms    subClassOf.0.id  \\\n",
       "1420  Sweet yellow clover;  Yellow melilot; Ribbed m...                  -   \n",
       "1421  Sweet yellow clover;  Yellow melilot; Ribbed m...     melilotusPlant   \n",
       "1422  Sweet yellow clover;  Yellow melilot; Ribbed m...     melilotusPlant   \n",
       "1423     Garden patience; Herb patience; Monk's rhubarb                  -   \n",
       "1424     Garden patience; Herb patience; Monk's rhubarb  patienceDockPlant   \n",
       "\n",
       "     subClassOf.1.id                                         definition  \\\n",
       "1420               -  A herbaceous annual or biennial plant of the b...   \n",
       "1421               -            The edible leaf of the melilotus plant.   \n",
       "1422               -          The edible flower of the melilotus plant.   \n",
       "1423               -  A herbaceous perennial plant of the buckwheat ...   \n",
       "1424               -  The edible leaf of the patience dock plant, wh...   \n",
       "\n",
       "             scientificName hsCode iccCode  ...  \\\n",
       "1420  Melilotus officinalis      -       -  ...   \n",
       "1421  Melilotus officinalis      -       -  ...   \n",
       "1422  Melilotus officinalis      -       -  ...   \n",
       "1423        Rumex patientia      -       -  ...   \n",
       "1424        Rumex patientia      -       -  ...   \n",
       "\n",
       "                                      lookups.41.source lookups.41.dataState  \\\n",
       "1420  IPCC (2019) https://www.ipcc-nggip.iges.or.jp/...  requires validation   \n",
       "1421  IPCC (2019) https://www.ipcc-nggip.iges.or.jp/...  requires validation   \n",
       "1422  IPCC (2019) https://www.ipcc-nggip.iges.or.jp/...  requires validation   \n",
       "1423  IPCC (2019) https://www.ipcc-nggip.iges.or.jp/...  requires validation   \n",
       "1424  IPCC (2019) https://www.ipcc-nggip.iges.or.jp/...  requires validation   \n",
       "\n",
       "                lookups.42.name lookups.42.value  \\\n",
       "1420  C_CONTENT_AG_CROP_RESIDUE                -   \n",
       "1421  C_CONTENT_AG_CROP_RESIDUE               42   \n",
       "1422  C_CONTENT_AG_CROP_RESIDUE               42   \n",
       "1423  C_CONTENT_AG_CROP_RESIDUE                -   \n",
       "1424  C_CONTENT_AG_CROP_RESIDUE               42   \n",
       "\n",
       "                                      lookups.42.source lookups.42.dataState  \\\n",
       "1420  IPCC (2019) https://www.ipcc-nggip.iges.or.jp/...  requires validation   \n",
       "1421  IPCC (2019) https://www.ipcc-nggip.iges.or.jp/...  requires validation   \n",
       "1422  IPCC (2019) https://www.ipcc-nggip.iges.or.jp/...  requires validation   \n",
       "1423  IPCC (2019) https://www.ipcc-nggip.iges.or.jp/...  requires validation   \n",
       "1424  IPCC (2019) https://www.ipcc-nggip.iges.or.jp/...  requires validation   \n",
       "\n",
       "                lookups.43.name lookups.43.value  \\\n",
       "1420  C_CONTENT_BG_CROP_RESIDUE                -   \n",
       "1421  C_CONTENT_BG_CROP_RESIDUE               42   \n",
       "1422  C_CONTENT_BG_CROP_RESIDUE               42   \n",
       "1423  C_CONTENT_BG_CROP_RESIDUE                -   \n",
       "1424  C_CONTENT_BG_CROP_RESIDUE               42   \n",
       "\n",
       "                                      lookups.43.source lookups.43.dataState  \n",
       "1420  IPCC (2019) https://www.ipcc-nggip.iges.or.jp/...  requires validation  \n",
       "1421  IPCC (2019) https://www.ipcc-nggip.iges.or.jp/...  requires validation  \n",
       "1422  IPCC (2019) https://www.ipcc-nggip.iges.or.jp/...  requires validation  \n",
       "1423  IPCC (2019) https://www.ipcc-nggip.iges.or.jp/...  requires validation  \n",
       "1424  IPCC (2019) https://www.ipcc-nggip.iges.or.jp/...  requires validation  \n",
       "\n",
       "[5 rows x 250 columns]"
      ]
     },
     "execution_count": 47,
     "metadata": {},
     "output_type": "execute_result"
    }
   ],
   "source": [
    "crop.tail()\n"
   ]
  },
  {
   "cell_type": "code",
   "execution_count": 68,
   "metadata": {},
   "outputs": [
    {
     "data": {
      "text/html": [
       "<div>\n",
       "<style scoped>\n",
       "    .dataframe tbody tr th:only-of-type {\n",
       "        vertical-align: middle;\n",
       "    }\n",
       "\n",
       "    .dataframe tbody tr th {\n",
       "        vertical-align: top;\n",
       "    }\n",
       "\n",
       "    .dataframe thead th {\n",
       "        text-align: right;\n",
       "    }\n",
       "</style>\n",
       "<table border=\"1\" class=\"dataframe\">\n",
       "  <thead>\n",
       "    <tr style=\"text-align: right;\">\n",
       "      <th></th>\n",
       "      <th>id</th>\n",
       "      <th>name</th>\n",
       "      <th>units</th>\n",
       "      <th>synonyms</th>\n",
       "      <th>subClassOf.0.id</th>\n",
       "      <th>subClassOf.1.id</th>\n",
       "      <th>definition</th>\n",
       "      <th>scientificName</th>\n",
       "      <th>hsCode</th>\n",
       "      <th>iccCode</th>\n",
       "      <th>...</th>\n",
       "      <th>lookups.41.source</th>\n",
       "      <th>lookups.41.dataState</th>\n",
       "      <th>lookups.42.name</th>\n",
       "      <th>lookups.42.value</th>\n",
       "      <th>lookups.42.source</th>\n",
       "      <th>lookups.42.dataState</th>\n",
       "      <th>lookups.43.name</th>\n",
       "      <th>lookups.43.value</th>\n",
       "      <th>lookups.43.source</th>\n",
       "      <th>lookups.43.dataState</th>\n",
       "    </tr>\n",
       "  </thead>\n",
       "  <tbody>\n",
       "    <tr>\n",
       "      <th>0</th>\n",
       "      <td>genericCropPlant</td>\n",
       "      <td>Generic crop plant</td>\n",
       "      <td>ha</td>\n",
       "      <td>Unspecified crop plant; unknown crop plant; mu...</td>\n",
       "      <td>-</td>\n",
       "      <td>-</td>\n",
       "      <td>A term describing a generic plant.</td>\n",
       "      <td>-</td>\n",
       "      <td>-</td>\n",
       "      <td>-</td>\n",
       "      <td>...</td>\n",
       "      <td>IPCC (2019) https://www.ipcc-nggip.iges.or.jp/...</td>\n",
       "      <td>not required</td>\n",
       "      <td>C_CONTENT_AG_CROP_RESIDUE</td>\n",
       "      <td>NaN</td>\n",
       "      <td>IPCC (2019) https://www.ipcc-nggip.iges.or.jp/...</td>\n",
       "      <td>not required</td>\n",
       "      <td>C_CONTENT_BG_CROP_RESIDUE</td>\n",
       "      <td>-</td>\n",
       "      <td>IPCC (2019) https://www.ipcc-nggip.iges.or.jp/...</td>\n",
       "      <td>not required</td>\n",
       "    </tr>\n",
       "    <tr>\n",
       "      <th>1</th>\n",
       "      <td>genericCropProduct</td>\n",
       "      <td>Generic crop product</td>\n",
       "      <td>kg</td>\n",
       "      <td>Unspecified crop product; unknown crop product...</td>\n",
       "      <td>genericCropPlant</td>\n",
       "      <td>-</td>\n",
       "      <td>A term describing a generic crop product.</td>\n",
       "      <td>-</td>\n",
       "      <td>-</td>\n",
       "      <td>-</td>\n",
       "      <td>...</td>\n",
       "      <td>IPCC (2019) https://www.ipcc-nggip.iges.or.jp/...</td>\n",
       "      <td>complete</td>\n",
       "      <td>C_CONTENT_AG_CROP_RESIDUE</td>\n",
       "      <td>42.0</td>\n",
       "      <td>IPCC (2019) https://www.ipcc-nggip.iges.or.jp/...</td>\n",
       "      <td>complete</td>\n",
       "      <td>C_CONTENT_BG_CROP_RESIDUE</td>\n",
       "      <td>42</td>\n",
       "      <td>IPCC (2019) https://www.ipcc-nggip.iges.or.jp/...</td>\n",
       "      <td>complete</td>\n",
       "    </tr>\n",
       "    <tr>\n",
       "      <th>2</th>\n",
       "      <td>genericCropSeed</td>\n",
       "      <td>Generic crop, seed</td>\n",
       "      <td>kg</td>\n",
       "      <td>Unspecified seed; unknown seed; multiple seed</td>\n",
       "      <td>genericCropPlant</td>\n",
       "      <td>-</td>\n",
       "      <td>A term describing the seed of a group of crops...</td>\n",
       "      <td>-</td>\n",
       "      <td>-</td>\n",
       "      <td>-</td>\n",
       "      <td>...</td>\n",
       "      <td>IPCC (2019) https://www.ipcc-nggip.iges.or.jp/...</td>\n",
       "      <td>complete</td>\n",
       "      <td>C_CONTENT_AG_CROP_RESIDUE</td>\n",
       "      <td>42.0</td>\n",
       "      <td>IPCC (2019) https://www.ipcc-nggip.iges.or.jp/...</td>\n",
       "      <td>complete</td>\n",
       "      <td>C_CONTENT_BG_CROP_RESIDUE</td>\n",
       "      <td>42</td>\n",
       "      <td>IPCC (2019) https://www.ipcc-nggip.iges.or.jp/...</td>\n",
       "      <td>complete</td>\n",
       "    </tr>\n",
       "    <tr>\n",
       "      <th>3</th>\n",
       "      <td>genericCropStraw</td>\n",
       "      <td>Generic crop, straw</td>\n",
       "      <td>kg</td>\n",
       "      <td>Unspecified straw; unknown straw; multiple str...</td>\n",
       "      <td>genericCropPlant</td>\n",
       "      <td>-</td>\n",
       "      <td>A term describing the straw of a group of crop...</td>\n",
       "      <td>-</td>\n",
       "      <td>-</td>\n",
       "      <td>-</td>\n",
       "      <td>...</td>\n",
       "      <td>IPCC (2019) https://www.ipcc-nggip.iges.or.jp/...</td>\n",
       "      <td>complete</td>\n",
       "      <td>C_CONTENT_AG_CROP_RESIDUE</td>\n",
       "      <td>42.0</td>\n",
       "      <td>IPCC (2019) https://www.ipcc-nggip.iges.or.jp/...</td>\n",
       "      <td>complete</td>\n",
       "      <td>C_CONTENT_BG_CROP_RESIDUE</td>\n",
       "      <td>42</td>\n",
       "      <td>IPCC (2019) https://www.ipcc-nggip.iges.or.jp/...</td>\n",
       "      <td>complete</td>\n",
       "    </tr>\n",
       "    <tr>\n",
       "      <th>4</th>\n",
       "      <td>genericCropMeal</td>\n",
       "      <td>Generic crop, meal</td>\n",
       "      <td>kg</td>\n",
       "      <td>Meal unspecified; Meal unknown; Meal generic; ...</td>\n",
       "      <td>oilCropSeedFruit</td>\n",
       "      <td>-</td>\n",
       "      <td>The coarse residue obtained after oil is remov...</td>\n",
       "      <td>-</td>\n",
       "      <td>-</td>\n",
       "      <td>-</td>\n",
       "      <td>...</td>\n",
       "      <td>IPCC (2019) https://www.ipcc-nggip.iges.or.jp/...</td>\n",
       "      <td>complete</td>\n",
       "      <td>C_CONTENT_AG_CROP_RESIDUE</td>\n",
       "      <td>42.0</td>\n",
       "      <td>IPCC (2019) https://www.ipcc-nggip.iges.or.jp/...</td>\n",
       "      <td>complete</td>\n",
       "      <td>C_CONTENT_BG_CROP_RESIDUE</td>\n",
       "      <td>42</td>\n",
       "      <td>IPCC (2019) https://www.ipcc-nggip.iges.or.jp/...</td>\n",
       "      <td>complete</td>\n",
       "    </tr>\n",
       "  </tbody>\n",
       "</table>\n",
       "<p>5 rows × 250 columns</p>\n",
       "</div>"
      ],
      "text/plain": [
       "                   id                  name units  \\\n",
       "0    genericCropPlant    Generic crop plant    ha   \n",
       "1  genericCropProduct  Generic crop product    kg   \n",
       "2     genericCropSeed    Generic crop, seed    kg   \n",
       "3    genericCropStraw   Generic crop, straw    kg   \n",
       "4     genericCropMeal    Generic crop, meal    kg   \n",
       "\n",
       "                                            synonyms   subClassOf.0.id  \\\n",
       "0  Unspecified crop plant; unknown crop plant; mu...                 -   \n",
       "1  Unspecified crop product; unknown crop product...  genericCropPlant   \n",
       "2      Unspecified seed; unknown seed; multiple seed  genericCropPlant   \n",
       "3  Unspecified straw; unknown straw; multiple str...  genericCropPlant   \n",
       "4  Meal unspecified; Meal unknown; Meal generic; ...  oilCropSeedFruit   \n",
       "\n",
       "  subClassOf.1.id                                         definition  \\\n",
       "0               -                 A term describing a generic plant.   \n",
       "1               -          A term describing a generic crop product.   \n",
       "2               -  A term describing the seed of a group of crops...   \n",
       "3               -  A term describing the straw of a group of crop...   \n",
       "4               -  The coarse residue obtained after oil is remov...   \n",
       "\n",
       "  scientificName hsCode iccCode  ...  \\\n",
       "0              -      -       -  ...   \n",
       "1              -      -       -  ...   \n",
       "2              -      -       -  ...   \n",
       "3              -      -       -  ...   \n",
       "4              -      -       -  ...   \n",
       "\n",
       "                                   lookups.41.source lookups.41.dataState  \\\n",
       "0  IPCC (2019) https://www.ipcc-nggip.iges.or.jp/...         not required   \n",
       "1  IPCC (2019) https://www.ipcc-nggip.iges.or.jp/...             complete   \n",
       "2  IPCC (2019) https://www.ipcc-nggip.iges.or.jp/...             complete   \n",
       "3  IPCC (2019) https://www.ipcc-nggip.iges.or.jp/...             complete   \n",
       "4  IPCC (2019) https://www.ipcc-nggip.iges.or.jp/...             complete   \n",
       "\n",
       "             lookups.42.name lookups.42.value  \\\n",
       "0  C_CONTENT_AG_CROP_RESIDUE              NaN   \n",
       "1  C_CONTENT_AG_CROP_RESIDUE             42.0   \n",
       "2  C_CONTENT_AG_CROP_RESIDUE             42.0   \n",
       "3  C_CONTENT_AG_CROP_RESIDUE             42.0   \n",
       "4  C_CONTENT_AG_CROP_RESIDUE             42.0   \n",
       "\n",
       "                                   lookups.42.source lookups.42.dataState  \\\n",
       "0  IPCC (2019) https://www.ipcc-nggip.iges.or.jp/...         not required   \n",
       "1  IPCC (2019) https://www.ipcc-nggip.iges.or.jp/...             complete   \n",
       "2  IPCC (2019) https://www.ipcc-nggip.iges.or.jp/...             complete   \n",
       "3  IPCC (2019) https://www.ipcc-nggip.iges.or.jp/...             complete   \n",
       "4  IPCC (2019) https://www.ipcc-nggip.iges.or.jp/...             complete   \n",
       "\n",
       "             lookups.43.name lookups.43.value  \\\n",
       "0  C_CONTENT_BG_CROP_RESIDUE                -   \n",
       "1  C_CONTENT_BG_CROP_RESIDUE               42   \n",
       "2  C_CONTENT_BG_CROP_RESIDUE               42   \n",
       "3  C_CONTENT_BG_CROP_RESIDUE               42   \n",
       "4  C_CONTENT_BG_CROP_RESIDUE               42   \n",
       "\n",
       "                                   lookups.43.source lookups.43.dataState  \n",
       "0  IPCC (2019) https://www.ipcc-nggip.iges.or.jp/...         not required  \n",
       "1  IPCC (2019) https://www.ipcc-nggip.iges.or.jp/...             complete  \n",
       "2  IPCC (2019) https://www.ipcc-nggip.iges.or.jp/...             complete  \n",
       "3  IPCC (2019) https://www.ipcc-nggip.iges.or.jp/...             complete  \n",
       "4  IPCC (2019) https://www.ipcc-nggip.iges.or.jp/...             complete  \n",
       "\n",
       "[5 rows x 250 columns]"
      ]
     },
     "execution_count": 68,
     "metadata": {},
     "output_type": "execute_result"
    }
   ],
   "source": [
    "import numpy as np\n",
    "crop.loc[crop[\"lookups.42.value\"] == \"-\", \"lookups.42.value\"] = np.nan\n",
    "crop[\"lookups.42.value\"] = crop[\"lookups.42.value\"].astype(float)\n",
    "# country_info_df['Area (km squared)'] = country_info_df['Area (km squared)'].astype(int)\n",
    "# country_info_df.loc[country_info_df[\"Country Name\"] == \"Taiwan\", \"Continent\"] = \"Asia\"\n",
    "crop.head()\n"
   ]
  },
  {
   "cell_type": "code",
   "execution_count": 74,
   "metadata": {},
   "outputs": [
    {
     "name": "stdout",
     "output_type": "stream",
     "text": [
      "defaultProperties.0.value\n",
      "defaultProperties.1.value\n",
      "defaultProperties.2.value\n",
      "lookups.0.value\n",
      "lookups.1.value\n",
      "lookups.2.value\n",
      "lookups.3.value\n",
      "lookups.4.value\n",
      "lookups.5.value\n",
      "lookups.6.value\n",
      "lookups.7.value\n",
      "lookups.8.value\n",
      "lookups.9.value\n",
      "lookups.10.value\n",
      "lookups.11.value\n",
      "lookups.12.value\n",
      "lookups.13.value\n",
      "lookups.14.value\n",
      "lookups.15.value\n",
      "lookups.16.value\n",
      "lookups.17.value\n",
      "lookups.18.value\n",
      "lookups.19.value\n",
      "lookups.20.value\n",
      "lookups.21.value\n",
      "lookups.22.value\n",
      "lookups.23.value\n",
      "lookups.24.value\n",
      "lookups.25.value\n",
      "lookups.26.value\n",
      "lookups.27.value\n",
      "lookups.28.value\n",
      "lookups.29.value\n",
      "lookups.30.value\n",
      "lookups.31.value\n",
      "lookups.32.value\n",
      "lookups.33.value\n",
      "lookups.34.value\n",
      "lookups.35.value\n",
      "lookups.36.value\n",
      "lookups.37.value\n",
      "lookups.38.value\n",
      "lookups.39.value\n",
      "lookups.40.value\n",
      "lookups.41.value\n",
      "lookups.42.value\n",
      "lookups.43.value\n"
     ]
    }
   ],
   "source": [
    "for item in crop.columns:\n",
    "    # print(item)\n",
    "    if item[-5:] == \"value\":\n",
    "      print(item)\n",
    "      if crop[item][0] in \"0123456789\"\n"
   ]
  },
  {
   "cell_type": "code",
   "execution_count": 69,
   "metadata": {},
   "outputs": [
    {
     "data": {
      "text/html": [
       "<div>\n",
       "<style scoped>\n",
       "    .dataframe tbody tr th:only-of-type {\n",
       "        vertical-align: middle;\n",
       "    }\n",
       "\n",
       "    .dataframe tbody tr th {\n",
       "        vertical-align: top;\n",
       "    }\n",
       "\n",
       "    .dataframe thead th {\n",
       "        text-align: right;\n",
       "    }\n",
       "</style>\n",
       "<table border=\"1\" class=\"dataframe\">\n",
       "  <thead>\n",
       "    <tr style=\"text-align: right;\">\n",
       "      <th></th>\n",
       "      <th>lookups.19.value</th>\n",
       "      <th>lookups.42.value</th>\n",
       "    </tr>\n",
       "  </thead>\n",
       "  <tbody>\n",
       "    <tr>\n",
       "      <th>count</th>\n",
       "      <td>1425.000000</td>\n",
       "      <td>1013.000000</td>\n",
       "    </tr>\n",
       "    <tr>\n",
       "      <th>mean</th>\n",
       "      <td>0.811789</td>\n",
       "      <td>40.716160</td>\n",
       "    </tr>\n",
       "    <tr>\n",
       "      <th>std</th>\n",
       "      <td>0.154695</td>\n",
       "      <td>2.170149</td>\n",
       "    </tr>\n",
       "    <tr>\n",
       "      <th>min</th>\n",
       "      <td>-0.200000</td>\n",
       "      <td>32.550000</td>\n",
       "    </tr>\n",
       "    <tr>\n",
       "      <th>25%</th>\n",
       "      <td>0.800000</td>\n",
       "      <td>39.480000</td>\n",
       "    </tr>\n",
       "    <tr>\n",
       "      <th>50%</th>\n",
       "      <td>0.800000</td>\n",
       "      <td>42.000000</td>\n",
       "    </tr>\n",
       "    <tr>\n",
       "      <th>75%</th>\n",
       "      <td>0.800000</td>\n",
       "      <td>42.000000</td>\n",
       "    </tr>\n",
       "    <tr>\n",
       "      <th>max</th>\n",
       "      <td>3.800000</td>\n",
       "      <td>42.000000</td>\n",
       "    </tr>\n",
       "  </tbody>\n",
       "</table>\n",
       "</div>"
      ],
      "text/plain": [
       "       lookups.19.value  lookups.42.value\n",
       "count       1425.000000       1013.000000\n",
       "mean           0.811789         40.716160\n",
       "std            0.154695          2.170149\n",
       "min           -0.200000         32.550000\n",
       "25%            0.800000         39.480000\n",
       "50%            0.800000         42.000000\n",
       "75%            0.800000         42.000000\n",
       "max            3.800000         42.000000"
      ]
     },
     "execution_count": 69,
     "metadata": {},
     "output_type": "execute_result"
    }
   ],
   "source": [
    "crop.describe()\n"
   ]
  },
  {
   "cell_type": "code",
   "execution_count": 67,
   "metadata": {},
   "outputs": [
    {
     "data": {
      "text/plain": [
       "array([None, '42', '36.12', '38.22', '37.59', '38.01', '39.27', '39.48',\n",
       "       '38.85', '39.69', '37.38', '37.17', '35.28', '37.8', '35.07',\n",
       "       '32.55', '38.43', '39.9', '36.33'], dtype=object)"
      ]
     },
     "execution_count": 67,
     "metadata": {},
     "output_type": "execute_result"
    }
   ],
   "source": [
    "crop[\"lookups.42.value\"].unique()\n"
   ]
  },
  {
   "cell_type": "markdown",
   "metadata": {},
   "source": [
    "Let's look at the columns in the data"
   ]
  },
  {
   "cell_type": "code",
   "execution_count": 49,
   "metadata": {},
   "outputs": [
    {
     "data": {
      "text/plain": [
       "Index(['id', 'name', 'units', 'synonyms', 'subClassOf.0.id', 'subClassOf.1.id',\n",
       "       'definition', 'scientificName', 'hsCode', 'iccCode',\n",
       "       ...\n",
       "       'lookups.41.source', 'lookups.41.dataState', 'lookups.42.name',\n",
       "       'lookups.42.value', 'lookups.42.source', 'lookups.42.dataState',\n",
       "       'lookups.43.name', 'lookups.43.value', 'lookups.43.source',\n",
       "       'lookups.43.dataState'],\n",
       "      dtype='object', length=250)"
      ]
     },
     "execution_count": 49,
     "metadata": {},
     "output_type": "execute_result"
    }
   ],
   "source": [
    "crop.columns\n"
   ]
  },
  {
   "cell_type": "code",
   "execution_count": 75,
   "metadata": {},
   "outputs": [
    {
     "ename": "KeyError",
     "evalue": "'IPCC_LAND_USE_CATEGORY'",
     "output_type": "error",
     "traceback": [
      "\u001b[0;31m---------------------------------------------------------------------------\u001b[0m",
      "\u001b[0;31mKeyError\u001b[0m                                  Traceback (most recent call last)",
      "File \u001b[0;32m~/miniconda3/envs/hestia/lib/python3.12/site-packages/pandas/core/indexes/base.py:3790\u001b[0m, in \u001b[0;36mIndex.get_loc\u001b[0;34m(self, key)\u001b[0m\n\u001b[1;32m   3789\u001b[0m \u001b[39mtry\u001b[39;00m:\n\u001b[0;32m-> 3790\u001b[0m     \u001b[39mreturn\u001b[39;00m \u001b[39mself\u001b[39;49m\u001b[39m.\u001b[39;49m_engine\u001b[39m.\u001b[39;49mget_loc(casted_key)\n\u001b[1;32m   3791\u001b[0m \u001b[39mexcept\u001b[39;00m \u001b[39mKeyError\u001b[39;00m \u001b[39mas\u001b[39;00m err:\n",
      "File \u001b[0;32mindex.pyx:152\u001b[0m, in \u001b[0;36mpandas._libs.index.IndexEngine.get_loc\u001b[0;34m()\u001b[0m\n",
      "File \u001b[0;32mindex.pyx:181\u001b[0m, in \u001b[0;36mpandas._libs.index.IndexEngine.get_loc\u001b[0;34m()\u001b[0m\n",
      "File \u001b[0;32mpandas/_libs/hashtable_class_helper.pxi:7080\u001b[0m, in \u001b[0;36mpandas._libs.hashtable.PyObjectHashTable.get_item\u001b[0;34m()\u001b[0m\n",
      "File \u001b[0;32mpandas/_libs/hashtable_class_helper.pxi:7088\u001b[0m, in \u001b[0;36mpandas._libs.hashtable.PyObjectHashTable.get_item\u001b[0;34m()\u001b[0m\n",
      "\u001b[0;31mKeyError\u001b[0m: 'IPCC_LAND_USE_CATEGORY'",
      "\nThe above exception was the direct cause of the following exception:\n",
      "\u001b[0;31mKeyError\u001b[0m                                  Traceback (most recent call last)",
      "\u001b[1;32m/Users/florian/Code/hestia_python_practicals/week3/week3_datascience_with_python1.ipynb Cell 71\u001b[0m line \u001b[0;36m2\n\u001b[1;32m      <a href='vscode-notebook-cell:/Users/florian/Code/hestia_python_practicals/week3/week3_datascience_with_python1.ipynb#Y114sZmlsZQ%3D%3D?line=0'>1</a>\u001b[0m \u001b[39m## Look at unique land use categories in this data\u001b[39;00m\n\u001b[0;32m----> <a href='vscode-notebook-cell:/Users/florian/Code/hestia_python_practicals/week3/week3_datascience_with_python1.ipynb#Y114sZmlsZQ%3D%3D?line=1'>2</a>\u001b[0m crop[\u001b[39m\"\u001b[39;49m\u001b[39mIPCC_LAND_USE_CATEGORY\u001b[39;49m\u001b[39m\"\u001b[39;49m]\u001b[39m.\u001b[39munique()\n",
      "File \u001b[0;32m~/miniconda3/envs/hestia/lib/python3.12/site-packages/pandas/core/frame.py:3896\u001b[0m, in \u001b[0;36mDataFrame.__getitem__\u001b[0;34m(self, key)\u001b[0m\n\u001b[1;32m   3894\u001b[0m \u001b[39mif\u001b[39;00m \u001b[39mself\u001b[39m\u001b[39m.\u001b[39mcolumns\u001b[39m.\u001b[39mnlevels \u001b[39m>\u001b[39m \u001b[39m1\u001b[39m:\n\u001b[1;32m   3895\u001b[0m     \u001b[39mreturn\u001b[39;00m \u001b[39mself\u001b[39m\u001b[39m.\u001b[39m_getitem_multilevel(key)\n\u001b[0;32m-> 3896\u001b[0m indexer \u001b[39m=\u001b[39m \u001b[39mself\u001b[39;49m\u001b[39m.\u001b[39;49mcolumns\u001b[39m.\u001b[39;49mget_loc(key)\n\u001b[1;32m   3897\u001b[0m \u001b[39mif\u001b[39;00m is_integer(indexer):\n\u001b[1;32m   3898\u001b[0m     indexer \u001b[39m=\u001b[39m [indexer]\n",
      "File \u001b[0;32m~/miniconda3/envs/hestia/lib/python3.12/site-packages/pandas/core/indexes/base.py:3797\u001b[0m, in \u001b[0;36mIndex.get_loc\u001b[0;34m(self, key)\u001b[0m\n\u001b[1;32m   3792\u001b[0m     \u001b[39mif\u001b[39;00m \u001b[39misinstance\u001b[39m(casted_key, \u001b[39mslice\u001b[39m) \u001b[39mor\u001b[39;00m (\n\u001b[1;32m   3793\u001b[0m         \u001b[39misinstance\u001b[39m(casted_key, abc\u001b[39m.\u001b[39mIterable)\n\u001b[1;32m   3794\u001b[0m         \u001b[39mand\u001b[39;00m \u001b[39many\u001b[39m(\u001b[39misinstance\u001b[39m(x, \u001b[39mslice\u001b[39m) \u001b[39mfor\u001b[39;00m x \u001b[39min\u001b[39;00m casted_key)\n\u001b[1;32m   3795\u001b[0m     ):\n\u001b[1;32m   3796\u001b[0m         \u001b[39mraise\u001b[39;00m InvalidIndexError(key)\n\u001b[0;32m-> 3797\u001b[0m     \u001b[39mraise\u001b[39;00m \u001b[39mKeyError\u001b[39;00m(key) \u001b[39mfrom\u001b[39;00m \u001b[39merr\u001b[39;00m\n\u001b[1;32m   3798\u001b[0m \u001b[39mexcept\u001b[39;00m \u001b[39mTypeError\u001b[39;00m:\n\u001b[1;32m   3799\u001b[0m     \u001b[39m# If we have a listlike key, _check_indexing_error will raise\u001b[39;00m\n\u001b[1;32m   3800\u001b[0m     \u001b[39m#  InvalidIndexError. Otherwise we fall through and re-raise\u001b[39;00m\n\u001b[1;32m   3801\u001b[0m     \u001b[39m#  the TypeError.\u001b[39;00m\n\u001b[1;32m   3802\u001b[0m     \u001b[39mself\u001b[39m\u001b[39m.\u001b[39m_check_indexing_error(key)\n",
      "\u001b[0;31mKeyError\u001b[0m: 'IPCC_LAND_USE_CATEGORY'"
     ]
    }
   ],
   "source": [
    "## Look at unique land use categories in this data\n",
    "crop[\"IPCC_LAND_USE_CATEGORY\"].unique()\n"
   ]
  },
  {
   "cell_type": "markdown",
   "metadata": {},
   "source": [
    "For now let's just subset at a few columns (feel free to change if you want)"
   ]
  },
  {
   "cell_type": "code",
   "execution_count": null,
   "metadata": {},
   "outputs": [],
   "source": [
    "columns_to_examine = [\"term.id\", \"IPCC_LAND_USE_CATEGORY\", \"Nursery_duration\"]\n"
   ]
  },
  {
   "cell_type": "code",
   "execution_count": null,
   "metadata": {},
   "outputs": [],
   "source": [
    "crop_sub = crop[columns_to_examine]\n"
   ]
  },
  {
   "cell_type": "code",
   "execution_count": null,
   "metadata": {},
   "outputs": [],
   "source": [
    "crop_sub.head()\n"
   ]
  },
  {
   "cell_type": "markdown",
   "metadata": {},
   "source": [
    "Next, let's rename these columns to something simpler. Remember to be careful, as we can look information from our data if we lose verbosity."
   ]
  },
  {
   "cell_type": "code",
   "execution_count": null,
   "metadata": {},
   "outputs": [],
   "source": [
    "crop_sub = crop_sub.rename(columns={\"term.id\": \"Name\", \"IPCC_LAND_USE_CATEGORY\": \"Land Use Category\", \"Nursery_duration\": \"Nursery Duration\"})\n"
   ]
  },
  {
   "cell_type": "code",
   "execution_count": null,
   "metadata": {},
   "outputs": [],
   "source": [
    "crop_sub.head()\n"
   ]
  },
  {
   "cell_type": "code",
   "execution_count": null,
   "metadata": {},
   "outputs": [],
   "source": [
    "len(crop_sub)\n"
   ]
  },
  {
   "cell_type": "markdown",
   "metadata": {},
   "source": [
    "We have 1424 rows of data, but not all data is present. We can drop missing values."
   ]
  },
  {
   "cell_type": "markdown",
   "metadata": {},
   "source": [
    "## Dropping NaN Values\n",
    "NaN means not a number"
   ]
  },
  {
   "cell_type": "code",
   "execution_count": null,
   "metadata": {},
   "outputs": [],
   "source": [
    "crop_sub = crop_sub.dropna(subset=[\"Nursery Duration\"])\n"
   ]
  },
  {
   "cell_type": "code",
   "execution_count": null,
   "metadata": {},
   "outputs": [],
   "source": [
    "len(crop_sub)\n"
   ]
  },
  {
   "cell_type": "markdown",
   "metadata": {},
   "source": [
    "## Save new data\n",
    "Saving to a file is very easy. We can use the `.to_csv` method. "
   ]
  },
  {
   "cell_type": "code",
   "execution_count": null,
   "metadata": {},
   "outputs": [],
   "source": [
    "crop_sub.to_csv(\"data/formatted_crop_subset.csv\")\n"
   ]
  },
  {
   "cell_type": "markdown",
   "metadata": {},
   "source": [
    "# Extra"
   ]
  },
  {
   "cell_type": "markdown",
   "metadata": {},
   "source": [
    "## Note on 'Methods'\n",
    "If you take nothing else away from the explanation that follows, *Methods are functions* (introduced last week). They are slightly different in that they are functions specific to a class of object. Below we look at some of the in-built 'methods' that come with strings:"
   ]
  },
  {
   "cell_type": "code",
   "execution_count": null,
   "metadata": {},
   "outputs": [],
   "source": [
    "my_string = \"hello\" # tip: why not change the string here to experiment\n"
   ]
  },
  {
   "cell_type": "code",
   "execution_count": null,
   "metadata": {},
   "outputs": [],
   "source": [
    "my_string.upper() # the syntax for methods is '.<method_name>()'\n"
   ]
  },
  {
   "cell_type": "code",
   "execution_count": null,
   "metadata": {},
   "outputs": [],
   "source": [
    "my_string.capitalize()\n"
   ]
  },
  {
   "cell_type": "markdown",
   "metadata": {},
   "source": [
    "As we see above, the syntax is `.<method_name>()`. The `()` is function call. Most object have methods and a pro-tip, if I have not already taught this, is to press tab after you type the `.` of your variable to see a list of potential methods (ignore anything with an underscore `_` for now...).    \n",
    "\n",
    "See more String method here: https://www.w3schools.com/python/python_ref_string.asp"
   ]
  },
  {
   "cell_type": "markdown",
   "metadata": {},
   "source": [
    "# (More) Dataframe Methods\n",
    "We have already seen lots of methods i.e. `.head()` `.describe()`, `.rename(<args go here>)`."
   ]
  },
  {
   "cell_type": "markdown",
   "metadata": {},
   "source": [
    "*Note on cell below:* It is good pratice to minimise, what in software development we call, 'scope'. This means that define/declare variables near to where they are used. This prevents problems where a variable is modified that then means that later code does not work as intended. Especially in jupyter notebooks (where you can run cells in any ordered) this is important. Let's redeclare the `crop` dataframe below.\n"
   ]
  },
  {
   "cell_type": "code",
   "execution_count": null,
   "metadata": {},
   "outputs": [],
   "source": [
    "# redeclare the dataframe\n",
    "crop = pd.read_csv(\"data/crop.csv\")\n"
   ]
  },
  {
   "cell_type": "code",
   "execution_count": null,
   "metadata": {},
   "outputs": [],
   "source": [
    "crop.info()\n"
   ]
  },
  {
   "cell_type": "code",
   "execution_count": null,
   "metadata": {},
   "outputs": [],
   "source": [
    "crop['Nursery_duration'].count()\n"
   ]
  },
  {
   "cell_type": "code",
   "execution_count": null,
   "metadata": {},
   "outputs": [],
   "source": [
    "crop['Nursery_duration'].sum()\n"
   ]
  },
  {
   "cell_type": "markdown",
   "metadata": {},
   "source": [
    "#### 🤨 TASK\n",
    "Before continuing, try pressing 'tab' after the `.` below to see what we can see. Remember we need to include a `()` at the end if we want to call methods. Confusingly, we do not use `()` if what follows `.` is a property (introduced after this cell).  \n",
    "*Delete the `???` and press the tab key*"
   ]
  },
  {
   "cell_type": "code",
   "execution_count": null,
   "metadata": {},
   "outputs": [],
   "source": [
    "crop.???\n"
   ]
  },
  {
   "cell_type": "markdown",
   "metadata": {},
   "source": [
    "### Quick note on properties\n",
    "These are, like their namesake, properties. They store variable i.e. the index is stored as a property. They will often be named like `is_...` or named like an object's property: `size` or `index`. \n",
    "\n",
    "**Remember:** you can use the in-built `help` function if you want to read more about a method (but do not use `()` inside the `help(<method>)`)"
   ]
  },
  {
   "cell_type": "code",
   "execution_count": null,
   "metadata": {},
   "outputs": [],
   "source": [
    "crop.index\n"
   ]
  },
  {
   "cell_type": "code",
   "execution_count": null,
   "metadata": {},
   "outputs": [],
   "source": [
    "crop.size\n"
   ]
  },
  {
   "cell_type": "code",
   "execution_count": null,
   "metadata": {},
   "outputs": [],
   "source": []
  }
 ],
 "metadata": {
  "kernelspec": {
   "display_name": "hestia",
   "language": "python",
   "name": "python3"
  },
  "language_info": {
   "codemirror_mode": {
    "name": "ipython",
    "version": 3
   },
   "file_extension": ".py",
   "mimetype": "text/x-python",
   "name": "python",
   "nbconvert_exporter": "python",
   "pygments_lexer": "ipython3",
   "version": "3.12.0"
  }
 },
 "nbformat": 4,
 "nbformat_minor": 2
}

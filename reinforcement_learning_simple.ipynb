{
  "nbformat": 4,
  "nbformat_minor": 0,
  "metadata": {
    "colab": {
      "provenance": [],
      "authorship_tag": "ABX9TyPUQ97gdteHLhlx4VXTdCok",
      "include_colab_link": true
    },
    "kernelspec": {
      "name": "python3",
      "display_name": "Python 3"
    },
    "language_info": {
      "name": "python"
    }
  },
  "cells": [
    {
      "cell_type": "markdown",
      "metadata": {
        "id": "view-in-github",
        "colab_type": "text"
      },
      "source": [
        "<a href=\"https://colab.research.google.com/github/benkeel/hestia_python_practicals/blob/main/reinforcement_learning_simple.ipynb\" target=\"_parent\"><img src=\"https://colab.research.google.com/assets/colab-badge.svg\" alt=\"Open In Colab\"/></a>"
      ]
    },
    {
      "cell_type": "code",
      "execution_count": null,
      "metadata": {
        "colab": {
          "base_uri": "https://localhost:8080/",
          "height": 541
        },
        "id": "An4CTijOW5Vd",
        "outputId": "63adfd33-1a11-4196-e1e0-8b7de6172a3f"
      },
      "outputs": [
        {
          "output_type": "stream",
          "name": "stdout",
          "text": [
            "Number incorrect 0\n",
            "Totals of action 1 vs action 2 0 1221\n",
            "Percentage of action 1 0.0\n"
          ]
        },
        {
          "output_type": "display_data",
          "data": {
            "text/plain": [
              "<Figure size 640x480 with 1 Axes>"
            ],
            "image/png": "[encoded data removed]"
          },
          "metadata": {}
        },
        {
          "output_type": "stream",
          "name": "stdout",
          "text": [
            "[0.7, 0.9, 0.96, 0.98, 0.96, 0.96, 0.98, 0.98, 1.0, 1.0, 1.0, 1.0, 1.0, 1.0, 1.0, 1.0, 1.0, 1.0, 1.0, 1.0, 1.0, 1.0, 1.0, 1.0, 1.0]\n"
          ]
        }
      ],
      "source": [
        "import random\n",
        "import time\n",
        "import matplotlib.pyplot as plt\n",
        "\n",
        "\n",
        "world_states = [\"A\", \"B\"]\n",
        "\n",
        "number_of_iterations = 25\n",
        "number_of_timesteps = 50\n",
        "\n",
        "success_list = []\n",
        "\n",
        "class Agent:\n",
        "    def __init__(self):\n",
        "        self.learner_agent = {\"A\": [\"action1\", \"action2\"], \"B\": [\"action1\", \"action2\"]}\n",
        "\n",
        "    def select_action(self, current_world_state):\n",
        "        action = random.choice(self.learner_agent[current_world_state])\n",
        "        return action\n",
        "    def receive_reward(self, current_world_state, action):\n",
        "        self.learner_agent[current_world_state].append(action)\n",
        "        # Placeholder function for receiving reward\n",
        "        #print(\"NEw learner agent for \", agent, self.learner_agent)\n",
        "        pass\n",
        "\n",
        "agent1 = Agent()\n",
        "agent2 = Agent()\n",
        "\n",
        "action1_total = 0\n",
        "action2_total = 0\n",
        "\n",
        "\n",
        "for iteration in range(number_of_iterations):\n",
        "    success_rate = 0\n",
        "    number_incorrect = 0\n",
        "    for t in range(number_of_timesteps):\n",
        "        current_world_state = random.choice(world_states)\n",
        "        #print(\"Current world state:\", current_world_state)\n",
        "\n",
        "        agent1_action = agent1.select_action(current_world_state)\n",
        "        agent2_action = agent2.select_action(current_world_state)\n",
        "\n",
        "        if agent1_action == agent2_action:\n",
        "            #print(\"Agents successfully matched actions!\")\n",
        "            if agent1_action == \"action1\":\n",
        "                action1_total += 1\n",
        "            if agent1_action == \"action2\":\n",
        "                action2_total += 1\n",
        "            agent1.receive_reward(current_world_state, agent1_action)\n",
        "            agent2.receive_reward(current_world_state, agent1_action)\n",
        "            success_rate += 1\n",
        "            # Both agents receive a reward for successful communication\n",
        "        else:\n",
        "            number_incorrect += 1\n",
        "            #print(\"Agents failed to match actions!\")\n",
        "\n",
        "        time.sleep(0.01)\n",
        "\n",
        "    #print(\"Success rate for iteration:\", success_rate / number_of_timesteps)\n",
        "    success_list.append(success_rate/number_of_timesteps)\n",
        "\n",
        "\n",
        "print(\"Number incorrect on last iteration\", number_incorrect)\n",
        "print(\"Totals of action 1 vs action 2\", action1_total, action2_total)\n",
        "print(\"Percentage of action 1\", action1_total / (action1_total + action2_total))\n",
        "\n",
        "\n",
        "plt.plot(range(1, number_of_iterations + 1), success_list)\n",
        "plt.xlabel('Iteration')\n",
        "plt.ylabel('Success Rate')\n",
        "plt.title('Success Rate at Each Iteration')\n",
        "plt.show()\n",
        "print(success_list)\n"
      ]
    },
    {
      "cell_type": "code",
      "source": [
        "for i in range(100):\n",
        "  print(agent2.select_action())"
      ],
      "metadata": {
        "colab": {
          "base_uri": "https://localhost:8080/"
        },
        "id": "TVnJU8QTYcAv",
        "outputId": "ea05be4d-d017-4fc2-e0d9-782c6a74e165"
      },
      "execution_count": null,
      "outputs": [
        {
          "output_type": "stream",
          "name": "stdout",
          "text": [
            "A\n",
            "A\n",
            "A\n",
            "A\n",
            "A\n",
            "A\n",
            "A\n",
            "A\n",
            "A\n",
            "A\n",
            "action1\n",
            "A\n",
            "A\n",
            "A\n",
            "A\n",
            "A\n",
            "A\n",
            "A\n",
            "A\n",
            "A\n",
            "A\n",
            "A\n",
            "A\n",
            "A\n",
            "A\n",
            "A\n",
            "A\n",
            "A\n",
            "A\n",
            "A\n",
            "A\n",
            "A\n",
            "A\n",
            "A\n",
            "A\n",
            "A\n",
            "A\n",
            "A\n",
            "A\n",
            "A\n",
            "A\n",
            "A\n",
            "A\n",
            "A\n",
            "A\n",
            "A\n",
            "A\n",
            "A\n",
            "A\n",
            "A\n",
            "A\n",
            "A\n",
            "A\n",
            "A\n",
            "action2\n",
            "A\n",
            "A\n",
            "A\n",
            "A\n",
            "A\n",
            "A\n",
            "A\n",
            "A\n",
            "A\n",
            "A\n",
            "A\n",
            "A\n",
            "A\n",
            "A\n",
            "A\n",
            "A\n",
            "A\n",
            "A\n",
            "A\n",
            "A\n",
            "A\n",
            "action2\n",
            "A\n",
            "A\n",
            "A\n",
            "A\n",
            "A\n",
            "A\n",
            "A\n",
            "A\n",
            "A\n",
            "A\n",
            "A\n",
            "A\n",
            "A\n",
            "A\n",
            "A\n",
            "A\n",
            "A\n",
            "A\n",
            "A\n",
            "A\n",
            "A\n",
            "A\n",
            "A\n"
          ]
        }
      ]
    },
    {
      "cell_type": "code",
      "source": [
        " learner_agent = {\"A\": [\"action1\", \"action2\"], \"B\": [\"action1\", \"action2\"]}\n",
        " learner_agent[\"B\"]"
      ],
      "metadata": {
        "colab": {
          "base_uri": "https://localhost:8080/"
        },
        "id": "v7HWVLYhZObl",
        "outputId": "832c6753-3fba-4433-faea-af396e3463e2"
      },
      "execution_count": null,
      "outputs": [
        {
          "output_type": "execute_result",
          "data": {
            "text/plain": [
              "['action1', 'action2']"
            ]
          },
          "metadata": {},
          "execution_count": 29
        }
      ]
    },
    {
      "cell_type": "code",
      "source": [
        "for i in range(100):\n",
        "  current_world_state = \"B\"\n",
        "  learner_agent = {\"A\": [\"action1\", \"action2\"], \"B\": [\"action1\", \"action2\"]}\n",
        "  print(random.choice(learner_agent[current_world_state]))\n"
      ],
      "metadata": {
        "colab": {
          "base_uri": "https://localhost:8080/"
        },
        "id": "Y5cSPmpiXRSb",
        "outputId": "603b21c3-6db4-4b76-b239-914f3c2d6163"
      },
      "execution_count": null,
      "outputs": [
        {
          "output_type": "stream",
          "name": "stdout",
          "text": [
            "action2\n",
            "action2\n",
            "action1\n",
            "action1\n",
            "action1\n",
            "action2\n",
            "action2\n",
            "action1\n",
            "action1\n",
            "action2\n",
            "action2\n",
            "action1\n",
            "action2\n",
            "action1\n",
            "action2\n",
            "action1\n",
            "action2\n",
            "action1\n",
            "action1\n",
            "action1\n",
            "action1\n",
            "action2\n",
            "action1\n",
            "action1\n",
            "action1\n",
            "action1\n",
            "action1\n",
            "action1\n",
            "action2\n",
            "action1\n",
            "action2\n",
            "action1\n",
            "action1\n",
            "action2\n",
            "action2\n",
            "action1\n",
            "action2\n",
            "action1\n",
            "action2\n",
            "action2\n",
            "action1\n",
            "action2\n",
            "action2\n",
            "action1\n",
            "action1\n",
            "action2\n",
            "action2\n",
            "action1\n",
            "action1\n",
            "action1\n",
            "action1\n",
            "action2\n",
            "action1\n",
            "action1\n",
            "action2\n",
            "action2\n",
            "action2\n",
            "action1\n",
            "action2\n",
            "action1\n",
            "action2\n",
            "action2\n",
            "action2\n",
            "action1\n",
            "action2\n",
            "action1\n",
            "action2\n",
            "action1\n",
            "action2\n",
            "action1\n",
            "action2\n",
            "action1\n",
            "action1\n",
            "action2\n",
            "action2\n",
            "action2\n",
            "action2\n",
            "action1\n",
            "action1\n",
            "action1\n",
            "action2\n",
            "action2\n",
            "action1\n",
            "action2\n",
            "action2\n",
            "action1\n",
            "action1\n",
            "action2\n",
            "action1\n",
            "action1\n",
            "action2\n",
            "action2\n",
            "action1\n",
            "action2\n",
            "action2\n",
            "action1\n",
            "action2\n",
            "action2\n",
            "action2\n",
            "action2\n"
          ]
        }
      ]
    },
    {
      "cell_type": "code",
      "source": [],
      "metadata": {
        "id": "2uY-CJSpXsra"
      },
      "execution_count": null,
      "outputs": []
    }
  ]
}
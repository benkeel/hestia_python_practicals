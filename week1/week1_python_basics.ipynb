{
 "cells": [
  {
   "cell_type": "markdown",
   "metadata": {},
   "source": [
    "# Lab Notebook 1 – A first look at Python"
   ]
  },
  {
   "cell_type": "markdown",
   "metadata": {},
   "source": [
    "**Python** is an extremely popular and versatile high-level programming language that was created by Guido Van Rossum in the 90s. It is a general-purpose language focusing on procedural programming *(on which we will focus)* and object-oriented programming. If these terms don't immediately make sense to you, don't worry at all because their definitions are not most important. If you are interested, though, have a read on Google.\n",
    "\n",
    "This week's material is designed to be a gentle introduction to basic sensibilities of coding in Python. \n",
    "\n",
    "As most of have experience in R, you will find Python is similar in many aspects in its logic, however with different syntax - knowing them is like knowing two spoken languages that are related, but far from identical. Along your journey of learning Python, then, try to find **parallels** in the two coding languages, and notice **equivalents** - i.e. how two functions, written differently in R and Python, do pretty much the same thing. Creating these links will both quickly boost your proficiency and confidence with working in Python.\n",
    "\n",
    "*Remember* that R is a slightly different type of language, it is a statistical programming language (but it does also let you do procedural and, some, object-orientated stuff)."
   ]
  },
  {
   "cell_type": "markdown",
   "metadata": {},
   "source": [
    "We first begin with the very basic function of `print()`, which simply returns a message to the user (that's you)"
   ]
  },
  {
   "cell_type": "code",
   "execution_count": null,
   "metadata": {},
   "outputs": [],
   "source": [
    "print(\"hello world\")"
   ]
  },
  {
   "cell_type": "code",
   "execution_count": null,
   "metadata": {},
   "outputs": [],
   "source": [
    "# This is a comment\n",
    "# The below comment will not be returned\n",
    "# print(\"hello world\")"
   ]
  },
  {
   "cell_type": "markdown",
   "metadata": {},
   "source": [
    "And moving a step up, we will introduce a variable that we will print. The 'string' value `\"hello world\"` to a variable, `my_variable`, that then sits in the memory of the jupyter notebook."
   ]
  },
  {
   "cell_type": "code",
   "execution_count": null,
   "metadata": {},
   "outputs": [],
   "source": [
    "my_variable = \"hello world\" ## assign the string \"hello world\" to the variable my_variable \n",
    "\n",
    "print(my_variable)"
   ]
  },
  {
   "cell_type": "markdown",
   "metadata": {},
   "source": [
    "*Note* that we only use ```=``` in Python rather than ```->``` for variable assignment."
   ]
  },
  {
   "cell_type": "markdown",
   "metadata": {},
   "source": [
    "```print``` is quite handy and can take multiple arguments, see below"
   ]
  },
  {
   "cell_type": "code",
   "execution_count": null,
   "metadata": {},
   "outputs": [],
   "source": [
    "print(my_variable, my_variable, my_variable)"
   ]
  },
  {
   "cell_type": "markdown",
   "metadata": {},
   "source": [
    "### Basic Data Types\n",
    "\n",
    "As mentioned before, Python is an object-oriented programming language, and the objects that exist in the Python memory, such as the variable `my_variable` which we created just then (which is still hanging around in memory) come in a variety of data types. Below are examples of some common types of data you will encounter, and if you would like to do further reading, click on [this list of Basic Object Types](https://www.pythonlikeyoumeanit.com/Module2_EssentialsOfPython/Basic_Objects.html).\n",
    "\n",
    "**Strings (str):** an ordered sequence of alphanumeric characters. \n",
    "```python\n",
    "Sample_string = \"Hello world! Today is the 23rd day of September\"\n",
    "```\n",
    "Note how the automatic colouring that Python does for you helps you to track if anything is wrong with your code. For instance, if you had forgotten to close the first inverted comma, everything you write from thereon would remain as red/brown coloured test and be treated as a continuation of your string value.\n",
    "\n",
    "**Integers (int):** Positive/Negative whole numbers \n",
    "```python\n",
    "sample_int = 3619\n",
    "```\n",
    "\n",
    "**Floats (float):** Real number with floating point. This category can include integers, but also non-integer numbers.\n",
    "```python\n",
    "Sample_float= 1.126\n",
    "```\n",
    "\n",
    "**Boolean (bool):** binary objects with one of two values: they are either `=True` or `=False`\n",
    "```python\n",
    "Sample_bool = True\n",
    "```\n",
    "One use case is if we wanted to do analysis whereby it was important to distinguish between two categories of data, boolean objects come in handy.\n"
   ]
  },
  {
   "cell_type": "code",
   "execution_count": null,
   "metadata": {},
   "outputs": [],
   "source": [
    "python_is_great = True\n",
    "\n",
    "if python_is_great:\n",
    "    print(\"Python is Great!\")"
   ]
  },
  {
   "cell_type": "markdown",
   "metadata": {},
   "source": [
    "The function `type()` is included in base Python (i.e. without you needing to import any additional packages) and tells us the object type of an object that we put as an argument, within the parantheses. Some errors may occur because you try to apply a function onto an object that does not comply with what object type(s) the function demands, and so remember to use `type()` to understand your data before proceeding."
   ]
  },
  {
   "cell_type": "code",
   "execution_count": null,
   "metadata": {},
   "outputs": [],
   "source": [
    "my_variable = \"New content\" # We have now overwritten and reassigned the 'my_variable' variable\n",
    "\n",
    "type(my_variable) #str tells us that object 'x' is a string object"
   ]
  },
  {
   "cell_type": "markdown",
   "metadata": {},
   "source": [
    "#### 🤨 TASK\n",
    "In the below cell, create a new variable ```variable_1``` and assign a integer to it. Then print out the type.   \n",
    "*Replace the `???` below with your answer*"
   ]
  },
  {
   "cell_type": "code",
   "execution_count": null,
   "metadata": {},
   "outputs": [],
   "source": [
    "???\n",
    "???"
   ]
  },
  {
   "cell_type": "markdown",
   "metadata": {},
   "source": [
    "### String comprehension\n",
    "By enclosing a number in square brackets `[]` after calling a string object, we can access an individual element (alphanumeric character) that comprises the string. Note that indexing in Python starts at **0** rather than 1, meaning `x[0]` gives us the first element of `x` and so on."
   ]
  },
  {
   "cell_type": "code",
   "execution_count": null,
   "metadata": {},
   "outputs": [],
   "source": [
    "my_string = \"Hestia Platform\"\n",
    "\n",
    "# you can access each character of a string through an index\n",
    "# first element\n",
    "print (my_string[0])"
   ]
  },
  {
   "cell_type": "code",
   "execution_count": null,
   "metadata": {},
   "outputs": [],
   "source": [
    "# second element\n",
    "print (my_string[1])"
   ]
  },
  {
   "cell_type": "code",
   "execution_count": null,
   "metadata": {},
   "outputs": [],
   "source": [
    "# two individually\n",
    "print (my_string[0], my_string[1])"
   ]
  },
  {
   "cell_type": "code",
   "execution_count": null,
   "metadata": {},
   "outputs": [],
   "source": [
    "# Index a 'slice'\n",
    "print (my_string[0:6])"
   ]
  },
  {
   "cell_type": "markdown",
   "metadata": {},
   "source": [
    "**Important** As opposed to R, Python is a 0-index language. Meaning, the first item is indexed at 0, rather than 1, like in R. Ask me if you need clarification."
   ]
  },
  {
   "cell_type": "markdown",
   "metadata": {},
   "source": [
    "Objects of integer or float types can also be assigned to variables, called and `print()`-ed in the same way that string objects can."
   ]
  },
  {
   "cell_type": "code",
   "execution_count": null,
   "metadata": {},
   "outputs": [],
   "source": [
    "# numeric (integer/float)\n",
    "a = 18\n",
    "b = 32\n",
    "c = 30.00\n",
    "print (a,b,c)"
   ]
  },
  {
   "cell_type": "code",
   "execution_count": null,
   "metadata": {},
   "outputs": [],
   "source": [
    "type(a) #int means integer"
   ]
  },
  {
   "cell_type": "markdown",
   "metadata": {},
   "source": [
    "#### 🤨 TASK\n",
    "what is the data type for c?   \n",
    "*Replace the `???` below with your answer*"
   ]
  },
  {
   "cell_type": "code",
   "execution_count": null,
   "metadata": {},
   "outputs": [],
   "source": [
    "???"
   ]
  },
  {
   "cell_type": "markdown",
   "metadata": {},
   "source": [
    "## Basic Python Operators\n",
    "\n",
    "These operators will help you transform and convert between variables, or calculate something that is based on more than one object/ one element within a list of numeric types.\n",
    "\n",
    "**Assignment operators :** ```= ```\n",
    "\n",
    "**Arithmatic operators :** ```+ , - , * , / , ** , %```\n",
    "\n",
    "**Comparison operators :** ```== , != , < , <= , > , >=```\n",
    "Note how, when you want to use `==` as a comparison operator, e.g. to state a condition that, when x **EQUALS** y, then we use a double equal sign, rather than a single one (`=`) which is used for assignment of variables\n",
    "\n",
    "**Logical operators :** ```and , or```"
   ]
  },
  {
   "cell_type": "markdown",
   "metadata": {},
   "source": [
    "*Question:* Before you run the below cell, what do you think it will print"
   ]
  },
  {
   "cell_type": "code",
   "execution_count": null,
   "metadata": {},
   "outputs": [],
   "source": [
    "# arithmatic operators\n",
    "x = 5\n",
    "y = 6\n",
    "z = x + y\n",
    "\n",
    "print(z)"
   ]
  },
  {
   "cell_type": "code",
   "execution_count": null,
   "metadata": {},
   "outputs": [],
   "source": [
    "# comparison operator\n",
    "print (z == x) #generates either TRUE or FALSE"
   ]
  },
  {
   "cell_type": "code",
   "execution_count": null,
   "metadata": {},
   "outputs": [],
   "source": [
    "# logical operator\n",
    "x < y or y < z #generates TRUE if both of these conditions are fulfilled; FALSE otherwise"
   ]
  },
  {
   "cell_type": "markdown",
   "metadata": {},
   "source": [
    "More than simply for summing numerical values, `+` can also be used to concatenate, or join, one or more strings or strings that are stored as Python objects."
   ]
  },
  {
   "cell_type": "code",
   "execution_count": null,
   "metadata": {},
   "outputs": [],
   "source": [
    "#arithmatic operators do not work with strings\n",
    "x = \"Model 1 accuracy:\"\n",
    "y = \"86.5%\"\n",
    "\n",
    "#with the exception of `+`\n",
    "print (x + ' ' + y)"
   ]
  },
  {
   "cell_type": "markdown",
   "metadata": {},
   "source": [
    "#### 🤨 TASK\n",
    "what is the data type for y? And why is it not a float?  \n",
    "*Replace the `???` below with your answer*"
   ]
  },
  {
   "cell_type": "code",
   "execution_count": null,
   "metadata": {},
   "outputs": [],
   "source": [
    "???"
   ]
  },
  {
   "cell_type": "markdown",
   "metadata": {},
   "source": [
    "## Python Keywords\n",
    "\n",
    "Python has a set of **keywords** that are reserved words, of which some you will learn today. Notably the `help()` function can be really useful as it gives you a simple guide on how to use certain functions.\n",
    "\n",
    "While you might not see immediate use of them, they are important to note as they could cause problems, for instance, if you name a variable generically that is coincides with a helpword."
   ]
  },
  {
   "cell_type": "code",
   "execution_count": null,
   "metadata": {},
   "outputs": [],
   "source": [
    "#Python keywords\n",
    "\n",
    "help(\"keywords\")"
   ]
  },
  {
   "cell_type": "code",
   "execution_count": null,
   "metadata": {},
   "outputs": [],
   "source": [
    "help(\"if\")"
   ]
  },
  {
   "cell_type": "markdown",
   "metadata": {},
   "source": [
    "### Lists \n",
    "\n",
    "A list is a mutable ordered sequence of items and these items that are therein enclosed are usually referred to as 'elements'. To define a list in Python, you should enclose the list in square brackets and separate each element from its neighbours using commas.\n",
    "\n",
    "```python\n",
    "l1 = [1,2,3]\n",
    "`````"
   ]
  },
  {
   "cell_type": "code",
   "execution_count": null,
   "metadata": {},
   "outputs": [],
   "source": [
    "#You define a series of lists as follows:\n",
    "\n",
    "l1 = [42, 23.2, \"Hestia\"]\n",
    "\n",
    "l2 = [1, 2, 3, 4]\n",
    "\n",
    "l3 = [2, 4, 128, 27, 12, 30, 90, 100, 1, \"hello world\"]"
   ]
  },
  {
   "cell_type": "code",
   "execution_count": null,
   "metadata": {},
   "outputs": [],
   "source": [
    "# you can access the elements of the list by its index. here is the first element (remember 0 is first)\n",
    "l3[0]"
   ]
  },
  {
   "cell_type": "code",
   "execution_count": null,
   "metadata": {},
   "outputs": [],
   "source": [
    "# you can access the last element of the list by its index in reverse. \n",
    "l3[-1]"
   ]
  },
  {
   "cell_type": "markdown",
   "metadata": {},
   "source": [
    "### Slicing Lists\n",
    "In Python we are able to subset lists, or **slice** them, based on the index of the elements. Why does, in the example below, slicing a list using `[0:2]` return only 2 elements rather than an expected 3?\n",
    "\n",
    "Google something along the lines of \"*slicing in Python*\" to get your answer."
   ]
  },
  {
   "cell_type": "code",
   "execution_count": null,
   "metadata": {},
   "outputs": [],
   "source": [
    "# you can also access the elements of the list by slicing using the colon symbol. \n",
    "l3[0:2]"
   ]
  },
  {
   "cell_type": "code",
   "execution_count": null,
   "metadata": {},
   "outputs": [],
   "source": [
    "# and here is the slice from the second element to the last.\n",
    "l3[2:]"
   ]
  },
  {
   "cell_type": "code",
   "execution_count": null,
   "metadata": {},
   "outputs": [],
   "source": [
    "# lists are defined by [] or list()\n",
    "list1=[1,2,3,4,5,6]\n",
    "\n",
    "# lists can be sliced\n",
    "print (list1[1])\n",
    "print (list1[2:])"
   ]
  },
  {
   "cell_type": "markdown",
   "metadata": {},
   "source": [
    "#### 🤨 TASK\n",
    "can you get the last three items of the list?   \n",
    "*Replace the `???` below with your answer*  \n",
    "*Hint:* Google is your friend  "
   ]
  },
  {
   "cell_type": "code",
   "execution_count": null,
   "metadata": {},
   "outputs": [],
   "source": [
    "???"
   ]
  },
  {
   "cell_type": "markdown",
   "metadata": {},
   "source": [
    "We can also make modification to lists. If you aren't already familiar, what do `list.append()` and `list.pop` do? \n",
    "\n",
    "Once again, you can use Google to aid your understanding (and learn to be comfortable that many things you won't know, Google will) or use the `help()` function we introduced earlier."
   ]
  },
  {
   "cell_type": "code",
   "execution_count": null,
   "metadata": {},
   "outputs": [],
   "source": [
    "# list methods - pop and append\n",
    "list1=[1,2,3,4,5,6]\n",
    "list1.append(7)\n",
    "list1.pop(2)\n",
    "#\n",
    "print(list1)"
   ]
  },
  {
   "cell_type": "markdown",
   "metadata": {},
   "source": [
    "#### 🤨 TASK\n",
    "Run the below cell, look at the outputs and then repeat a few times. Can you work out what is happening to this variable, and how to restore this variable  \n",
    "*Hint:* It may be abstract, but think about how memory works in this notebok"
   ]
  },
  {
   "cell_type": "code",
   "execution_count": null,
   "metadata": {},
   "outputs": [],
   "source": [
    "list1.pop(2)\n",
    "print(list1)"
   ]
  },
  {
   "cell_type": "markdown",
   "metadata": {},
   "source": [
    "## Control Structures\n",
    "\n",
    "A control structure is similar to a block of programming that analyses variables and chooses a pathway to follow based on the given parameters that are usually user-defined. It represents the basic decision-making process in computing and  can be implemented through three basic types, namely to sequence the execution of code (i.e. one line after another), selecting/ branching between pathways (used for decisions) and repetition (e.g. for looping).\n",
    "\n",
    "The examples of control structures we will learn about include:\n",
    "\n",
    "<img src=\"figures/flowchart.jpg\"> \n",
    "\n",
    "<center><b>Fig 1. Flowchart describing the control and flow statements.</b></center>\n",
    "\n",
    "* **if** (Branching)\n",
    "* **if/else** (Branching)\n",
    "* **while** (Looping)\n",
    "* **for/in** (Looping)"
   ]
  },
  {
   "cell_type": "markdown",
   "metadata": {},
   "source": [
    "### 'If' statement\n",
    "Conditional statements in Python are handled by the `if` statement. They allow our code to take one of at least two possible alternatives, depending on whether the condition stated with the `if` statement is fulfilled. The user may choose either to pair the `if` statement with an `else` statement to state what would happen otherwise, but the `else` statement could also be omitted, in which case nothing happens if the `if` statement is unfulfilled.\n"
   ]
  },
  {
   "cell_type": "code",
   "execution_count": null,
   "metadata": {},
   "outputs": [],
   "source": [
    "### if/else conditions\n",
    "steps=9\n",
    "if steps==10:\n",
    "    print (\"True\")\n",
    "else:\n",
    "    print (\"False\")"
   ]
  },
  {
   "cell_type": "code",
   "execution_count": null,
   "metadata": {},
   "outputs": [],
   "source": [
    "x=8\n",
    "y=9\n",
    "z=10\n",
    "\n",
    "# multiple conditions\n",
    "if x>y:\n",
    "    print (True)\n",
    "elif y>z:\n",
    "    print (True)\n",
    "else:\n",
    "    print (False)"
   ]
  },
  {
   "cell_type": "markdown",
   "metadata": {},
   "source": [
    "### 'For' statement\n",
    "\n",
    "`for` statements are used when you have a block of code which you want to recursively or repeatedly run over multiple input values. The `for` keyword is used to loop over an iteratable object such as strings, lists or range. "
   ]
  },
  {
   "cell_type": "code",
   "execution_count": null,
   "metadata": {},
   "outputs": [],
   "source": [
    "# list as an iterator\n",
    "ls1 = [1, 2, 3, 4, 5, 6]\n",
    "\n",
    "#prints all elements in list\n",
    "for i in ls1: \n",
    "    print (i)"
   ]
  },
  {
   "cell_type": "markdown",
   "metadata": {},
   "source": [
    "We can also loop through other data types, like strings..."
   ]
  },
  {
   "cell_type": "code",
   "execution_count": null,
   "metadata": {},
   "outputs": [],
   "source": [
    "### string as an interator\n",
    "text = \"hello world\"\n",
    "\n",
    "#prints elements of string individually\n",
    "for i in text:\n",
    "    print (i)"
   ]
  },
  {
   "cell_type": "code",
   "execution_count": null,
   "metadata": {},
   "outputs": [],
   "source": [
    "# generate an iterator with range\n",
    "for i in range(0, 10, 1):\n",
    "    print (i)"
   ]
  },
  {
   "cell_type": "markdown",
   "metadata": {},
   "source": [
    "#### 🤨 optional TASK\n",
    "How does 'range' function in the previous cell work? If you want, try googling range, to see how it works.   \n",
    "Alternatively use the 'help' function in a new cell below."
   ]
  },
  {
   "cell_type": "markdown",
   "metadata": {},
   "source": [
    "### 'While' statement\n",
    "\n",
    "The `while` statement is similarly used for looping over a group of values. However, its use differs in that a condition needs to be checked for each iteration and looping may stop before the last value is reached if the condition stated is no longer satisfied. The `while` statement could also be used to repeat a block of code (almost) forever.\n"
   ]
  },
  {
   "cell_type": "code",
   "execution_count": null,
   "metadata": {},
   "outputs": [],
   "source": [
    "### while loops\n",
    "steps=10\n",
    "i=0\n",
    "while i<steps:\n",
    "    print ('hello world')\n",
    "    i=i+1\n",
    "    print (i)"
   ]
  },
  {
   "cell_type": "markdown",
   "metadata": {},
   "source": [
    "#### 🤨 TASK\n",
    "can you combine a `for` loop and `if` and `else` condition so that you print `finished` when you reach the last item of the following list; `lst=[0,1,2,3,4,5,6,7,8,9]`  \n",
    "*Replace the `???` below with your answer*"
   ]
  },
  {
   "cell_type": "code",
   "execution_count": null,
   "metadata": {},
   "outputs": [],
   "source": [
    "???"
   ]
  },
  {
   "cell_type": "markdown",
   "metadata": {},
   "source": [
    "### Errors and Exceptions\n",
    "Understanding Python's errors and exceptions, will take a lot of practice, but we are going to introduce them to you here. Please ask questions about any errors you are unfamiliar with...\n",
    "\n",
    "There are two types of errors in python and having an understanding of them may help you to debug your code\n",
    ".\n",
    "* One is called syntax error or parsing errors where you will see a little “arrow” (^) pointing you to the error in your code. A syntax error indicates that your writing of the Python code was \"ungrammatical\" in one place or another.\n",
    "\n",
    "> SyntaxError: EOL while scanning string literal\n",
    "\n",
    "* The other is called Exceptions. This is when the syntax is correct but there is an error when it executes it.\n",
    "\n",
    "> NameError: name 'UCL' is not defined\n",
    "\n",
    "Right below this is an example of a `SyntaxError`. What do you think is the problem?"
   ]
  },
  {
   "cell_type": "code",
   "execution_count": null,
   "metadata": {},
   "outputs": [],
   "source": [
    "print ('helloworld)"
   ]
  },
  {
   "cell_type": "markdown",
   "metadata": {},
   "source": [
    "In the code chunk below, the code is just slightly different from the code in the chunk above. Why does it work and what is the difference in the objects that we are inputting into `print()`?"
   ]
  },
  {
   "cell_type": "code",
   "execution_count": null,
   "metadata": {},
   "outputs": [],
   "source": [
    "helloworld=\"hello world'\n",
    "print(helloworld)"
   ]
  },
  {
   "cell_type": "markdown",
   "metadata": {},
   "source": [
    "As shown in the example below, we could also write a very simple programme in Python whereby, if the condition in `try:` is not fulfilled, then what code is under the `except:` clause is executed instead."
   ]
  },
  {
   "cell_type": "code",
   "execution_count": null,
   "metadata": {},
   "outputs": [],
   "source": [
    "# try and except allows you to catch an exception\n",
    "try: \n",
    "    hello___world\n",
    "except: \n",
    "    print ('yes')"
   ]
  },
  {
   "cell_type": "markdown",
   "metadata": {},
   "source": [
    "# Extra\n",
    "### Writing 'clean' Python\n",
    "There is an official style guide for Python which is called Pep8. This details how you should structure your code, name things and seperate lines. This keeps your code readable and 'Pythonic'  \n",
    "Here are the official detailed docs: https://peps.python.org/pep-0008/   \n",
    "Here is a quick cheat sheet: https://cheatography.com/jmds/cheat-sheets/python-pep8-style-guide/\n"
   ]
  },
  {
   "cell_type": "markdown",
   "metadata": {},
   "source": []
  }
 ],
 "metadata": {
  "kernelspec": {
   "display_name": "hestia",
   "language": "python",
   "name": "python3"
  },
  "language_info": {
   "codemirror_mode": {
    "name": "ipython",
    "version": 3
   },
   "file_extension": ".py",
   "mimetype": "text/x-python",
   "name": "python",
   "nbconvert_exporter": "python",
   "pygments_lexer": "ipython3",
   "version": "3.12.0"
  }
 },
 "nbformat": 4,
 "nbformat_minor": 2
}
